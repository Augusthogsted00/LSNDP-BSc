{
 "cells": [
  {
   "cell_type": "markdown",
   "metadata": {},
   "source": [
    "# Initialization"
   ]
  },
  {
   "cell_type": "code",
   "execution_count": 1,
   "metadata": {},
   "outputs": [],
   "source": [
    "using CSV, DataFrames, JuMP, HiGHS, LinearAlgebra, DataStructures, Statistics, GLPK\n",
    "baltic_demand = DataFrame(CSV.File(\"/Users/augusthogsted/WD/Bachelor projekt/LINERLIB-master/data/Demand_Baltic.csv\", delim='\\t'))\n",
    "ports = DataFrame(CSV.File(\"/Users/augusthogsted/WD/Bachelor projekt/LINERLIB-master/data/ports.csv\", delim='\\t'))\n",
    "distances = DataFrame(CSV.File(\"/Users/augusthogsted/WD/Bachelor projekt/LINERLIB-master/data/dist_dense.csv\", delim='\\t'))\n",
    "baltic_fleet = DataFrame(CSV.File(\"/Users/augusthogsted/WD/Bachelor projekt/LINERLIB-master/data/fleet_Baltic.csv\", delim='\\t'))\n",
    "fleet_data = DataFrame(CSV.File(\"/Users/augusthogsted/WD/Bachelor projekt/LINERLIB-master/data/fleet_data.csv\", delim='\\t'))\n",
    ";"
   ]
  },
  {
   "cell_type": "code",
   "execution_count": 2,
   "metadata": {},
   "outputs": [],
   "source": [
    "commodities = []\n",
    "for i in 1:size(baltic_demand, 1)\n",
    "    push!(commodities, string(baltic_demand.Origin[i], \"s\", \"|\", baltic_demand.Destination[i], \"t\"))\n",
    "end"
   ]
  },
  {
   "cell_type": "markdown",
   "metadata": {},
   "source": [
    "### Services:\n",
    "\n",
    "The following array contains manual generated services to which the column generation will be applied."
   ]
  },
  {
   "cell_type": "code",
   "execution_count": 3,
   "metadata": {},
   "outputs": [],
   "source": [
    "# services = [[\"Feeder_800\" \"DEBRV\" \"NOKRS\" \"DEBRV\"],\n",
    "#             [\"Feeder_800\" \"RUKGD\" \"FIKTK\" \"RUKGD\"],\n",
    "#             [\"Feeder_450\" \"DEBRV\" \"NOSVG\" \"DEBRV\"],\n",
    "#             [\"Feeder_450\" \"NOAES\" \"NOBGO\" \"NOAES\"],\n",
    "#             [\"Feeder_450\" \"NOKRS\" \"SEGOT\" \"DKAAR\" \"NOKRS\"],\n",
    "#             [\"Feeder_800\" \"DEBRV\" \"SEGOT\" \"DKAAR\" \"DEBRV\"],\n",
    "#             [\"Feeder_450\" \"DEBRV\" \"NOSVG\" \"NOBGO\" \"NOAES\" \"DEBRV\"],\n",
    "#             [\"Feeder_450\" \"SEGOT\" \"DKAAR\" \"PLGDY\" \"RUKGD\" \"SEGOT\"],\n",
    "#             [\"Feeder_450\" \"DEBRV\" \"NOAES\" \"DEBRV\" \"RULED\" \"DEBRV\"],\n",
    "#             [\"Feeder_450\" \"DEBRV\" \"RUKGD\" \"PLGDY\" \"DKAAR\" \"SEGOT\" \"DEBRV\"],\n",
    "#             [\"Feeder_800\" \"PLGDY\" \"RUKGD\" \"RULED\" \"FIKTK\" \"FIRAU\" \"PLGDY\"],\n",
    "#             [\"Feeder_450\" \"PLGDY\" \"RUKGD\" \"FIKTK\" \"RULED\" \"FIRAU\" \"PLGDY\"],\n",
    "#             [\"Feeder_450\" \"NOKRS\" \"SEGOT\" \"DKAAR\" \"PLGDY\" \"RUKGD\" \"PLGDY\" \"DKAAR\" \"SEGOT\" \"NOKRS\"],\n",
    "#             [\"Feeder_800\" \"NOAES\" \"NOBGO\" \"NOSVG\" \"NOKRS\" \"SEGOT\" \"DKAAR\" \"SEGOT\" \"NOKRS\" \"NOSVG\" \"NOBGO\" \"NOAES\"]]\n",
    "\n",
    "# services = [[33.0 2 \"Feeder_800\" \"DEBRV\" \"NOKRS\" \"DEBRV\"],\n",
    "#                 [33.0 2 \"Feeder_800\" \"NOKRS\" \"NOSVG\" \"NOBGO\" \"NOAES\" \"NOKRS\"],\n",
    "#                 [33.0 2 \"Feeder_450\" \"NOKRS\" \"SEGOT\" \"DKAAR\" \"NOKRS\"],\n",
    "#                 [33.0 2 \"Feeder_800\" \"DKAAR\" \"PLGDY\" \"RUKGD\" \"DKAAR\"],\n",
    "#                 [33.0 2 \"Feeder_450\" \"SEGOT\" \"FIRAU\" \"FIKTK\" \"RULED\" \"SEGOT\"]]\n",
    "\n",
    "# services = [[33.0 2 \"Feeder\" \"DEBRV\" \"DKAAR\" \"SEGOT\" \"FIRAU\" \"DEBRV\"],\n",
    "#             [33.0 2 \"Feeder\" \"NOKRS\" \"DKAAR\" \"SEGOT\" \"NOBGO\" \"NOKRS\"]]\n",
    "\n",
    "services = [\n",
    "    [200000 1 \"Feeder_450\" \"DEBRV\" \"NOSVG\" \"NOBGO\" \"NOAES\" \"DEBRV\"],\n",
    "    [130000 1 \"Feeder_450\" \"DEBRV\" \"RUKGD\" \"FIKTK\" \"FIRAU\" \"PLGDY\" \"DEBRV\"],\n",
    "    [97000 1 \"Feeder_450\" \"DEBRV\" \"DKAAR\" \"SEGOT\" \"NOKRS\" \"DEBRV\"],\n",
    "    [100000 1 \"Feeder_800\" \"DEBRV\" \"SEGOT\" \"RULED\" \"DEBRV\"]\n",
    "]\n",
    "\n",
    "\n",
    "# Initialize an empty Set to store unique ports\n",
    "service_ports = []\n",
    "# Iterate through the subarrays and add the unique ports to the set\n",
    "for service in services\n",
    "    for port in service[4:end]\n",
    "        push!(service_ports, port)\n",
    "    end\n",
    "end\n",
    "service_ports = unique(service_ports);\n"
   ]
  },
  {
   "cell_type": "code",
   "execution_count": 4,
   "metadata": {},
   "outputs": [],
   "source": [
    "# List of ports that have intersecting service\n",
    "intersect_ports = []\n",
    "for i in 1:length(services)\n",
    "    for j in i+1:length(services)\n",
    "        push!(intersect_ports, intersect([[row[4:end]...] for row in services][i], [[row[4:end]...] for row in services][j]))\n",
    "    end\n",
    "end\n",
    "intersect_ports = collect(Set(i for j in intersect_ports for i in j)); # Collecting unique transshipment nodes\n",
    "\n",
    "# Adding transshipment nodes where services intersect\n",
    "services_w_transshipment = []\n",
    "transshipment_nodes = []\n",
    "i = 1\n",
    "for service in services\n",
    "    updated_service = []\n",
    "    for port in service\n",
    "        if port in intersect_ports\n",
    "            push!(updated_service, port * string(i)) # vi behøves i realiteten ikke at update vores serivces\n",
    "            push!(transshipment_nodes, port * string(i))\n",
    "        else\n",
    "            push!(updated_service, port)\n",
    "        end\n",
    "    end\n",
    "    push!(services_w_transshipment, updated_service)\n",
    "    i += 1\n",
    "end\n",
    "transshipment_nodes = unique(transshipment_nodes);"
   ]
  },
  {
   "cell_type": "code",
   "execution_count": 5,
   "metadata": {},
   "outputs": [],
   "source": [
    "# Source and terminal adjacency list\n",
    "s_t_adj = []\n",
    "for port in service_ports\n",
    "    for node in transshipment_nodes\n",
    "        if port == node[1:5]\n",
    "            push!(s_t_adj, [string(port, \"s\"), node, parse.(Float64, ports[ports.UNLocode .== port, 9][1])  + ports[ports.UNLocode .== port, 12][1]])\n",
    "            push!(s_t_adj, [node, string(port, \"t\"), parse.(Float64, ports[ports.UNLocode .== port, 9][1]) + ports[ports.UNLocode .== port, 12][1]])\n",
    "        end\n",
    "    end\n",
    "    if port ∉ intersect_ports\n",
    "        push!(s_t_adj, [string(port, \"s\"), port, parse.(Float64, ports[ports.UNLocode .== port, 9][1])  + ports[ports.UNLocode .== port, 12][1]])\n",
    "        push!(s_t_adj, [port, string(port, \"t\"), parse.(Float64, ports[ports.UNLocode .== port, 9][1])  + ports[ports.UNLocode .== port, 12][1]])\n",
    "    end\n",
    "end"
   ]
  },
  {
   "cell_type": "code",
   "execution_count": 6,
   "metadata": {},
   "outputs": [],
   "source": [
    "# Source and terminal adjacency list\n",
    "s_t_adj = []\n",
    "for port in service_ports\n",
    "    for node in transshipment_nodes\n",
    "        if port == node[1:5]\n",
    "            push!(s_t_adj, [string(port, \"s\"), node, parse.(Float64, ports[ports.UNLocode .== port, 9][1])  + ports[ports.UNLocode .== port, 12][1]])\n",
    "            push!(s_t_adj, [node, string(port, \"t\"), parse.(Float64, ports[ports.UNLocode .== port, 9][1]) + ports[ports.UNLocode .== port, 12][1]])\n",
    "        end\n",
    "    end\n",
    "    if port ∉ intersect_ports\n",
    "        push!(s_t_adj, [string(port, \"s\"), port, parse.(Float64, ports[ports.UNLocode .== port, 9][1])])\n",
    "        push!(s_t_adj, [port, string(port, \"t\"), parse.(Float64, ports[ports.UNLocode .== port, 9][1])])\n",
    "    end\n",
    "end\n",
    "\n",
    "# Transshipment nodes adjacency list\n",
    "transshipment_adj = []\n",
    "for node in intersect_ports, i in transshipment_nodes, j in transshipment_nodes\n",
    "    if j!=i && contains(i, node) && contains(j, node)\n",
    "        push!(transshipment_adj, [i, j, parse.(Float64, ports[ports.UNLocode .== node, 10][1])]) # Skal vi også have move omkostninger med, da vi skal load og disch?\n",
    "    end\n",
    "end\n",
    "\n",
    "# Service ports adjacency list\n",
    "ports_adj = []\n",
    "test = []\n",
    "for service in 1:length(services_w_transshipment)\n",
    "    for port in 5:length(services_w_transshipment[service]) # Hvad gør vi med port call omkostninger?\n",
    "        push!(ports_adj, [services_w_transshipment[service][port-1], services_w_transshipment[service][port], 0.0]) # ports[ports.UNLocode .== services_w_transshipment[service][port][1:5], 12][1]]\n",
    "    end\n",
    "end\n",
    "\n",
    "# Penalty edges adjacency list\n",
    "penalty_adj = []\n",
    "for k in 1:size(baltic_demand,1)\n",
    "    push!(penalty_adj, [string(baltic_demand.Origin[k], \"s\"), string(baltic_demand.Destination[k], \"t\"), 1000])\n",
    "end\n",
    "\n",
    "dummy_adj = []\n",
    "for port in 1:length(service_ports)\n",
    "    push!(dummy_adj, [string(service_ports[port], \"t\"), nothing, 0.0])\n",
    "end\n",
    "\n",
    "edges = vcat(ports_adj, s_t_adj, transshipment_adj, penalty_adj, dummy_adj);"
   ]
  },
  {
   "cell_type": "code",
   "execution_count": 7,
   "metadata": {},
   "outputs": [
    {
     "data": {
      "text/plain": [
       "get_G (generic function with 1 method)"
      ]
     },
     "metadata": {},
     "output_type": "display_data"
    }
   ],
   "source": [
    "function get_G(edges)\n",
    "    # Create an empty adjacency list\n",
    "    graph = Dict{String, Vector{Tuple{Any, Float64}}}()  # Use Tuple to store (target, VC)\n",
    "    #graph = Dict{String, Vector{Tuple{String, Float64}}}()  # Use Tuple to store (target, VC)\n",
    "\n",
    "    # Populate the adjacency list\n",
    "    for edge in edges\n",
    "        source, target, weight = edge\n",
    "        if haskey(graph, source)\n",
    "            push!(graph[source], (target, weight))\n",
    "        else\n",
    "            graph[source] = [(target, weight)]\n",
    "        end\n",
    "    end\n",
    "\n",
    "    return graph\n",
    "end"
   ]
  },
  {
   "cell_type": "code",
   "execution_count": 8,
   "metadata": {},
   "outputs": [
    {
     "data": {
      "text/plain": [
       "dijkstra (generic function with 1 method)"
      ]
     },
     "metadata": {},
     "output_type": "display_data"
    }
   ],
   "source": [
    "function dijkstra(G, source, destination)\n",
    "    dist = Dict{Any, Float64}()\n",
    "    prev = Dict{Any, Any}()\n",
    "    Q = Set(keys(G))\n",
    "\n",
    "    for v in Q\n",
    "        dist[v] = Inf\n",
    "        prev[v] = nothing\n",
    "    end\n",
    "\n",
    "    dist[source] = 0.0\n",
    "\n",
    "    while !isempty(Q)\n",
    "        min_value = Inf\n",
    "        min_key = string()\n",
    "        for i in Q\n",
    "            if dist[i] <= min_value\n",
    "                min_value = dist[i]\n",
    "                min_key = i\n",
    "            end\n",
    "        end\n",
    "        u = min_key\n",
    "\n",
    "        if dist[u] == Inf\n",
    "            break\n",
    "        end\n",
    "        if u == destination\n",
    "            break\n",
    "        end\n",
    "        \n",
    "        delete!(Q, u)\n",
    "\n",
    "        for v in G[u]\n",
    "            if haskey(G, v[1])\n",
    "                alt = dist[u] + v[2]\n",
    "                if alt < dist[v[1]]\n",
    "                    dist[v[1]] = alt\n",
    "                    prev[v[1]] = u\n",
    "                end\n",
    "            else\n",
    "                break\n",
    "            end\n",
    "        end\n",
    "    end\n",
    "\n",
    "    S = []\n",
    "    u = destination\n",
    "    push!(S, u)\n",
    "\n",
    "    while prev[u] != nothing\n",
    "        push!(S, u)\n",
    "        u = prev[u]\n",
    "    end\n",
    "    push!(S, source)\n",
    "    \n",
    "    return reverse(S[2:end]), dist[destination]\n",
    "end\n"
   ]
  },
  {
   "cell_type": "markdown",
   "metadata": {},
   "source": [
    "## Flowproblem"
   ]
  },
  {
   "cell_type": "markdown",
   "metadata": {},
   "source": [
    "### Initialization"
   ]
  },
  {
   "cell_type": "code",
   "execution_count": 9,
   "metadata": {},
   "outputs": [],
   "source": [
    "current_paths = []\n",
    "current_costs = []\n",
    "current_commodities = []\n",
    ";"
   ]
  },
  {
   "cell_type": "markdown",
   "metadata": {},
   "source": [
    "## Basis"
   ]
  },
  {
   "cell_type": "code",
   "execution_count": 10,
   "metadata": {},
   "outputs": [],
   "source": [
    "# Bases med penalty edges\n",
    "for i in 1:length(penalty_adj)\n",
    "    push!(current_paths, penalty_adj[i][1:2])\n",
    "    push!(current_costs, penalty_adj[i][3])\n",
    "    append!(current_commodities, i)\n",
    "end\n",
    "\n",
    "\n",
    "# Edges with capacity constraint\n",
    "i_j = []\n",
    "for edge in edges\n",
    "    if edge ∈ (ports_adj)\n",
    "        push!(i_j, string(edge[1], \"|\", edge[2]))\n",
    "    end\n",
    "end\n",
    "\n",
    "n_ij = size(i_j, 1) # Number of edges\n",
    "ij = 1:n_ij # Range of edges\n",
    "\n",
    "# Initializing parameters\n",
    "n_k = size(baltic_demand.Origin, 1) # Number of commodities\n",
    "K = 1:n_k\n",
    "\n",
    "n_s = size(services_w_transshipment, 1) # Number of services\n",
    "S = 1:n_s\n",
    "\n",
    "n_ff = size(penalty_adj, 1) # Number of penalty edges\n",
    "ff = 1:n_ff\n",
    "index_ff = 1:n_k # Index of penalty paths\n",
    "\n",
    "n_p = size(current_paths, 1) # Number of paths\n",
    "P = 1:n_p\n",
    "\n",
    "n_mv = size(baltic_fleet, 1)\n",
    "v = 1:n_mv\n",
    ";"
   ]
  },
  {
   "cell_type": "code",
   "execution_count": 11,
   "metadata": {},
   "outputs": [
    {
     "data": {
      "text/plain": [
       "1:22"
      ]
     },
     "metadata": {},
     "output_type": "display_data"
    }
   ],
   "source": [
    "# Initial base including penalty edges\n",
    "PK = Matrix{Float64}(undef, n_k, 0) # Type of commodity for each path\n",
    "mvs = Matrix{Float64}(undef, n_mv, 0) # Type of vessel on each commodity\n",
    "aij = Matrix{Float64}(undef, n_ij, 0)\n",
    "uij = Matrix{Float64}(undef, n_ij, 0) # vessel capacity if service s uses edge (i,j), else 0\n",
    "\n",
    "# Constraint matrices for commodidty paths PK and edges used\n",
    "for i in P\n",
    "    ak = zeros(Float64, n_ij)\n",
    "    pk = zeros(Float64, n_k)\n",
    "    for j in 2:length(current_paths[i])\n",
    "        if string(current_paths[i][j-1], \"|\", current_paths[i][j]) ∈ i_j\n",
    "            ak[findall(x -> x == string(current_paths[i][j-1], \"|\", current_paths[i][j]), i_j)[1]] = 1\n",
    "        end\n",
    "    end\n",
    "    pk[findall(x -> x == string(current_paths[i][1], \"|\", current_paths[i][end]), commodities)[1]] = 1\n",
    "    aij = [aij ak]\n",
    "    PK = [PK pk]\n",
    "end\n",
    "\n",
    "# Constraint matrix for edge capacities\n",
    "for i in 1:length(services_w_transshipment)\n",
    "    us = zeros(Float64, n_ij)\n",
    "    for j in 5:length(services_w_transshipment[i])\n",
    "        us[findall(x -> x == string(services_w_transshipment[i][j-1], \"|\", services_w_transshipment[i][j]), i_j)[1]] = fleet_data[fleet_data.\"Vessel class\" .== services_w_transshipment[i][3], 2][1]\n",
    "    end\n",
    "    uij = [uij us]\n",
    "end\n",
    "\n",
    "# Constraint matrix for service vessels\n",
    "for i in services\n",
    "    mv = zeros(Float64, n_mv)\n",
    "    mv[findall(x -> x == i[3], baltic_fleet.\"Vessel class\")[1]] = 1\n",
    "    mvs = [mvs mv]\n",
    "end\n",
    "\n",
    "P = 1:length(current_paths)\n",
    "A = 1:size(aij, 2)"
   ]
  },
  {
   "cell_type": "markdown",
   "metadata": {},
   "source": [
    "### Basis problem with penalty only"
   ]
  },
  {
   "cell_type": "code",
   "execution_count": 12,
   "metadata": {},
   "outputs": [],
   "source": [
    "flowModel = Model(GLPK.Optimizer)\n",
    "@variable(flowModel, x[P] >= 0)\n",
    "@variable(flowModel, 0 <= y[S] <= 1)\n",
    "@objective(flowModel, Min, sum(services_w_transshipment[i][1]*y[i] for i in S) + sum(current_costs[j]*x[j] for j in P))\n",
    "@constraint(flowModel, Y_ij[i=1:n_ij], sum(aij[i, j] * x[j] for j in A) <= sum(uij[i, j] * y[j] for j in S)) # Paths that uses edge ij\n",
    "@constraint(flowModel, Y_k[i=1:n_k], sum(PK[i, j] * x[j] for j in P) == baltic_demand.FFEPerWeek[i]) # Paths for commodity k ∈ K\n",
    "@constraint(flowModel, M_v[i=1:n_mv], sum(mvs[i, j] * y[j] for j in S) <= baltic_fleet.Quantity[i])\n",
    "#print(flowModel)\n",
    "optimize!(flowModel)\n",
    "solution_summary(flowModel)\n",
    "\n",
    "dual_Y_k = [dual(flowModel[:Y_k][i]) for i in K] # Dual variables for commodities at iteration 1 \n",
    "dual_Y_ij = [dual(flowModel[:Y_ij][i]) for i in ij] # Dual variables for edges at iteration 1 \n",
    "reduced_cost = [-1.0] # Kickstarting while loop\n",
    ";\n"
   ]
  },
  {
   "cell_type": "code",
   "execution_count": 17,
   "metadata": {},
   "outputs": [
    {
     "name": "stdout",
     "output_type": "stream",
     "text": [
      "[0.0, 0.0, 0.0, 0.0, 0.0, 0.0, 0.0, 0.0, 0.0, 0.0, 0.0, 0.0, 0.0, 0.0, 0.0, 0.0, 0.0, 0.0, 0.0, 0.0, 0.0, 0.0]\n",
      "[-341.44444444444434, 0.0, 0.0, -103.0, -554.0, 0.0, 0.0, 0.0, -591.0, -358.0, 0.0, 0.0, -357.99999999999994, -358.0, -159.0, -198.99999999999997]\n"
     ]
    }
   ],
   "source": [
    "#while any(reduced_cost .< 0)\n",
    "\n",
    "append!(dual_Y_ij, zeros(Float64, length(edges) - length(ports_adj)))\n",
    "\n",
    "# Initializing feasible paths\n",
    "candidate_paths = []\n",
    "candidate_costs = []\n",
    "candidate_commodities = []\n",
    "\n",
    "# Cost for shortest path\n",
    "cij = []\n",
    "\n",
    "# Setting up new network with reduced cost\n",
    "edges_w_dual = deepcopy(edges)\n",
    "for i in 1:length(edges_w_dual)\n",
    "    edges_w_dual[i][3] = edges_w_dual[i][3] - dual_Y_ij[i]\n",
    "end\n",
    "\n",
    "for i in 1:size(baltic_demand, 1)\n",
    "    c = 0\n",
    "    path, cost = dijkstra(get_G(edges_w_dual), string(baltic_demand.Origin[i],\"s\"), string(baltic_demand.Destination[i],\"t\"))\n",
    "    for j in 2:length(path)\n",
    "        for edge in edges\n",
    "            if edge[1] == path[j-1] && edge[2] == path[j]\n",
    "                c += edge[3]\n",
    "            end\n",
    "        end\n",
    "    end\n",
    "    push!(candidate_costs, c)\n",
    "    #lav et for loop der tjekker omkostningen fra i,j i path\n",
    "    push!(candidate_paths, path)\n",
    "    push!(cij, cost)\n",
    "    append!(candidate_commodities, i)\n",
    "end\n",
    "\n",
    "# bevar candidate cost da vi bruger den her, men costen i vores model/objektfunktion skal være de originale omkostninger fra 'edges'\n",
    "reduced_cost = cij - dual_Y_k - baltic_demand[:,4]\n",
    "\n",
    "\n",
    "cp_r_k = candidate_paths[reduced_cost .< 0] #candidate_paths[reduced_cost .== minimum(reduced_cost)]\n",
    "\n",
    "for i in 1:length(cp_r_k)\n",
    "    ak = zeros(Float64, n_ij)\n",
    "    pk = zeros(Float64, n_k)\n",
    "    for j in 2:length(cp_r_k[i])\n",
    "        if string(cp_r_k[i][j-1], \"|\", cp_r_k[i][j]) ∈ i_j\n",
    "            ak[findall(x -> x == string(cp_r_k[i][j-1], \"|\", cp_r_k[i][j]), i_j)[1]] = 1\n",
    "        end\n",
    "    end\n",
    "    pk[findall(x -> x == string(cp_r_k[i][1], \"|\", cp_r_k[i][end]), commodities)[1]] = 1\n",
    "    aij = [aij ak]\n",
    "    PK = [PK pk]\n",
    "    push!(current_paths, cp_r_k[i])\n",
    "    push!(current_costs, candidate_costs[reduced_cost .< 0][i])\n",
    "    append!(current_commodities, findall(x -> x == string(cp_r_k[i][1], \"|\", cp_r_k[i][end]), commodities)[1])\n",
    "end\n",
    "\n",
    "# Cost på ij skal være fra originalt netværk (vi skal ikke have reducd cost med)\n",
    "\n",
    "P = 1:length(current_paths)\n",
    "n_p = length(current_paths)\n",
    "A = 1:size(aij, 2)\n",
    "\n",
    "revenue = zeros(Int64, n_ff)\n",
    "append!(revenue, [baltic_demand[current_commodities[i],4][1] for i in n_ff+1:n_p])\n",
    "\n",
    "\n",
    "flowModel = Model(GLPK.Optimizer)\n",
    "@variable(flowModel, x[P] >= 0)\n",
    "@variable(flowModel, 0 <= y[S] <= 1)\n",
    "@objective(flowModel, Min, sum(services_w_transshipment[i][1]*y[i] for i in S) + sum((current_costs[j]-revenue[j])*x[j] for j in P))\n",
    "@constraint(flowModel, Y_ij[i=1:n_ij], sum(aij[i, j] * x[j] for j in A) <= sum(uij[i, j] * y[j] for j in S)) # Paths that uses edge ij\n",
    "@constraint(flowModel, Y_k[i=1:n_k], sum(PK[i, j] * x[j] for j in P) == baltic_demand.FFEPerWeek[i]) # Paths for commodity k ∈ K\n",
    "@constraint(flowModel, M_v[i=1:n_mv], sum(mvs[i, j] * y[j] for j in S) <= baltic_fleet.Quantity[i])\n",
    "optimize!(flowModel)\n",
    "# print(flowModel)\n",
    "\n",
    "dual_Y_k = [dual(flowModel[:Y_k][i]) for i in K]\n",
    "dual_Y_ij = [dual(flowModel[:Y_ij][i]) for i in ij]\n",
    "println(reduced_cost)\n",
    "\n",
    "println(dual_Y_ij)\n",
    "\n",
    "# end\n",
    "# primal_x = value.(x[P])\n",
    "# primal_y = value.(y[S])\n"
   ]
  },
  {
   "cell_type": "code",
   "execution_count": 19,
   "metadata": {},
   "outputs": [
    {
     "name": "stdout",
     "output_type": "stream",
     "text": [
      "Min 200000 y[1] + 130000 y[2] + 97000 y[3] + 100000 y[4] + 1000 x[1] + 1000 x[2] + 1000 x[3] + 1000 x[4] + 1000 x[5] + 1000 x[6] + 1000 x[7] + 1000 x[8] + 1000 x[9] + 1000 x[10] + 1000 x[11] + 1000 x[12] + 1000 x[13] + 1000 x[14] + 1000 x[15] + 1000 x[16] + 1000 x[17] + 1000 x[18] + 1000 x[19] + 1000 x[20] + 1000 x[21] + 1000 x[22] - 711 x[23] - 148 x[24] - 522 x[25] - 804 x[26] - 713 x[27] - 743 x[28] - 287 x[29] - 1452 x[30] - 424 x[31] - 721 x[32] - 526 x[33] - 572 x[34] - 780 x[35] - 183 x[36] - 663 x[37] - 307 x[38] - 62 x[39] - 800 x[40] - 518 x[41] - 107 x[42] - 506 x[43] - 277 x[44] - 120 x[45] + 210 x[46] - 250 x[47] - 40 x[48] - 287 x[49] + 130 x[50] - 130 x[51] - 150 x[52] - 130 x[53] - 80 x[54] + 40 x[55] + 220 x[56] - 150 x[57] + 410 x[58] + 140 x[59] + 240 x[60] - 610 x[61] + 240 x[62] + 120 x[63] - 160 x[64] - 363 x[65] - 307 x[66] + 36 x[67]\n",
      "Subject to\n",
      " "
     ]
    },
    {
     "name": "stdout",
     "output_type": "stream",
     "text": [
      "Y_k[1] : x[1] + x[23] + x[45] = 77\n",
      " Y_k[2] : x[2] + x[24] + x[46] = 456\n",
      " Y_k[3] : x[3] + x[25] = 65\n",
      " Y_k[4] : x[4] + x[26] + x[47] = 7\n",
      " Y_k[5] : x[5] + x[27] + x[61] = 10\n",
      " Y_k[6] : x[6] + x[28] + x[48] = 98\n",
      " Y_k[7] : x[7] + x[29] + x[49] + x[62] = 660\n",
      " Y_k[8] : x[8] + x[30] = 17\n",
      " Y_k[9] : x[9] + x[31] + x[50] = 268\n",
      " Y_k[10] : x[10] + x[32] + x[51] = 18\n",
      " Y_k[11] : x[11] + x[33] + x[63] = 16\n",
      " Y_k[12] : x[12] + x[34] + x[52] = 37\n",
      " Y_k[13] : x[13] + x[35] + x[53] = 187\n",
      " Y_k[14] : x[14] + x[36] + x[54] = 50\n",
      " Y_k[15] : x[15] + x[37] + x[55] = 231\n",
      " Y_k[16] : x[16] + x[38] + x[56] + x[66] = 597\n",
      " Y_k[17] : x[17] + x[39] = 32\n",
      " Y_k[18] : x[18] + x[40] + x[57] = 162\n",
      " Y_k[19] : x[19] + x[41] + x[64] = 397\n",
      " Y_k[20] : x[20] + x[42] + x[58] + x[67] = 1215\n",
      " Y_k[21] : x[21] + x[43] + x[59] + x[65] = 6\n",
      " Y_k[22] : x[22] + x[44] + x[60] = 298\n",
      " Y_ij[1] : x[25] + x[27] + x[30] - 450 y[1] ≤ 0\n",
      " Y_ij[2] : x[27] + x[30] + x[39] - 450 y[1] ≤ 0\n",
      " Y_ij[3] : x[27] + x[34] + x[39] - 450 y[1] ≤ 0\n",
      " Y_ij[4] : x[34] + x[36] + x[39] - 450 y[1] ≤ 0\n",
      " Y_ij[5] : x[28] + x[31] + x[32] + x[35] - 450 y[2] ≤ 0\n",
      " Y_ij[6] : x[26] + x[28] + x[32] + x[35] - 450 y[2] ≤ 0\n",
      " Y_ij[7] : x[26] + x[28] + x[32] + x[40] - 450 y[2] ≤ 0\n",
      " Y_ij[8] : x[23] + x[26] + x[28] + x[40] - 450 y[2] ≤ 0\n",
      " Y_ij[9] : x[23] + x[26] + x[37] + x[40] - 450 y[2] ≤ 0\n",
      " Y_ij[10] : x[24] + x[43] + x[66] + x[67] - 450 y[3] ≤ 0\n",
      " Y_ij[11] : x[41] + x[43] + x[66] + x[67] - 450 y[3] ≤ 0\n",
      " Y_ij[12] : x[41] + x[43] + x[49] + x[65] - 450 y[3] ≤ 0\n",
      " Y_ij[13] : x[33] + x[41] + x[49] - 450 y[3] ≤ 0\n",
      " Y_ij[14] : x[38] + x[42] + x[65] - 800 y[4] ≤ 0\n",
      " Y_ij[15] : x[29] + x[42] + x[67] - 800 y[4] ≤ 0\n",
      " Y_ij[16] : x[29] + x[44] - 800 y[4] ≤ 0\n",
      " M_v[1] : y[1] + y[2] + y[3] ≤ 4\n",
      " M_v[2] : y[4] ≤ 2\n",
      " x[1] ≥ 0\n",
      " x[2] ≥ 0\n",
      " x[3] ≥ 0\n",
      " x[4] ≥ 0\n",
      " x[5] ≥ 0\n",
      " x[6] ≥ 0\n",
      " x[7] ≥ 0\n",
      " x[8] ≥ 0\n",
      " x[9] ≥ 0\n",
      " x[10] ≥ 0\n",
      " x[11] ≥ 0\n",
      " x[12] ≥ 0\n",
      " x[13] ≥ 0\n"
     ]
    },
    {
     "name": "stdout",
     "output_type": "stream",
     "text": [
      " x[14] ≥ 0\n",
      " x[15] ≥ 0\n",
      " x[16] ≥ 0\n",
      " x[17] ≥ 0\n",
      " x[18] ≥ 0\n",
      " x[19] ≥ 0\n",
      " x[20] ≥ 0\n",
      " x[21] ≥ 0\n",
      " x[22] ≥ 0\n",
      " x[23] ≥ 0\n",
      " x[24] ≥ 0\n",
      " x[25] ≥ 0\n",
      " x[26] ≥ 0\n",
      " x[27] ≥ 0\n",
      " x[28] ≥ 0\n",
      " x[29] ≥ 0\n",
      " x[30] ≥ 0\n",
      " x[31] ≥ 0\n",
      " x[32] ≥ 0\n",
      " x[33] ≥ 0\n",
      " x[34] ≥ 0\n",
      " x[35] ≥ 0\n",
      " x[36] ≥ 0\n",
      " x[37] ≥ 0\n",
      " x[38] ≥ 0\n",
      " x[39] ≥ 0\n",
      " x[40] ≥ 0\n",
      " x[41] ≥ 0\n",
      " x[42] ≥ 0\n",
      " x[43] ≥ 0\n",
      " x[44] ≥ 0\n",
      " x[45] ≥ 0\n",
      " x[46] ≥ 0\n",
      " x[47] ≥ 0\n",
      " x[48] ≥ 0\n",
      " x[49] ≥ 0\n",
      " x[50] ≥ 0\n",
      " x[51] ≥ 0\n",
      " x[52] ≥ 0\n",
      " x[53] ≥ 0\n",
      " x[54] ≥ 0\n",
      " x[55] ≥ 0\n"
     ]
    },
    {
     "name": "stdout",
     "output_type": "stream",
     "text": [
      " x[56] ≥ 0\n",
      " x[57] ≥ 0\n",
      " x[58] ≥ 0\n",
      " x[59] ≥ 0\n",
      " x[60] ≥ 0\n",
      " x[61] ≥ 0\n",
      " x[62] ≥ 0\n",
      " x[63] ≥ 0\n",
      " x[64] ≥ 0\n",
      " x[65] ≥ 0\n",
      " x[66] ≥ 0\n",
      " x[67] ≥ 0\n",
      " y[1] ≥ 0\n",
      " y[2] ≥ 0\n",
      " y[3] ≥ 0\n",
      " y[4] ≥ 0\n",
      " y[1] ≤ 1\n",
      " y[2] ≤ 1\n",
      " y[3] ≤ 1\n",
      " y[4] ≤ 1\n"
     ]
    }
   ],
   "source": [
    "print(flowModel)"
   ]
  },
  {
   "cell_type": "code",
   "execution_count": 41,
   "metadata": {},
   "outputs": [
    {
     "data": {
      "text/plain": [
       "-649559.5555555555"
      ]
     },
     "metadata": {},
     "output_type": "display_data"
    }
   ],
   "source": [
    "objective_value(flowModel)"
   ]
  },
  {
   "cell_type": "code",
   "execution_count": 26,
   "metadata": {},
   "outputs": [
    {
     "name": "stdout",
     "output_type": "stream",
     "text": [
      "Any[Any[\"FIRAUs\", \"DEBRVt\"] 1; Any[\"DEBRVs\", \"DKAARt\"] 2; Any[\"DEBRVs\", \"NOSVGt\"] 3; Any[\"RUKGDs\", \"DEBRVt\"] 4; Any[\"DEBRVs\", \"NOAESt\"] 5; Any[\"DEBRVs\", \"PLGDYt\"] 6; Any[\"SEGOTs\", \"DEBRVt\"] 7; Any[\"DEBRVs\", \"NOBGOt\"] 8; Any[\"DEBRVs\", \"RUKGDt\"] 9; Any[\"DEBRVs\", \"FIRAUt\"] 10; Any[\"NOKRSs\", \"DEBRVt\"] 11; Any[\"NOBGOs\", \"DEBRVt\"] 12; Any[\"DEBRVs\", \"FIKTKt\"] 13; Any[\"NOAESs\", \"DEBRVt\"] 14; Any[\"PLGDYs\", \"DEBRVt\"] 15; Any[\"DEBRVs\", \"SEGOTt\"] 16; Any[\"NOSVGs\", \"DEBRVt\"] 17; Any[\"FIKTKs\", \"DEBRVt\"] 18; Any[\"DKAARs\", \"DEBRVt\"] 19; Any[\"DEBRVs\", \"RULEDt\"] 20; Any[\"DEBRVs\", \"NOKRSt\"] 21; Any[\"RULEDs\", \"DEBRVt\"] 22; Any[\"FIRAUs\", \"FIRAU\", \"PLGDY\", \"DEBRV2\", \"DEBRVt\"] 1; Any[\"DEBRVs\", \"DEBRV3\", \"DKAAR\", \"DKAARt\"] 2; Any[\"DEBRVs\", \"DEBRV1\", \"NOSVG\", \"NOSVGt\"] 3; Any[\"RUKGDs\", \"RUKGD\", \"FIKTK\", \"FIRAU\", \"PLGDY\", \"DEBRV2\", \"DEBRVt\"] 4; Any[\"DEBRVs\", \"DEBRV1\", \"NOSVG\", \"NOBGO\", \"NOAES\", \"NOAESt\"] 5; Any[\"DEBRVs\", \"DEBRV2\", \"RUKGD\", \"FIKTK\", \"FIRAU\", \"PLGDY\", \"PLGDYt\"] 6; Any[\"SEGOTs\", \"SEGOT4\", \"RULED\", \"DEBRV4\", \"DEBRVt\"] 7; Any[\"DEBRVs\", \"DEBRV1\", \"NOSVG\", \"NOBGO\", \"NOBGOt\"] 8; Any[\"DEBRVs\", \"DEBRV2\", \"RUKGD\", \"RUKGDt\"] 9; Any[\"DEBRVs\", \"DEBRV2\", \"RUKGD\", \"FIKTK\", \"FIRAU\", \"FIRAUt\"] 10; Any[\"NOKRSs\", \"NOKRS\", \"DEBRV3\", \"DEBRVt\"] 11; Any[\"NOBGOs\", \"NOBGO\", \"NOAES\", \"DEBRV1\", \"DEBRVt\"] 12; Any[\"DEBRVs\", \"DEBRV2\", \"RUKGD\", \"FIKTK\", \"FIKTKt\"] 13; Any[\"NOAESs\", \"NOAES\", \"DEBRV1\", \"DEBRVt\"] 14; Any[\"PLGDYs\", \"PLGDY\", \"DEBRV2\", \"DEBRVt\"] 15; Any[\"DEBRVs\", \"DEBRV4\", \"SEGOT4\", \"SEGOTt\"] 16; Any[\"NOSVGs\", \"NOSVG\", \"NOBGO\", \"NOAES\", \"DEBRV1\", \"DEBRVt\"] 17; Any[\"FIKTKs\", \"FIKTK\", \"FIRAU\", \"PLGDY\", \"DEBRV2\", \"DEBRVt\"] 18; Any[\"DKAARs\", \"DKAAR\", \"SEGOT3\", \"NOKRS\", \"DEBRV3\", \"DEBRVt\"] 19; Any[\"DEBRVs\", \"DEBRV4\", \"SEGOT4\", \"RULED\", \"RULEDt\"] 20; Any[\"DEBRVs\", \"DEBRV3\", \"DKAAR\", \"SEGOT3\", \"NOKRS\", \"NOKRSt\"] 21; Any[\"RULEDs\", \"RULED\", \"DEBRV4\", \"DEBRVt\"] 22; Any[\"SEGOTs\", \"SEGOT3\", \"NOKRS\", \"DEBRV3\", \"DEBRVt\"] 7]"
     ]
    }
   ],
   "source": [
    "print([current_paths current_commodities ])\n"
   ]
  },
  {
   "cell_type": "code",
   "execution_count": 93,
   "metadata": {},
   "outputs": [
    {
     "data": {
      "text/plain": [
       "229640.88888888888"
      ]
     },
     "metadata": {},
     "output_type": "display_data"
    }
   ],
   "source": [
    "objective_value(flowModel)"
   ]
  },
  {
   "cell_type": "code",
   "execution_count": 130,
   "metadata": {},
   "outputs": [
    {
     "ename": "UndefVarError",
     "evalue": "UndefVarError: `DisplayAs` not defined",
     "output_type": "error",
     "traceback": [
      "UndefVarError: `DisplayAs` not defined\n",
      "\n",
      "Stacktrace:\n",
      " [1] top-level scope\n",
      "   @ ~/Desktop/CG_VIRKER.ipynb:1"
     ]
    }
   ],
   "source": [
    "[current_paths current_commodities ] |> DisplayAs.Unlimited"
   ]
  },
  {
   "cell_type": "code",
   "execution_count": 90,
   "metadata": {},
   "outputs": [
    {
     "name": "stdout",
     "output_type": "stream",
     "text": [
      "Any["
     ]
    },
    {
     "name": "stdout",
     "output_type": "stream",
     "text": [
      "\"DEBRVs\", \"RULEDt\"]\n",
      "Any[\"DEBRVs\", \"DEBRV4\", \"SEGOT4\", \"RULED\", \"RULEDt\"]\n"
     ]
    }
   ],
   "source": [
    "println(current_paths[x1])\n",
    "println(current_paths[y1])"
   ]
  },
  {
   "cell_type": "code",
   "execution_count": 91,
   "metadata": {},
   "outputs": [
    {
     "name": "stdout",
     "output_type": "stream",
     "text": [
      "1215.0\n"
     ]
    }
   ],
   "source": [
    "println(value.(x[x1]) + value.(x[y1]))"
   ]
  },
  {
   "cell_type": "code",
   "execution_count": 92,
   "metadata": {},
   "outputs": [
    {
     "name": "stdout",
     "output_type": "stream",
     "text": [
      "203.0\n"
     ]
    }
   ],
   "source": [
    "println(value.(x[y1]))"
   ]
  },
  {
   "cell_type": "code",
   "execution_count": 30,
   "metadata": {},
   "outputs": [
    {
     "data": {
      "text/html": [
       "<div><div style = \"float: left;\"><span>22×5 DataFrame</span></div><div style = \"clear: both;\"></div></div><div class = \"data-frame\" style = \"overflow-x: scroll;\"><table class = \"data-frame\" style = \"margin-bottom: 6px;\"><thead><tr class = \"header\"><th class = \"rowNumber\" style = \"font-weight: bold; text-align: right;\">Row</th><th style = \"text-align: left;\">Origin</th><th style = \"text-align: left;\">Destination</th><th style = \"text-align: left;\">FFEPerWeek</th><th style = \"text-align: left;\">Revenue_1</th><th style = \"text-align: left;\">TransitTime</th></tr><tr class = \"subheader headerLastRow\"><th class = \"rowNumber\" style = \"font-weight: bold; text-align: right;\"></th><th title = \"String7\" style = \"text-align: left;\">String7</th><th title = \"String7\" style = \"text-align: left;\">String7</th><th title = \"Int64\" style = \"text-align: left;\">Int64</th><th title = \"Int64\" style = \"text-align: left;\">Int64</th><th title = \"Int64\" style = \"text-align: left;\">Int64</th></tr></thead><tbody><tr><td class = \"rowNumber\" style = \"font-weight: bold; text-align: right;\">1</td><td style = \"text-align: left;\">FIRAU</td><td style = \"text-align: left;\">DEBRV</td><td style = \"text-align: right;\">77</td><td style = \"text-align: right;\">1120</td><td style = \"text-align: right;\">16</td></tr><tr><td class = \"rowNumber\" style = \"font-weight: bold; text-align: right;\">2</td><td style = \"text-align: left;\">DEBRV</td><td style = \"text-align: left;\">DKAAR</td><td style = \"text-align: right;\">456</td><td style = \"text-align: right;\">790</td><td style = \"text-align: right;\">13</td></tr><tr><td class = \"rowNumber\" style = \"font-weight: bold; text-align: right;\">3</td><td style = \"text-align: left;\">DEBRV</td><td style = \"text-align: left;\">NOSVG</td><td style = \"text-align: right;\">65</td><td style = \"text-align: right;\">1050</td><td style = \"text-align: right;\">14</td></tr><tr><td class = \"rowNumber\" style = \"font-weight: bold; text-align: right;\">4</td><td style = \"text-align: left;\">RUKGD</td><td style = \"text-align: left;\">DEBRV</td><td style = \"text-align: right;\">7</td><td style = \"text-align: right;\">1250</td><td style = \"text-align: right;\">31</td></tr><tr><td class = \"rowNumber\" style = \"font-weight: bold; text-align: right;\">5</td><td style = \"text-align: left;\">DEBRV</td><td style = \"text-align: left;\">NOAES</td><td style = \"text-align: right;\">10</td><td style = \"text-align: right;\">1610</td><td style = \"text-align: right;\">20</td></tr><tr><td class = \"rowNumber\" style = \"font-weight: bold; text-align: right;\">6</td><td style = \"text-align: left;\">DEBRV</td><td style = \"text-align: left;\">PLGDY</td><td style = \"text-align: right;\">98</td><td style = \"text-align: right;\">1040</td><td style = \"text-align: right;\">10</td></tr><tr><td class = \"rowNumber\" style = \"font-weight: bold; text-align: right;\">7</td><td style = \"text-align: left;\">SEGOT</td><td style = \"text-align: left;\">DEBRV</td><td style = \"text-align: right;\">660</td><td style = \"text-align: right;\">760</td><td style = \"text-align: right;\">10</td></tr><tr><td class = \"rowNumber\" style = \"font-weight: bold; text-align: right;\">8</td><td style = \"text-align: left;\">DEBRV</td><td style = \"text-align: left;\">NOBGO</td><td style = \"text-align: right;\">17</td><td style = \"text-align: right;\">2030</td><td style = \"text-align: right;\">30</td></tr><tr><td class = \"rowNumber\" style = \"font-weight: bold; text-align: right;\">9</td><td style = \"text-align: left;\">DEBRV</td><td style = \"text-align: left;\">RUKGD</td><td style = \"text-align: right;\">268</td><td style = \"text-align: right;\">870</td><td style = \"text-align: right;\">12</td></tr><tr><td class = \"rowNumber\" style = \"font-weight: bold; text-align: right;\">10</td><td style = \"text-align: left;\">DEBRV</td><td style = \"text-align: left;\">FIRAU</td><td style = \"text-align: right;\">18</td><td style = \"text-align: right;\">1130</td><td style = \"text-align: right;\">17</td></tr><tr><td class = \"rowNumber\" style = \"font-weight: bold; text-align: right;\">11</td><td style = \"text-align: left;\">NOKRS</td><td style = \"text-align: left;\">DEBRV</td><td style = \"text-align: right;\">16</td><td style = \"text-align: right;\">880</td><td style = \"text-align: right;\">16</td></tr><tr><td class = \"rowNumber\" style = \"font-weight: bold; text-align: right;\">12</td><td style = \"text-align: left;\">NOBGO</td><td style = \"text-align: left;\">DEBRV</td><td style = \"text-align: right;\">37</td><td style = \"text-align: right;\">1150</td><td style = \"text-align: right;\">20</td></tr><tr><td class = \"rowNumber\" style = \"font-weight: bold; text-align: right;\">13</td><td style = \"text-align: left;\">DEBRV</td><td style = \"text-align: left;\">FIKTK</td><td style = \"text-align: right;\">187</td><td style = \"text-align: right;\">1130</td><td style = \"text-align: right;\">21</td></tr><tr><td class = \"rowNumber\" style = \"font-weight: bold; text-align: right;\">14</td><td style = \"text-align: left;\">NOAES</td><td style = \"text-align: left;\">DEBRV</td><td style = \"text-align: right;\">50</td><td style = \"text-align: right;\">1080</td><td style = \"text-align: right;\">13</td></tr><tr><td class = \"rowNumber\" style = \"font-weight: bold; text-align: right;\">15</td><td style = \"text-align: left;\">PLGDY</td><td style = \"text-align: left;\">DEBRV</td><td style = \"text-align: right;\">231</td><td style = \"text-align: right;\">960</td><td style = \"text-align: right;\">9</td></tr><tr><td class = \"rowNumber\" style = \"font-weight: bold; text-align: right;\">16</td><td style = \"text-align: left;\">DEBRV</td><td style = \"text-align: left;\">SEGOT</td><td style = \"text-align: right;\">597</td><td style = \"text-align: right;\">780</td><td style = \"text-align: right;\">11</td></tr><tr><td class = \"rowNumber\" style = \"font-weight: bold; text-align: right;\">17</td><td style = \"text-align: left;\">NOSVG</td><td style = \"text-align: left;\">DEBRV</td><td style = \"text-align: right;\">32</td><td style = \"text-align: right;\">590</td><td style = \"text-align: right;\">22</td></tr><tr><td class = \"rowNumber\" style = \"font-weight: bold; text-align: right;\">18</td><td style = \"text-align: left;\">FIKTK</td><td style = \"text-align: left;\">DEBRV</td><td style = \"text-align: right;\">162</td><td style = \"text-align: right;\">1150</td><td style = \"text-align: right;\">20</td></tr><tr><td class = \"rowNumber\" style = \"font-weight: bold; text-align: right;\">19</td><td style = \"text-align: left;\">DKAAR</td><td style = \"text-align: left;\">DEBRV</td><td style = \"text-align: right;\">397</td><td style = \"text-align: right;\">1160</td><td style = \"text-align: right;\">11</td></tr><tr><td class = \"rowNumber\" style = \"font-weight: bold; text-align: right;\">20</td><td style = \"text-align: left;\">DEBRV</td><td style = \"text-align: left;\">RULED</td><td style = \"text-align: right;\">1215</td><td style = \"text-align: right;\">590</td><td style = \"text-align: right;\">10</td></tr><tr><td class = \"rowNumber\" style = \"font-weight: bold; text-align: right;\">21</td><td style = \"text-align: left;\">DEBRV</td><td style = \"text-align: left;\">NOKRS</td><td style = \"text-align: right;\">6</td><td style = \"text-align: right;\">860</td><td style = \"text-align: right;\">29</td></tr><tr><td class = \"rowNumber\" style = \"font-weight: bold; text-align: right;\">22</td><td style = \"text-align: left;\">RULED</td><td style = \"text-align: left;\">DEBRV</td><td style = \"text-align: right;\">298</td><td style = \"text-align: right;\">760</td><td style = \"text-align: right;\">7</td></tr></tbody></table></div>"
      ],
      "text/latex": [
       "\\begin{tabular}{r|ccccc}\n",
       "\t& Origin & Destination & FFEPerWeek & Revenue\\_1 & TransitTime\\\\\n",
       "\t\\hline\n",
       "\t& String7 & String7 & Int64 & Int64 & Int64\\\\\n",
       "\t\\hline\n",
       "\t1 & FIRAU & DEBRV & 77 & 1120 & 16 \\\\\n",
       "\t2 & DEBRV & DKAAR & 456 & 790 & 13 \\\\\n",
       "\t3 & DEBRV & NOSVG & 65 & 1050 & 14 \\\\\n",
       "\t4 & RUKGD & DEBRV & 7 & 1250 & 31 \\\\\n",
       "\t5 & DEBRV & NOAES & 10 & 1610 & 20 \\\\\n",
       "\t6 & DEBRV & PLGDY & 98 & 1040 & 10 \\\\\n",
       "\t7 & SEGOT & DEBRV & 660 & 760 & 10 \\\\\n",
       "\t8 & DEBRV & NOBGO & 17 & 2030 & 30 \\\\\n",
       "\t9 & DEBRV & RUKGD & 268 & 870 & 12 \\\\\n",
       "\t10 & DEBRV & FIRAU & 18 & 1130 & 17 \\\\\n",
       "\t11 & NOKRS & DEBRV & 16 & 880 & 16 \\\\\n",
       "\t12 & NOBGO & DEBRV & 37 & 1150 & 20 \\\\\n",
       "\t13 & DEBRV & FIKTK & 187 & 1130 & 21 \\\\\n",
       "\t14 & NOAES & DEBRV & 50 & 1080 & 13 \\\\\n",
       "\t15 & PLGDY & DEBRV & 231 & 960 & 9 \\\\\n",
       "\t16 & DEBRV & SEGOT & 597 & 780 & 11 \\\\\n",
       "\t17 & NOSVG & DEBRV & 32 & 590 & 22 \\\\\n",
       "\t18 & FIKTK & DEBRV & 162 & 1150 & 20 \\\\\n",
       "\t19 & DKAAR & DEBRV & 397 & 1160 & 11 \\\\\n",
       "\t20 & DEBRV & RULED & 1215 & 590 & 10 \\\\\n",
       "\t21 & DEBRV & NOKRS & 6 & 860 & 29 \\\\\n",
       "\t22 & RULED & DEBRV & 298 & 760 & 7 \\\\\n",
       "\\end{tabular}\n"
      ],
      "text/plain": [
       "\u001b[1m22×5 DataFrame\u001b[0m\n",
       "\u001b[1m Row \u001b[0m│\u001b[1m Origin  \u001b[0m\u001b[1m Destination \u001b[0m\u001b[1m FFEPerWeek \u001b[0m\u001b[1m Revenue_1 \u001b[0m\u001b[1m TransitTime \u001b[0m\n",
       "     │\u001b[90m String7 \u001b[0m\u001b[90m String7     \u001b[0m\u001b[90m Int64      \u001b[0m\u001b[90m Int64     \u001b[0m\u001b[90m Int64       \u001b[0m\n",
       "─────┼──────────────────────────────────────────────────────────\n",
       "   1 │ FIRAU    DEBRV                77       1120           16\n",
       "   2 │ DEBRV    DKAAR               456        790           13\n",
       "   3 │ DEBRV    NOSVG                65       1050           14\n",
       "   4 │ RUKGD    DEBRV                 7       1250           31\n",
       "   5 │ DEBRV    NOAES                10       1610           20\n",
       "   6 │ DEBRV    PLGDY                98       1040           10\n",
       "   7 │ SEGOT    DEBRV               660        760           10\n",
       "   8 │ DEBRV    NOBGO                17       2030           30\n",
       "  ⋮  │    ⋮          ⋮           ⋮           ⋮           ⋮\n",
       "  16 │ DEBRV    SEGOT               597        780           11\n",
       "  17 │ NOSVG    DEBRV                32        590           22\n",
       "  18 │ FIKTK    DEBRV               162       1150           20\n",
       "  19 │ DKAAR    DEBRV               397       1160           11\n",
       "  20 │ DEBRV    RULED              1215        590           10\n",
       "  21 │ DEBRV    NOKRS                 6        860           29\n",
       "  22 │ RULED    DEBRV               298        760            7\n",
       "\u001b[36m                                                  7 rows omitted\u001b[0m"
      ]
     },
     "metadata": {},
     "output_type": "display_data"
    }
   ],
   "source": [
    "baltic_demand"
   ]
  },
  {
   "cell_type": "code",
   "execution_count": 48,
   "metadata": {},
   "outputs": [
    {
     "data": {
      "text/plain": [
       "44-element Vector{Any}:\n",
       "  1\n",
       "  2\n",
       "  3\n",
       "  4\n",
       "  5\n",
       "  6\n",
       "  7\n",
       "  8\n",
       "  9\n",
       " 10\n",
       "  ⋮\n",
       " 14\n",
       " 15\n",
       " 16\n",
       " 17\n",
       " 18\n",
       " 19\n",
       " 20\n",
       " 21\n",
       " 22"
      ]
     },
     "metadata": {},
     "output_type": "display_data"
    }
   ],
   "source": [
    "test = zeros(Int64, n_k)\n",
    "\n",
    "append!(test, current_commodities[n_ff+1:n_p])"
   ]
  },
  {
   "cell_type": "code",
   "execution_count": 213,
   "metadata": {},
   "outputs": [
    {
     "data": {
      "text/plain": [
       "7-element Vector{Any}:\n",
       " Any[\"DEBRVs\", \"DEBRV1\", \"NOSVG\", \"NOSVGt\"]\n",
       " Any[\"DEBRVs\", \"DEBRV1\", \"NOSVG\", \"NOBGO\", \"NOBGOt\"]\n",
       " Any[\"DEBRVs\", \"DEBRV2\", \"RUKGD\", \"RUKGDt\"]\n",
       " Any[\"DEBRVs\", \"DEBRV2\", \"RUKGD\", \"FIKTK\", \"FIRAU\", \"FIRAUt\"]\n",
       " Any[\"DEBRVs\", \"DEBRV2\", \"RUKGD\", \"FIKTK\", \"FIKTKt\"]\n",
       " Any[\"DEBRVs\", \"DEBRV3\", \"DKAAR\", \"SEGOT3\", \"SEGOTt\"]\n",
       " Any[\"DEBRVs\", \"DEBRV3\", \"DKAAR\", \"SEGOT3\", \"SEGOT4\", \"RULED\", \"RULEDt\"]"
      ]
     },
     "metadata": {},
     "output_type": "display_data"
    }
   ],
   "source": [
    "candidate_paths[reduced_cost .< 0]"
   ]
  },
  {
   "cell_type": "code",
   "execution_count": 222,
   "metadata": {},
   "outputs": [
    {
     "data": {
      "text/plain": [
       "7-element Vector{Any}:\n",
       " Any[\"DEBRVs\", \"DEBRV1\", \"NOSVG\", \"NOSVGt\"]\n",
       " Any[\"DEBRVs\", \"DEBRV1\", \"NOSVG\", \"NOBGO\", \"NOBGOt\"]\n",
       " Any[\"DEBRVs\", \"DEBRV2\", \"RUKGD\", \"RUKGDt\"]\n",
       " Any[\"DEBRVs\", \"DEBRV2\", \"RUKGD\", \"FIKTK\", \"FIRAU\", \"FIRAUt\"]\n",
       " Any[\"DEBRVs\", \"DEBRV2\", \"RUKGD\", \"FIKTK\", \"FIKTKt\"]\n",
       " Any[\"DEBRVs\", \"DEBRV3\", \"DKAAR\", \"SEGOT3\", \"SEGOTt\"]\n",
       " Any[\"DEBRVs\", \"DEBRV3\", \"DKAAR\", \"SEGOT3\", \"SEGOT4\", \"RULED\", \"RULEDt\"]"
      ]
     },
     "metadata": {},
     "output_type": "display_data"
    }
   ],
   "source": [
    "candidate_paths[reduced_cost .< 0]"
   ]
  },
  {
   "cell_type": "code",
   "execution_count": 131,
   "metadata": {},
   "outputs": [
    {
     "data": {
      "text/plain": [
       "* Solver : GLPK\n",
       "\n",
       "* Status\n",
       "  Result count       : 1\n",
       "  Termination status : OPTIMAL\n",
       "  Message from the solver:\n",
       "  \"Solution is optimal\"\n",
       "\n",
       "* Candidate solution (result #1)\n",
       "  Primal status      : FEASIBLE_POINT\n",
       "  Dual status        : FEASIBLE_POINT\n",
       "  Objective value    : 3.42021e+06\n",
       "  Objective bound    : -Inf\n",
       "  Dual objective value : 3.42021e+06\n",
       "\n",
       "* Work counters\n",
       "  Solve time (sec)   : 1.89781e-04\n"
      ]
     },
     "metadata": {},
     "output_type": "display_data"
    }
   ],
   "source": [
    "solution_summary(flowModel)"
   ]
  },
  {
   "cell_type": "code",
   "execution_count": 132,
   "metadata": {},
   "outputs": [
    {
     "data": {
      "text/plain": [
       "1-dimensional DenseAxisArray{Float64,1,...} with index sets:\n",
       "    Dimension 1, [1, 2, 3, 4, 5, 6, 7, 8, 9, 10  …  38, 39, 40, 41, 42, 43, 44, 45, 46, 47]\n",
       "And data, a 47-element Vector{Float64}:\n",
       "  20.0\n",
       "  12.0\n",
       "   0.0\n",
       "   7.0\n",
       "  10.0\n",
       "   0.0\n",
       "   0.0\n",
       "   0.0\n",
       " 121.0\n",
       "   0.0\n",
       "   ⋮\n",
       "  32.0\n",
       " 162.0\n",
       " 276.0\n",
       " 203.0\n",
       "   6.0\n",
       " 298.0\n",
       " 158.0\n",
       "   0.0\n",
       "   0.0"
      ]
     },
     "metadata": {},
     "output_type": "display_data"
    }
   ],
   "source": [
    "value.(x[P])\n"
   ]
  },
  {
   "cell_type": "code",
   "execution_count": 133,
   "metadata": {},
   "outputs": [
    {
     "data": {
      "text/plain": [
       "1-dimensional DenseAxisArray{Float64,1,...} with index sets:\n",
       "    Dimension 1, [1, 2, 3, 4]\n",
       "And data, a 4-element Vector{Float64}:\n",
       " 0.18222222222222223\n",
       " 1.0\n",
       " 1.0\n",
       " 1.0"
      ]
     },
     "metadata": {},
     "output_type": "display_data"
    }
   ],
   "source": [
    "value.(y[S])"
   ]
  },
  {
   "cell_type": "code",
   "execution_count": 42,
   "metadata": {},
   "outputs": [
    {
     "data": {
      "text/plain": [
       "8-element Vector{Any}:\n",
       " Any[\"DEBRVs\", \"DEBRV1\", \"NOSVG\", \"NOSVGt\"]\n",
       " Any[\"SEGOTs\", \"SEGOT3\", \"NOKRS\", \"DEBRV3\", \"DEBRVt\"]\n",
       " Any[\"DEBRVs\", \"DEBRV1\", \"NOSVG\", \"NOBGO\", \"NOBGOt\"]\n",
       " Any[\"DEBRVs\", \"DEBRV2\", \"RUKGD\", \"RUKGDt\"]\n",
       " Any[\"DEBRVs\", \"DEBRV2\", \"RUKGD\", \"FIKTK\", \"FIRAU\", \"FIRAUt\"]\n",
       " Any[\"DEBRVs\", \"DEBRV2\", \"RUKGD\", \"FIKTK\", \"FIKTKt\"]\n",
       " Any[\"DEBRVs\", \"DEBRV3\", \"DKAAR\", \"SEGOT3\", \"SEGOTt\"]\n",
       " Any[\"DEBRVs\", \"DEBRV3\", \"DKAAR\", \"SEGOT3\", \"SEGOT4\", \"RULED\", \"RULEDt\"]"
      ]
     },
     "metadata": {},
     "output_type": "display_data"
    }
   ],
   "source": [
    "candidate_paths[reduced_cost .< 0]"
   ]
  },
  {
   "cell_type": "code",
   "execution_count": 15,
   "metadata": {},
   "outputs": [
    {
     "data": {
      "text/plain": [
       "8-element Vector{Float64}:\n",
       " -341.4444444444446\n",
       " -102.99999999999994\n",
       " -553.9999999999998\n",
       " -591.0000000000002\n",
       " -358.0\n",
       " -358.0\n",
       " -517.0\n",
       " -358.0"
      ]
     },
     "metadata": {},
     "output_type": "display_data"
    }
   ],
   "source": [
    "dual_Y_ij[dual_Y_ij .< 0]"
   ]
  },
  {
   "cell_type": "code",
   "execution_count": 71,
   "metadata": {},
   "outputs": [
    {
     "ename": "MethodError",
     "evalue": "MethodError: no method matching zero(::Type{Any})\n\nClosest candidates are:\n  zero(::Type{Union{Missing, T}}) where T\n   @ Base missing.jl:105\n  zero(!Matched::Union{Type{P}, P}) where P<:Dates.Period\n   @ Dates /Applications/Julia-1.9.app/Contents/Resources/julia/share/julia/stdlib/v1.9/Dates/src/periods.jl:51\n  zero(!Matched::GenericAffExpr)\n   @ JuMP ~/.julia/packages/JuMP/ToPd2/src/aff_expr.jl:201\n  ...\n",
     "output_type": "error",
     "traceback": [
      "MethodError: no method matching zero(::Type{Any})\n",
      "\n",
      "Closest candidates are:\n",
      "  zero(::Type{Union{Missing, T}}) where T\n",
      "   @ Base missing.jl:105\n",
      "  zero(!Matched::Union{Type{P}, P}) where P<:Dates.Period\n",
      "   @ Dates /Applications/Julia-1.9.app/Contents/Resources/julia/share/julia/stdlib/v1.9/Dates/src/periods.jl:51\n",
      "  zero(!Matched::GenericAffExpr)\n",
      "   @ JuMP ~/.julia/packages/JuMP/ToPd2/src/aff_expr.jl:201\n",
      "  ...\n",
      "\n",
      "\n",
      "Stacktrace:\n",
      "  [1] zero(#unused#::Type{Any})\n",
      "    @ Base ./missing.jl:106\n",
      "  [2] _instantiate_zero(#unused#::Type{Any})\n",
      "    @ MutableArithmetics ~/.julia/packages/MutableArithmetics/K9YPJ/src/interface.jl:28\n",
      "  [3] promote_operation_fallback(op::typeof(*), #unused#::Type{Any}, #unused#::Type{VariableRef})\n",
      "    @ MutableArithmetics ~/.julia/packages/MutableArithmetics/K9YPJ/src/interface.jl:51\n",
      "  [4] promote_operation(::typeof(*), ::Type, ::Type)\n",
      "    @ MutableArithmetics ~/.julia/packages/MutableArithmetics/K9YPJ/src/interface.jl:113\n",
      "  [5] promote_operation(op::typeof(*), A::Type{Vector{Any}}, #unused#::Type{VariableRef})\n",
      "    @ MutableArithmetics ~/.julia/packages/MutableArithmetics/K9YPJ/src/implementations/LinearAlgebra.jl:165\n",
      "  [6] promote_operation_fallback(op::typeof(MutableArithmetics.add_mul), #unused#::Type{AffExpr}, #unused#::Type{Vector{Any}}, #unused#::Type{VariableRef})\n",
      "    @ MutableArithmetics ~/.julia/packages/MutableArithmetics/K9YPJ/src/interface.jl:82\n",
      "  [7] promote_operation(::typeof(MutableArithmetics.add_mul), ::Type, ::Type, ::Type)\n",
      "    @ MutableArithmetics ~/.julia/packages/MutableArithmetics/K9YPJ/src/interface.jl:113\n",
      "  [8] mutability(::Type, ::Function, ::Type, ::Type, ::Type)\n",
      "    @ MutableArithmetics ~/.julia/packages/MutableArithmetics/K9YPJ/src/interface.jl:266\n",
      "  [9] mutability(::AffExpr, ::Function, ::AffExpr, ::Vector{Any}, ::VariableRef)\n",
      "    @ MutableArithmetics ~/.julia/packages/MutableArithmetics/K9YPJ/src/interface.jl:274\n",
      " [10] operate!!(::typeof(MutableArithmetics.add_mul), ::AffExpr, ::Vector{Any}, ::VariableRef)\n",
      "    @ MutableArithmetics ~/.julia/packages/MutableArithmetics/K9YPJ/src/rewrite.jl:93\n",
      " [11] macro expansion\n",
      "    @ ~/.julia/packages/MutableArithmetics/K9YPJ/src/rewrite_generic.jl:268 [inlined]\n",
      " [12] macro expansion\n",
      "    @ ~/.julia/packages/MutableArithmetics/K9YPJ/src/rewrite.jl:321 [inlined]\n",
      " [13] macro expansion\n",
      "    @ ~/.julia/packages/JuMP/ToPd2/src/macros.jl:717 [inlined]\n",
      " [14] top-level scope\n",
      "    @ ~/Downloads/CG.ipynb:4"
     ]
    }
   ],
   "source": [
    "flowModel = Model(HiGHS.Optimizer)\n",
    "@variable(flowModel, x[P] >= 0)\n",
    "@variable(flowModel, 0 <= y[S] <= 1)\n",
    "@objective(flowModel, Min, sum(services_w_transshipment[i][1]*y[i] for i in S) + sum(current_costs[j]*x[j] for j in P))\n",
    "#@constraint(flowModel, Y_ij[i=1:n_ij], sum(aij[i, j] * x[j+n_ff] for j in A) <= sum(uij[i, j] * y[j] for j in S)) # Paths that uses edge ij\n",
    "#@constraint(flowModel, Y_k[i=1:n_k], sum(PK[i, j] * x[j] for j in P) == baltic_demand.FFEPerWeek[i]) # Paths for commodity k ∈ K\n",
    "#@constraint(flowModel, M_v[i=1:n_mv], sum(mvs[i, j] * y[j] for j in S) <= baltic_fleet.Quantity[i])\n",
    "#optimize!(flowModel)\n",
    "\n",
    "# dual_Y_k = [dual(flowModel[:Y_k][i]) for i in K]\n",
    "# dual_Y_ij = [dual(flowModel[:Y_ij][i]) for i in ij]\n",
    "# append!(dual_Y_ij, zeros(Float64, length(edges) - length(ports_adj)))\n"
   ]
  },
  {
   "cell_type": "code",
   "execution_count": 30,
   "metadata": {},
   "outputs": [
    {
     "data": {
      "text/plain": [
       "14-element Vector{Any}:\n",
       " 22\n",
       "  1\n",
       "  4\n",
       "  6\n",
       "  7\n",
       "  9\n",
       " 10\n",
       " 11\n",
       " 13\n",
       " 15\n",
       " 16\n",
       " 18\n",
       " 20\n",
       " 22"
      ]
     },
     "metadata": {},
     "output_type": "display_data"
    }
   ],
   "source": [
    "current_commodities[111:end]"
   ]
  },
  {
   "cell_type": "code",
   "execution_count": 35,
   "metadata": {},
   "outputs": [
    {
     "data": {
      "text/plain": [
       "62-element Vector{Any}:\n",
       " \"DEBRVs|DEBRV1\"\n",
       " \"DEBRV1|DEBRVt\"\n",
       " \"DEBRVs|DEBRV2\"\n",
       " \"DEBRV2|DEBRVt\"\n",
       " \"DEBRVs|DEBRV3\"\n",
       " \"DEBRV3|DEBRVt\"\n",
       " \"DEBRVs|DEBRV4\"\n",
       " \"DEBRV4|DEBRVt\"\n",
       " \"NOSVGs|NOSVG\"\n",
       " \"NOSVG|NOSVGt\"\n",
       " ⋮\n",
       " \"FIRAU|PLGDY\"\n",
       " \"PLGDY|DEBRV2\"\n",
       " \"DEBRV3|DKAAR\"\n",
       " \"DKAAR|SEGOT3\"\n",
       " \"SEGOT3|NOKRS\"\n",
       " \"NOKRS|DEBRV3\"\n",
       " \"DEBRV4|SEGOT4\"\n",
       " \"SEGOT4|RULED\"\n",
       " \"RULED|DEBRV4\""
      ]
     },
     "metadata": {},
     "output_type": "display_data"
    }
   ],
   "source": [
    "i_j"
   ]
  },
  {
   "cell_type": "markdown",
   "metadata": {},
   "source": [
    "Berfore the master problem is formulated, the $c_{y}$ constants are calculated which correspond to the fixed port costs (more might be added later).\n",
    "\n",
    "Moreover, the sum of all paths must be equal to $d_{k}$, in order to fulfill the demand. However later on, a new expensive penalty edge is added which penalizes all the containers that are not delivered to the commodity port."
   ]
  },
  {
   "cell_type": "markdown",
   "metadata": {},
   "source": [
    "As the decision variables, $x_{i,j}$ represent the edges in the liner shipping network (eventually paths), the variables are initialized by pairing the neigbor ports in the services above. Thereby, the master problem is reduced to only respect the strict subset of all feasible patterns i.e. patterns using the generated services."
   ]
  },
  {
   "cell_type": "code",
   "execution_count": null,
   "metadata": {},
   "outputs": [],
   "source": [
    "# edges with capacity constraint\n",
    "i_j = []\n",
    "for edge in edges\n",
    "    if edge ∈ (penalty_adj ∪ dummy_adj)\n",
    "        break\n",
    "    end\n",
    "    push!(i_j, string(edge[1], \"|\", edge[2]))\n",
    "end\n",
    "\n",
    "# Paths and costs from shortest path\n",
    "for i in 1:size(baltic_demand, 1)\n",
    "    path, cost = dijkstra(get_G(edges), string(baltic_demand.Origin[i],\"s\"), string(baltic_demand.Destination[i],\"t\"))\n",
    "    push!(current_paths, path)\n",
    "    push!(current_costs, cost)\n",
    "    append!(current_commodity, i)\n",
    "end\n",
    "\n",
    "# Initializing parameters\n",
    "n_k = size(baltic_demand.Origin, 1) # Number of commodities\n",
    "K = 1:n_k\n",
    "\n",
    "n_s = size(services_w_transshipment, 1) # Number of services\n",
    "S = 1:n_s\n",
    "\n",
    "n_ff = size(penalty_adj, 1) # Number of penalty edges\n",
    "ff = 1:n_ff\n",
    "index_ff = 1:n_k # Index of ff paths - Could be hard coded\n",
    "\n",
    "n_p = size(current_paths, 1) # Number of paths\n",
    "P = 1:n_p\n",
    "index_p = n_ff+1:n_p  # Index of non-ff paths - Could be hardcoded\n",
    "\n",
    "n_ij = size(i_j, 1) # Number of edges\n",
    "ij = 1:n_ij # Range of edges\n",
    "\n",
    "n_mv = size(baltic_fleet, 1)\n",
    "v = 1:n_mv\n",
    ";"
   ]
  },
  {
   "cell_type": "code",
   "execution_count": null,
   "metadata": {},
   "outputs": [],
   "source": [
    "# Initial paths including shortest path for all commodities and activated penalty edges\n",
    "aij = Matrix{Float64}(undef, n_ij, 0) # 1 if path p for commodity k uses edge (i,j), else 0\n",
    "uij = Matrix{Float64}(undef, n_ij, 0) # vessel capacity if service s uses edge (i,j), else 0\n",
    "\n",
    "for i in index_p\n",
    "    ak = zeros(Float64, n_ij)\n",
    "    for j in 2:length(paths[i])\n",
    "        ak[findall(x -> x == string(paths[i][j-1], \"|\", paths[i][j]), i_j)[1]] = 1\n",
    "    end\n",
    "    aij = [aij ak]\n",
    "end\n",
    "\n",
    "\n",
    "for i in 1:length(services_w_transshipment)\n",
    "    us = zeros(Float64, n_ij)\n",
    "    for j in 5:length(services_w_transshipment[i])\n",
    "        us[findall(x -> x == string(services_w_transshipment[i][j-1], \"|\", services_w_transshipment[i][j]), i_j)[1]] = fleet_data[fleet_data.\"Vessel class\" .== services_w_transshipment[i][3], 2][1]\n",
    "        us[findall(x -> x == string(services_w_transshipment[i][j-1], \"|\", services_w_transshipment[i][j-1][1:5], \"t\"), i_j)[1]] = fleet_data[fleet_data.\"Vessel class\" .== services_w_transshipment[i][3], 2][1]\n",
    "        us[findall(x -> x == string(services_w_transshipment[i][j-1][1:5], \"s\", \"|\", services_w_transshipment[i][j-1]), i_j)[1]] = fleet_data[fleet_data.\"Vessel class\" .== services_w_transshipment[i][3], 2][1]\n",
    "    end\n",
    "    uij = [uij us]\n",
    "end\n",
    "\n"
   ]
  },
  {
   "cell_type": "code",
   "execution_count": null,
   "metadata": {},
   "outputs": [],
   "source": [
    "flowModel = Model(HiGHS.Optimizer)\n",
    "@variable(flowModel, x[P] >= 0)\n",
    "@variable(flowModel, 0 <= y[S] <= 1)\n",
    "@objective(flowModel, Min, sum(services_w_transshipment[i][1]*y[i] for i in S) + sum(costs[j]*x[j] for j in P))\n",
    "#@constraint(flowModel, Y_ij[i=1:n_ij], sum(aij[i, j] * x[j+n_ff] for j in K) <= sum(uij[i, j] * y[j] for j in S)) # Paths that uses edge ij\n",
    "@constraint(flowModel, Y_k[i=1:n_k], sum(PK[i, j] * x[j] for j in P) == baltic_demand.FFEPerWeek[i]) # Paths for commodity k ∈ K\n",
    "@constraint(flowModel, M_v[i=1:n_mv], sum(mvs[i, j] * y[j] for j in S) <= baltic_fleet.Quantity[i])\n",
    "print(flowModel)\n",
    "optimize!(flowModel)\n",
    "#solution_summary(flowModel)\n",
    ";"
   ]
  }
 ],
 "metadata": {
  "kernelspec": {
   "display_name": "Julia 1.9.3",
   "language": "julia",
   "name": "julia-1.9"
  },
  "language_info": {
   "file_extension": ".jl",
   "mimetype": "application/julia",
   "name": "julia",
   "version": "1.9.3"
  }
 },
 "nbformat": 4,
 "nbformat_minor": 2
}
