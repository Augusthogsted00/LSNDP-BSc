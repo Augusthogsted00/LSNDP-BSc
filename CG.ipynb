{
 "cells": [
  {
   "cell_type": "markdown",
   "metadata": {},
   "source": [
    "# Initialization"
   ]
  },
  {
   "cell_type": "code",
   "execution_count": 1,
   "metadata": {},
   "outputs": [],
   "source": [
    "using CSV, DataFrames, JuMP, HiGHS, LinearAlgebra, DataStructures, Statistics\n",
    "baltic_demand = DataFrame(CSV.File(\"/Users/augusthogsted/WD/Bachelor projekt/LINERLIB-master/data/Demand_Baltic.csv\", delim='\\t'))\n",
    "ports = DataFrame(CSV.File(\"/Users/augusthogsted/WD/Bachelor projekt/LINERLIB-master/data/ports.csv\", delim='\\t'))\n",
    "#ports.PortCallCostFixed = coalesce.(ports.PortCallCostFixed, 0.0)\n",
    "distances = DataFrame(CSV.File(\"/Users/augusthogsted/WD/Bachelor projekt/LINERLIB-master/data/dist_dense.csv\", delim='\\t'))\n",
    "baltic_fleet = DataFrame(CSV.File(\"/Users/augusthogsted/WD/Bachelor projekt/LINERLIB-master/data/fleet_Baltic.csv\", delim='\\t'))\n",
    "fleet_data = DataFrame(CSV.File(\"/Users/augusthogsted/WD/Bachelor projekt/LINERLIB-master/data/fleet_data.csv\", delim='\\t'))\n",
    "; # Don't print output"
   ]
  },
  {
   "cell_type": "markdown",
   "metadata": {},
   "source": [
    "### Services:\n",
    "\n",
    "The following array contains manual generated services to which the column generation will be applied."
   ]
  },
  {
   "cell_type": "code",
   "execution_count": 2,
   "metadata": {},
   "outputs": [],
   "source": [
    "# services = [[\"Feeder_800\" \"DEBRV\" \"NOKRS\" \"DEBRV\"],\n",
    "#             [\"Feeder_800\" \"RUKGD\" \"FIKTK\" \"RUKGD\"],\n",
    "#             [\"Feeder_450\" \"DEBRV\" \"NOSVG\" \"DEBRV\"],\n",
    "#             [\"Feeder_450\" \"NOAES\" \"NOBGO\" \"NOAES\"],\n",
    "#             [\"Feeder_450\" \"NOKRS\" \"SEGOT\" \"DKAAR\" \"NOKRS\"],\n",
    "#             [\"Feeder_800\" \"DEBRV\" \"SEGOT\" \"DKAAR\" \"DEBRV\"],\n",
    "#             [\"Feeder_450\" \"DEBRV\" \"NOSVG\" \"NOBGO\" \"NOAES\" \"DEBRV\"],\n",
    "#             [\"Feeder_450\" \"SEGOT\" \"DKAAR\" \"PLGDY\" \"RUKGD\" \"SEGOT\"],\n",
    "#             [\"Feeder_450\" \"DEBRV\" \"NOAES\" \"DEBRV\" \"RULED\" \"DEBRV\"],\n",
    "#             [\"Feeder_450\" \"DEBRV\" \"RUKGD\" \"PLGDY\" \"DKAAR\" \"SEGOT\" \"DEBRV\"],\n",
    "#             [\"Feeder_800\" \"PLGDY\" \"RUKGD\" \"RULED\" \"FIKTK\" \"FIRAU\" \"PLGDY\"],\n",
    "#             [\"Feeder_450\" \"PLGDY\" \"RUKGD\" \"FIKTK\" \"RULED\" \"FIRAU\" \"PLGDY\"],\n",
    "#             [\"Feeder_450\" \"NOKRS\" \"SEGOT\" \"DKAAR\" \"PLGDY\" \"RUKGD\" \"PLGDY\" \"DKAAR\" \"SEGOT\" \"NOKRS\"],\n",
    "#             [\"Feeder_800\" \"NOAES\" \"NOBGO\" \"NOSVG\" \"NOKRS\" \"SEGOT\" \"DKAAR\" \"SEGOT\" \"NOKRS\" \"NOSVG\" \"NOBGO\" \"NOAES\"]]\n",
    "\n",
    "services = [[33.0 2 \"Feeder_800\" \"DEBRV\" \"NOKRS\" \"DEBRV\"],\n",
    "                [33.0 2 \"Feeder_800\" \"NOKRS\" \"NOSVG\" \"NOBGO\" \"NOAES\" \"NOKRS\"],\n",
    "                [33.0 2 \"Feeder_450\" \"NOKRS\" \"SEGOT\" \"DKAAR\" \"NOKRS\"],\n",
    "                [33.0 2 \"Feeder_800\" \"DKAAR\" \"PLGDY\" \"RUKGD\" \"DKAAR\"],\n",
    "                [33.0 2 \"Feeder_450\" \"SEGOT\" \"FIRAU\" \"FIKTK\" \"RULED\" \"SEGOT\"]]\n",
    "\n",
    "# services = [[33.0 2 \"Feeder\" \"DEBRV\" \"DKAAR\" \"SEGOT\" \"FIRAU\" \"DEBRV\"],\n",
    "#             [33.0 2 \"Feeder\" \"NOKRS\" \"DKAAR\" \"SEGOT\" \"NOBGO\" \"NOKRS\"]]\n",
    "\n",
    "\n",
    "\n",
    "# Initialize an empty Set to store unique ports\n",
    "service_ports = []\n",
    "# Iterate through the subarrays and add the unique ports to the set\n",
    "for service in services\n",
    "    for port in service[4:end]\n",
    "        push!(service_ports, port)\n",
    "    end\n",
    "end\n",
    "service_ports = unique(service_ports);\n"
   ]
  },
  {
   "cell_type": "code",
   "execution_count": 3,
   "metadata": {},
   "outputs": [],
   "source": [
    "# List of ports that have intersecting service\n",
    "intersect_ports = []\n",
    "for i in 1:length(services)\n",
    "    for j in i+1:length(services)\n",
    "        push!(intersect_ports, intersect([[row[4:end]...] for row in services][i], [[row[4:end]...] for row in services][j]))\n",
    "    end\n",
    "end\n",
    "intersect_ports = collect(Set(i for j in intersect_ports for i in j)); # Collecting unique transshipment nodes\n",
    "\n",
    "# Adding transshipment nodes where services intersect\n",
    "services_w_transshipment = []\n",
    "transshipment_nodes = []\n",
    "i = 1\n",
    "for service in services\n",
    "    updated_service = []\n",
    "    for port in service\n",
    "        if port in intersect_ports\n",
    "            push!(updated_service, port * string(i)) # vi behøves i realiteten ikke at update vores serivces\n",
    "            push!(transshipment_nodes, port * string(i))\n",
    "        else\n",
    "            push!(updated_service, port)\n",
    "        end\n",
    "    end\n",
    "    push!(services_w_transshipment, updated_service)\n",
    "    i += 1\n",
    "end\n",
    "transshipment_nodes = unique(transshipment_nodes);"
   ]
  },
  {
   "cell_type": "code",
   "execution_count": 11,
   "metadata": {},
   "outputs": [],
   "source": [
    "# Source and terminal adjacency list\n",
    "s_t_adj = []\n",
    "for port in service_ports\n",
    "    for node in transshipment_nodes\n",
    "        if port == node[1:5]\n",
    "            push!(s_t_adj, [string(port, \"s\"), node, parse.(Float64, ports[ports.UNLocode .== port, 9][1])  + ports[ports.UNLocode .== port, 12][1]])\n",
    "            push!(s_t_adj, [node, string(port, \"t\"), parse.(Float64, ports[ports.UNLocode .== port, 9][1]) + ports[ports.UNLocode .== port, 12][1]])\n",
    "        end\n",
    "    end\n",
    "    if port ∉ intersect_ports\n",
    "        push!(s_t_adj, [string(port, \"s\"), port, parse.(Float64, ports[ports.UNLocode .== port, 9][1])])\n",
    "        push!(s_t_adj, [port, string(port, \"t\"), parse.(Float64, ports[ports.UNLocode .== port, 9][1])])\n",
    "    end\n",
    "end\n",
    "\n",
    "# Transshipment nodes adjacency list\n",
    "transshipment_adj = []\n",
    "for node in intersect_ports, i in transshipment_nodes, j in transshipment_nodes\n",
    "    if j!=i && contains(i, node) && contains(j, node)\n",
    "        push!(transshipment_adj, [i, j, parse.(Float64, ports[ports.UNLocode .== node, 10][1])]) # Skal vi også have move omkostninger med, da vi skal load og disch?\n",
    "    end\n",
    "end\n",
    "\n",
    "# Service ports adjacency list\n",
    "ports_adj = []\n",
    "test = []\n",
    "for service in 1:length(services_w_transshipment)\n",
    "    for port in 5:length(services_w_transshipment[service]) # Hvad gør vi med port call omkostninger?\n",
    "        push!(ports_adj, [services_w_transshipment[service][port-1], services_w_transshipment[service][port], 0.0]) # ports[ports.UNLocode .== services_w_transshipment[service][port][1:5], 12][1]]\n",
    "    end\n",
    "end\n",
    "\n",
    "# Penalty edges adjacency list\n",
    "penalty_adj = []\n",
    "for porti in 1:length(service_ports)\n",
    "    for portj in 1:length(service_ports)\n",
    "        if service_ports[porti] != service_ports[portj]\n",
    "            push!(penalty_adj, [string(service_ports[porti], \"s\"), string(service_ports[portj], \"t\"), 1000.0])\n",
    "        end\n",
    "    end\n",
    "    push!(penalty_adj, [string(service_ports[porti], \"t\"), nothing, 0.0])\n",
    "    #push!(penalty_adj, [string(service_ports[porti], \"t\"), string(service_ports[porti], \"t\"), 0.0])\n",
    "end\n",
    "\n",
    "\n",
    "edges = vcat(s_t_adj, transshipment_adj, ports_adj, penalty_adj);"
   ]
  },
  {
   "cell_type": "code",
   "execution_count": 13,
   "metadata": {},
   "outputs": [
    {
     "data": {
      "text/plain": [
       "get_G (generic function with 1 method)"
      ]
     },
     "metadata": {},
     "output_type": "display_data"
    }
   ],
   "source": [
    "function get_G(edges)\n",
    "    # Create an empty adjacency list\n",
    "    graph = Dict{String, Vector{Tuple{Any, Float64}}}()  # Use Tuple to store (target, VC)\n",
    "    #graph = Dict{String, Vector{Tuple{String, Float64}}}()  # Use Tuple to store (target, VC)\n",
    "\n",
    "    # Populate the adjacency list\n",
    "    for edge in edges\n",
    "        source, target, weight = edge\n",
    "        if haskey(graph, source)\n",
    "            push!(graph[source], (target, weight))\n",
    "        else\n",
    "            graph[source] = [(target, weight)]\n",
    "        end\n",
    "    end\n",
    "\n",
    "    return graph\n",
    "end"
   ]
  },
  {
   "cell_type": "code",
   "execution_count": 14,
   "metadata": {},
   "outputs": [
    {
     "data": {
      "text/plain": [
       "dijkstra (generic function with 1 method)"
      ]
     },
     "metadata": {},
     "output_type": "display_data"
    }
   ],
   "source": [
    "function dijkstra(G, source, destination) # HUSK DUAL VARIABLES\n",
    "    dist = Dict{Any, Float64}()\n",
    "    prev = Dict{Any, Any}()\n",
    "    Q = Set(keys(G))\n",
    "\n",
    "    for v in Q\n",
    "        dist[v] = Inf\n",
    "        prev[v] = nothing\n",
    "    end\n",
    "\n",
    "    dist[source] = 0.0\n",
    "\n",
    "    while !isempty(Q)\n",
    "        min_value = Inf\n",
    "        min_key = string()\n",
    "        for i in Q\n",
    "            if dist[i] <= min_value\n",
    "                min_value = dist[i]\n",
    "                min_key = i\n",
    "            end\n",
    "        end\n",
    "        u = min_key\n",
    "\n",
    "        if dist[u] == Inf\n",
    "            break\n",
    "        end\n",
    "        if u == destination\n",
    "            break\n",
    "        end\n",
    "        \n",
    "        delete!(Q, u)\n",
    "\n",
    "        for v in G[u]\n",
    "            if haskey(G, v[1])\n",
    "                alt = dist[u] + v[2]\n",
    "                if alt < dist[v[1]]\n",
    "                    dist[v[1]] = alt\n",
    "                    prev[v[1]] = u\n",
    "                end\n",
    "            else\n",
    "                break\n",
    "            end\n",
    "        end\n",
    "    end\n",
    "\n",
    "    S = []\n",
    "    u = destination\n",
    "    push!(S, u)\n",
    "\n",
    "    while prev[u] != nothing\n",
    "        push!(S, u)\n",
    "        u = prev[u]\n",
    "    end\n",
    "    push!(S, source)\n",
    "    \n",
    "    return reverse(S[2:end]), dist[destination]\n",
    "end\n"
   ]
  },
  {
   "cell_type": "markdown",
   "metadata": {},
   "source": [
    "## Flowproblem"
   ]
  },
  {
   "cell_type": "markdown",
   "metadata": {},
   "source": [
    "### Initialization"
   ]
  },
  {
   "cell_type": "code",
   "execution_count": 15,
   "metadata": {},
   "outputs": [],
   "source": [
    "paths = []\n",
    "costs = []\n",
    ";"
   ]
  },
  {
   "cell_type": "code",
   "execution_count": 16,
   "metadata": {},
   "outputs": [],
   "source": [
    "# Decision variables\n",
    "decision_var = []\n",
    "for edge in edges\n",
    "    push!(decision_var, string(edge[1], \"|\", edge[2]))\n",
    "end\n",
    "\n",
    "# Initializing parameters\n",
    "k = 1:size(baltic_demand.Origin, 1)\n",
    "dual_var = zeros(length(decision_var))\n",
    "\n",
    "# Updated edges w.r.t. dual costs\n",
    "edges_dual = edges\n",
    "for i in 1:length(edges_dual)\n",
    "    edges_dual[i][3] = edges_dual[i][3] + dual_var[i]\n",
    "end\n",
    "\n",
    "# Paths and costs from shortest path\n",
    "for i in 1:length(baltic_demand.Origin)\n",
    "    path, cost = dijkstra(get_G(edges_dual), string(baltic_demand.Origin[i],\"s\"), string(baltic_demand.Destination[i],\"t\"))\n",
    "    push!(paths, path)\n",
    "    push!(costs, cost)\n",
    "end"
   ]
  },
  {
   "cell_type": "markdown",
   "metadata": {},
   "source": [
    "### Actual problem"
   ]
  },
  {
   "cell_type": "code",
   "execution_count": 20,
   "metadata": {},
   "outputs": [
    {
     "data": {
      "text/latex": [
       "$ 647 x_{1} + 744 x_{2} + 623 x_{3} + 744 x_{4} + 992 x_{5} + 595 x_{6} + 568 x_{7} + 673 x_{8} + 744 x_{9} + 647 x_{10} + 520 x_{11} + 673 x_{12} + 588 x_{13} + 992 x_{14} + 595 x_{15} + 568 x_{16} + 623 x_{17} + 588 x_{18} + 744 x_{19} + 721 x_{20} + 520 x_{21} + 721 x_{22} $"
      ],
      "text/plain": [
       "647 x[1] + 744 x[2] + 623 x[3] + 744 x[4] + 992 x[5] + 595 x[6] + 568 x[7] + 673 x[8] + 744 x[9] + 647 x[10] + 520 x[11] + 673 x[12] + 588 x[13] + 992 x[14] + 595 x[15] + 568 x[16] + 623 x[17] + 588 x[18] + 744 x[19] + 721 x[20] + 520 x[21] + 721 x[22]"
      ]
     },
     "metadata": {},
     "output_type": "display_data"
    }
   ],
   "source": [
    "flowModel = Model(HiGHS.Optimizer)\n",
    "k = 1:size(baltic_demand.Origin, 1)\n",
    "dual = zeros(length(decision_var))\n",
    "@variable(flowModel, x[k] >= 0)\n",
    "@objective(flowModel, Min, sum(costs[j]*x[j] for j in k))"
   ]
  },
  {
   "cell_type": "code",
   "execution_count": 68,
   "metadata": {},
   "outputs": [],
   "source": [
    "aij = Matrix{Float64}(undef, length(decision_var), 0)\n",
    "uij = Matrix{Float64}(undef, length(decision_var), 0)\n",
    "\n",
    "\n",
    "\n",
    "for i in 1:length(paths)\n",
    "    ak = zeros(Float64, length(decision_var))\n",
    "    for j in 2:length(paths[i])\n",
    "        ak[findall(x -> x == string(paths[i][j-1], \"|\", paths[i][j]), decision_var)[1]] = 1\n",
    "    end\n",
    "    aij = [aij ak]\n",
    "end\n",
    "\n",
    "\n",
    "for i in 1:length(services_w_transshipment)\n",
    "    us = zeros(Float64, length(decision_var))\n",
    "    for j in 5:length(services_w_transshipment[i])\n",
    "        us[findall(x -> x == string(services_w_transshipment[i][j-1], \"|\", services_w_transshipment[i][j]), decision_var)[1]] = fleet_data[fleet_data.\"Vessel class\" .== services_w_transshipment[i][3], 2][1]\n",
    "        us[findall(x -> x == string(services_w_transshipment[i][j-1], \"|\", services_w_transshipment[i][j-1][1:5], \"t\"), decision_var)[1]] = fleet_data[fleet_data.\"Vessel class\" .== services_w_transshipment[i][3], 2][1]\n",
    "        us[findall(x -> x == string(services_w_transshipment[i][j-1][1:5], \"s\", \"|\", services_w_transshipment[i][j-1]), decision_var)[1]] = fleet_data[fleet_data.\"Vessel class\" .== services_w_transshipment[i][3], 2][1]\n",
    "    end\n",
    "    uij = [uij us]\n",
    "end\n",
    "        \n",
    "        \n"
   ]
  },
  {
   "cell_type": "markdown",
   "metadata": {},
   "source": [
    "Berfore the master problem is formulated, the $c_{y}$ constants are calculated which correspond to the fixed port costs (more might be added later).\n",
    "\n",
    "Moreover, the sum of all paths must be equal to $d_{k}$, in order to fulfill the demand. However later on, a new expensive penalty edge is added which penalizes all the containers that are not delivered to the commodity port."
   ]
  },
  {
   "cell_type": "markdown",
   "metadata": {},
   "source": [
    "As the decision variables, $x_{i,j}$ represent the edges in the liner shipping network (eventually paths), the variables are initialized by pairing the neigbor ports in the services above. Thereby, the master problem is reduced to only respect the strict subset of all feasible patterns i.e. patterns using the generated services."
   ]
  },
  {
   "cell_type": "code",
   "execution_count": null,
   "metadata": {},
   "outputs": [],
   "source": [
    "flowModel = Model() # Model for the master problem\n",
    "n_k = size(constraints, 1)\n",
    "k = 1:size(constraints, 1) # Initial number of variables\n",
    "A = Matrix(I, n_k, n_k)\n",
    "\n",
    "@variable(flowModel, x[k] >= 0) # Defining the variables\n",
    "@objective(flowModel, Min, sum(x[j] for j in k)) # Setting the objective\n",
    "@constraint(flowModel, [i=1:n_k], sum(A[i, j] * x[j] for j in k) == 0)\n",
    "\n"
   ]
  },
  {
   "cell_type": "code",
   "execution_count": null,
   "metadata": {},
   "outputs": [],
   "source": [
    "W=100 # skibe cap\n",
    "cardinalityM=5\n",
    "M=[1:cardinalityM]\n",
    "A=Matrix(I, cardinalityM, cardinalityM)\n",
    "p=zeros(5)\n",
    "b=[45; 38; 25; 11; 12]\n",
    "w=[22; 42; 52; 53; 78]\n",
    "\n",
    "# flowModel = Model() # Model for the master problem\n",
    "# Jprime = 1:size(A, 2) # Initial number of variables\n",
    "# @variable(flowModel, 0 <= x[Jprime] <= 1000000) # Defining the variables\n",
    "# @objective(flowModel, Min, sum(x[j] for j in Jprime)) # Setting the objective\n",
    "# @constraint(flowModel, [i=1:cardinalityM], sum(A[i, j] * x[j] for j in Jprime) == b[i])\n",
    "# print(flowModel)\n",
    "\n",
    "flowModel = Model() # Model for the master problem\n",
    "n_k = size(baltic_demand, 1)\n",
    "k = 1:size(baltic_demand, 1) # Initial number of variables\n",
    "A = Matrix(I, n_k, n_k)\n",
    "\n",
    "@variable(flowModel, x[k] >= 0) # Defining the variables\n",
    "@objective(flowModel, Min, sum(x[j] for j in k)) # Setting the objective\n",
    "@constraint(flowModel, [constraints[i]], sum(A[i, j] * (x[j] + x[1]) for j in k, i in n_k) == 0)\n",
    "\n",
    "\n",
    "# J = 1_000  # Some large number\n",
    "# model = Model(HiGHS.Optimizer)\n",
    "# set_silent(model)\n",
    "# @variable(model, x[x_ij] >= 0, Int)\n",
    "# @variable(model, y[getindex.(c_y, 1)] >= 0, Int)\n",
    "# ;"
   ]
  }
 ],
 "metadata": {
  "kernelspec": {
   "display_name": "Julia 1.9.3",
   "language": "julia",
   "name": "julia-1.9"
  },
  "language_info": {
   "file_extension": ".jl",
   "mimetype": "application/julia",
   "name": "julia",
   "version": "1.9.3"
  }
 },
 "nbformat": 4,
 "nbformat_minor": 2
}
