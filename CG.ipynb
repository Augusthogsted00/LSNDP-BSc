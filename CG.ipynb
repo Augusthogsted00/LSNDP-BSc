{
 "cells": [
  {
   "cell_type": "markdown",
   "metadata": {},
   "source": [
    "# Initialization"
   ]
  },
  {
   "cell_type": "code",
   "execution_count": 42,
   "metadata": {},
   "outputs": [],
   "source": [
    "using CSV, DataFrames, JuMP, HiGHS, LinearAlgebra, DataStructures, Statistics, GLPK\n",
    "baltic_demand = DataFrame(CSV.File(\"/Users/augusthogsted/WD/Bachelor projekt/LINERLIB-master/data/Demand_Baltic.csv\", delim='\\t'))\n",
    "ports = DataFrame(CSV.File(\"/Users/augusthogsted/WD/Bachelor projekt/LINERLIB-master/data/ports.csv\", delim='\\t'))\n",
    "distances = DataFrame(CSV.File(\"/Users/augusthogsted/WD/Bachelor projekt/LINERLIB-master/data/dist_dense.csv\", delim='\\t'))\n",
    "baltic_fleet = DataFrame(CSV.File(\"/Users/augusthogsted/WD/Bachelor projekt/LINERLIB-master/data/fleet_Baltic.csv\", delim='\\t'))\n",
    "fleet_data = DataFrame(CSV.File(\"/Users/augusthogsted/WD/Bachelor projekt/LINERLIB-master/data/fleet_data.csv\", delim='\\t'))\n",
    ";"
   ]
  },
  {
   "cell_type": "code",
   "execution_count": 2,
   "metadata": {},
   "outputs": [],
   "source": [
    "commodities = []\n",
    "for i in 1:size(baltic_demand, 1)\n",
    "    push!(commodities, string(baltic_demand.Origin[i], \"s\", \"|\", baltic_demand.Destination[i], \"t\"))\n",
    "end"
   ]
  },
  {
   "cell_type": "markdown",
   "metadata": {},
   "source": [
    "### Services:\n",
    "\n",
    "The following array contains manual generated services to which the column generation will be applied."
   ]
  },
  {
   "cell_type": "code",
   "execution_count": 3,
   "metadata": {},
   "outputs": [],
   "source": [
    "# services = [[\"Feeder_800\" \"DEBRV\" \"NOKRS\" \"DEBRV\"],\n",
    "#             [\"Feeder_800\" \"RUKGD\" \"FIKTK\" \"RUKGD\"],\n",
    "#             [\"Feeder_450\" \"DEBRV\" \"NOSVG\" \"DEBRV\"],\n",
    "#             [\"Feeder_450\" \"NOAES\" \"NOBGO\" \"NOAES\"],\n",
    "#             [\"Feeder_450\" \"NOKRS\" \"SEGOT\" \"DKAAR\" \"NOKRS\"],\n",
    "#             [\"Feeder_800\" \"DEBRV\" \"SEGOT\" \"DKAAR\" \"DEBRV\"],\n",
    "#             [\"Feeder_450\" \"DEBRV\" \"NOSVG\" \"NOBGO\" \"NOAES\" \"DEBRV\"],\n",
    "#             [\"Feeder_450\" \"SEGOT\" \"DKAAR\" \"PLGDY\" \"RUKGD\" \"SEGOT\"],\n",
    "#             [\"Feeder_450\" \"DEBRV\" \"NOAES\" \"DEBRV\" \"RULED\" \"DEBRV\"],\n",
    "#             [\"Feeder_450\" \"DEBRV\" \"RUKGD\" \"PLGDY\" \"DKAAR\" \"SEGOT\" \"DEBRV\"],\n",
    "#             [\"Feeder_800\" \"PLGDY\" \"RUKGD\" \"RULED\" \"FIKTK\" \"FIRAU\" \"PLGDY\"],\n",
    "#             [\"Feeder_450\" \"PLGDY\" \"RUKGD\" \"FIKTK\" \"RULED\" \"FIRAU\" \"PLGDY\"],\n",
    "#             [\"Feeder_450\" \"NOKRS\" \"SEGOT\" \"DKAAR\" \"PLGDY\" \"RUKGD\" \"PLGDY\" \"DKAAR\" \"SEGOT\" \"NOKRS\"],\n",
    "#             [\"Feeder_800\" \"NOAES\" \"NOBGO\" \"NOSVG\" \"NOKRS\" \"SEGOT\" \"DKAAR\" \"SEGOT\" \"NOKRS\" \"NOSVG\" \"NOBGO\" \"NOAES\"]]\n",
    "\n",
    "# services = [[33.0 2 \"Feeder_800\" \"DEBRV\" \"NOKRS\" \"DEBRV\"],\n",
    "#                 [33.0 2 \"Feeder_800\" \"NOKRS\" \"NOSVG\" \"NOBGO\" \"NOAES\" \"NOKRS\"],\n",
    "#                 [33.0 2 \"Feeder_450\" \"NOKRS\" \"SEGOT\" \"DKAAR\" \"NOKRS\"],\n",
    "#                 [33.0 2 \"Feeder_800\" \"DKAAR\" \"PLGDY\" \"RUKGD\" \"DKAAR\"],\n",
    "#                 [33.0 2 \"Feeder_450\" \"SEGOT\" \"FIRAU\" \"FIKTK\" \"RULED\" \"SEGOT\"]]\n",
    "\n",
    "# services = [[33.0 2 \"Feeder\" \"DEBRV\" \"DKAAR\" \"SEGOT\" \"FIRAU\" \"DEBRV\"],\n",
    "#             [33.0 2 \"Feeder\" \"NOKRS\" \"DKAAR\" \"SEGOT\" \"NOBGO\" \"NOKRS\"]]\n",
    "\n",
    "services = [\n",
    "    [200000 1 \"Feeder_450\" \"DEBRV\" \"NOSVG\" \"NOBGO\" \"NOAES\" \"DEBRV\"],\n",
    "    [130000 1 \"Feeder_450\" \"DEBRV\" \"RUKGD\" \"FIKTK\" \"FIRAU\" \"PLGDY\" \"DEBRV\"],\n",
    "    [97000 1 \"Feeder_450\" \"DEBRV\" \"DKAAR\" \"SEGOT\" \"NOKRS\" \"DEBRV\"],\n",
    "    [100000 1 \"Feeder_800\" \"DEBRV\" \"SEGOT\" \"RULED\" \"DEBRV\"]\n",
    "]\n",
    "\n",
    "\n",
    "# Initialize an empty Set to store unique ports\n",
    "service_ports = []\n",
    "# Iterate through the subarrays and add the unique ports to the set\n",
    "for service in services\n",
    "    for port in service[4:end]\n",
    "        push!(service_ports, port)\n",
    "    end\n",
    "end\n",
    "service_ports = unique(service_ports);\n"
   ]
  },
  {
   "cell_type": "code",
   "execution_count": 4,
   "metadata": {},
   "outputs": [],
   "source": [
    "# List of ports that have intersecting service\n",
    "intersect_ports = []\n",
    "for i in 1:length(services)\n",
    "    for j in i+1:length(services)\n",
    "        push!(intersect_ports, intersect([[row[4:end]...] for row in services][i], [[row[4:end]...] for row in services][j]))\n",
    "    end\n",
    "end\n",
    "intersect_ports = collect(Set(i for j in intersect_ports for i in j)); # Collecting unique transshipment nodes\n",
    "\n",
    "# Adding transshipment nodes where services intersect\n",
    "services_w_transshipment = []\n",
    "transshipment_nodes = []\n",
    "i = 1\n",
    "for service in services\n",
    "    updated_service = []\n",
    "    for port in service\n",
    "        if port in intersect_ports\n",
    "            push!(updated_service, port * string(i)) # vi behøves i realiteten ikke at update vores serivces\n",
    "            push!(transshipment_nodes, port * string(i))\n",
    "        else\n",
    "            push!(updated_service, port)\n",
    "        end\n",
    "    end\n",
    "    push!(services_w_transshipment, updated_service)\n",
    "    i += 1\n",
    "end\n",
    "transshipment_nodes = unique(transshipment_nodes);"
   ]
  },
  {
   "cell_type": "code",
   "execution_count": 5,
   "metadata": {},
   "outputs": [],
   "source": [
    "# Source and terminal adjacency list\n",
    "s_t_adj = []\n",
    "for port in service_ports\n",
    "    for node in transshipment_nodes\n",
    "        if port == node[1:5]\n",
    "            push!(s_t_adj, [string(port, \"s\"), node, parse.(Float64, ports[ports.UNLocode .== port, 9][1])  + ports[ports.UNLocode .== port, 12][1]])\n",
    "            push!(s_t_adj, [node, string(port, \"t\"), parse.(Float64, ports[ports.UNLocode .== port, 9][1]) + ports[ports.UNLocode .== port, 12][1]])\n",
    "        end\n",
    "    end\n",
    "    if port ∉ intersect_ports\n",
    "        push!(s_t_adj, [string(port, \"s\"), port, parse.(Float64, ports[ports.UNLocode .== port, 9][1])])\n",
    "        push!(s_t_adj, [port, string(port, \"t\"), parse.(Float64, ports[ports.UNLocode .== port, 9][1])])\n",
    "    end\n",
    "end\n",
    "\n",
    "# Transshipment nodes adjacency list\n",
    "transshipment_adj = []\n",
    "for node in intersect_ports, i in transshipment_nodes, j in transshipment_nodes\n",
    "    if j!=i && contains(i, node) && contains(j, node)\n",
    "        push!(transshipment_adj, [i, j, parse.(Float64, ports[ports.UNLocode .== node, 10][1])]) # Skal vi også have move omkostninger med, da vi skal load og disch?\n",
    "    end\n",
    "end\n",
    "\n",
    "# Service ports adjacency list\n",
    "ports_adj = []\n",
    "test = []\n",
    "for service in 1:length(services_w_transshipment)\n",
    "    for port in 5:length(services_w_transshipment[service]) # Hvad gør vi med port call omkostninger?\n",
    "        push!(ports_adj, [services_w_transshipment[service][port-1], services_w_transshipment[service][port], 0.0]) # ports[ports.UNLocode .== services_w_transshipment[service][port][1:5], 12][1]]\n",
    "    end\n",
    "end\n",
    "\n",
    "# Penalty edges adjacency list\n",
    "penalty_adj = []\n",
    "for k in 1:size(baltic_demand,1)\n",
    "    push!(penalty_adj, [string(baltic_demand.Origin[k], \"s\"), string(baltic_demand.Destination[k], \"t\"), 1000])\n",
    "end\n",
    "\n",
    "dummy_adj = []\n",
    "for port in 1:length(service_ports)\n",
    "    push!(dummy_adj, [string(service_ports[port], \"t\"), nothing, 0.0])\n",
    "end\n",
    "\n",
    "edges = vcat(ports_adj, s_t_adj, transshipment_adj, penalty_adj, dummy_adj);"
   ]
  },
  {
   "cell_type": "code",
   "execution_count": 6,
   "metadata": {},
   "outputs": [
    {
     "data": {
      "text/plain": [
       "get_G (generic function with 1 method)"
      ]
     },
     "metadata": {},
     "output_type": "display_data"
    }
   ],
   "source": [
    "function get_G(edges)\n",
    "    # Create an empty adjacency list\n",
    "    graph = Dict{String, Vector{Tuple{Any, Float64}}}()  # Use Tuple to store (target, VC)\n",
    "    #graph = Dict{String, Vector{Tuple{String, Float64}}}()  # Use Tuple to store (target, VC)\n",
    "\n",
    "    # Populate the adjacency list\n",
    "    for edge in edges\n",
    "        source, target, weight = edge\n",
    "        if haskey(graph, source)\n",
    "            push!(graph[source], (target, weight))\n",
    "        else\n",
    "            graph[source] = [(target, weight)]\n",
    "        end\n",
    "    end\n",
    "\n",
    "    return graph\n",
    "end"
   ]
  },
  {
   "cell_type": "code",
   "execution_count": 7,
   "metadata": {},
   "outputs": [
    {
     "data": {
      "text/plain": [
       "dijkstra (generic function with 1 method)"
      ]
     },
     "metadata": {},
     "output_type": "display_data"
    }
   ],
   "source": [
    "function dijkstra(G, source, destination) # HUSK DUAL VARIABLES\n",
    "    dist = Dict{Any, Float64}()\n",
    "    prev = Dict{Any, Any}()\n",
    "    Q = Set(keys(G))\n",
    "\n",
    "    for v in Q\n",
    "        dist[v] = Inf\n",
    "        prev[v] = nothing\n",
    "    end\n",
    "\n",
    "    dist[source] = 0.0\n",
    "\n",
    "    while !isempty(Q)\n",
    "        min_value = Inf\n",
    "        min_key = string()\n",
    "        for i in Q\n",
    "            if dist[i] <= min_value\n",
    "                min_value = dist[i]\n",
    "                min_key = i\n",
    "            end\n",
    "        end\n",
    "        u = min_key\n",
    "\n",
    "        if dist[u] == Inf\n",
    "            break\n",
    "        end\n",
    "        if u == destination\n",
    "            break\n",
    "        end\n",
    "        \n",
    "        delete!(Q, u)\n",
    "\n",
    "        for v in G[u]\n",
    "            if haskey(G, v[1])\n",
    "                alt = dist[u] + v[2]\n",
    "                if alt < dist[v[1]]\n",
    "                    dist[v[1]] = alt\n",
    "                    prev[v[1]] = u\n",
    "                end\n",
    "            else\n",
    "                break\n",
    "            end\n",
    "        end\n",
    "    end\n",
    "\n",
    "    S = []\n",
    "    u = destination\n",
    "    push!(S, u)\n",
    "\n",
    "    while prev[u] != nothing\n",
    "        push!(S, u)\n",
    "        u = prev[u]\n",
    "    end\n",
    "    push!(S, source)\n",
    "    \n",
    "    return reverse(S[2:end]), dist[destination]\n",
    "end\n"
   ]
  },
  {
   "cell_type": "markdown",
   "metadata": {},
   "source": [
    "## Flowproblem"
   ]
  },
  {
   "cell_type": "markdown",
   "metadata": {},
   "source": [
    "### Initialization"
   ]
  },
  {
   "cell_type": "code",
   "execution_count": 43,
   "metadata": {},
   "outputs": [],
   "source": [
    "current_paths = []\n",
    "current_costs = []\n",
    "current_commodities = []\n",
    ";"
   ]
  },
  {
   "cell_type": "markdown",
   "metadata": {},
   "source": [
    "## Basis"
   ]
  },
  {
   "cell_type": "code",
   "execution_count": 44,
   "metadata": {},
   "outputs": [],
   "source": [
    "# Bases med penalty edges\n",
    "for i in 1:length(penalty_adj)\n",
    "    push!(current_paths, penalty_adj[i][1:2])\n",
    "    push!(current_costs, penalty_adj[i][3])\n",
    "    append!(current_commodities, i)\n",
    "end\n",
    "\n",
    "\n",
    "# Edges with capacity constraint\n",
    "i_j = []\n",
    "for edge in edges\n",
    "    if edge ∈ (ports_adj)\n",
    "        push!(i_j, string(edge[1], \"|\", edge[2]))\n",
    "    end\n",
    "end\n",
    "\n",
    "n_ij = size(i_j, 1) # Number of edges\n",
    "ij = 1:n_ij # Range of edges\n",
    "\n",
    "# Initializing parameters\n",
    "n_k = size(baltic_demand.Origin, 1) # Number of commodities\n",
    "K = 1:n_k\n",
    "\n",
    "n_s = size(services_w_transshipment, 1) # Number of services\n",
    "S = 1:n_s\n",
    "\n",
    "n_ff = size(penalty_adj, 1) # Number of penalty edges\n",
    "ff = 1:n_ff\n",
    "index_ff = 1:n_k # Index of penalty paths\n",
    "\n",
    "n_p = size(current_paths, 1) # Number of paths\n",
    "P = 1:n_p\n",
    "\n",
    "n_mv = size(baltic_fleet, 1)\n",
    "v = 1:n_mv\n",
    ";"
   ]
  },
  {
   "cell_type": "code",
   "execution_count": 45,
   "metadata": {},
   "outputs": [
    {
     "data": {
      "text/plain": [
       "1:22"
      ]
     },
     "metadata": {},
     "output_type": "display_data"
    }
   ],
   "source": [
    "# Initial base including penalty edges\n",
    "PK = Matrix{Float64}(undef, n_k, 0) # Type of commodity for each path\n",
    "mvs = Matrix{Float64}(undef, n_mv, 0) # Type of vessel on each commodity\n",
    "aij = Matrix{Float64}(undef, n_ij, 0)\n",
    "uij = Matrix{Float64}(undef, n_ij, 0) # vessel capacity if service s uses edge (i,j), else 0\n",
    "\n",
    "# Constraint matrices for commodidty paths PK and edges used\n",
    "for i in P\n",
    "    ak = zeros(Float64, n_ij)\n",
    "    pk = zeros(Float64, n_k)\n",
    "    for j in 2:length(current_paths[i])\n",
    "        if string(current_paths[i][j-1], \"|\", current_paths[i][j]) ∈ i_j\n",
    "            ak[findall(x -> x == string(current_paths[i][j-1], \"|\", current_paths[i][j]), i_j)[1]] = 1\n",
    "        end\n",
    "    end\n",
    "    pk[findall(x -> x == string(current_paths[i][1], \"|\", current_paths[i][end]), commodities)[1]] = 1\n",
    "    aij = [aij ak]\n",
    "    PK = [PK pk]\n",
    "end\n",
    "\n",
    "# Constraint matrix for edge capacities\n",
    "for i in 1:length(services_w_transshipment)\n",
    "    us = zeros(Float64, n_ij)\n",
    "    for j in 5:length(services_w_transshipment[i])\n",
    "        us[findall(x -> x == string(services_w_transshipment[i][j-1], \"|\", services_w_transshipment[i][j]), i_j)[1]] = fleet_data[fleet_data.\"Vessel class\" .== services_w_transshipment[i][3], 2][1]\n",
    "    end\n",
    "    uij = [uij us]\n",
    "end\n",
    "\n",
    "# Constraint matrix for service vessels\n",
    "for i in services\n",
    "    mv = zeros(Float64, n_mv)\n",
    "    mv[findall(x -> x == i[3], baltic_fleet.\"Vessel class\")[1]] = 1\n",
    "    mvs = [mvs mv]\n",
    "end\n",
    "\n",
    "P = 1:length(current_paths)\n",
    "A = 1:size(aij, 2)"
   ]
  },
  {
   "cell_type": "markdown",
   "metadata": {},
   "source": [
    "### Basis problem with penalty only"
   ]
  },
  {
   "cell_type": "code",
   "execution_count": 49,
   "metadata": {},
   "outputs": [
    {
     "data": {
      "text/plain": [
       "* Solver : GLPK\n",
       "\n",
       "* Status\n",
       "  Result count       : 1\n",
       "  Termination status : OPTIMAL\n",
       "  Message from the solver:\n",
       "  \"Solution is optimal\"\n",
       "\n",
       "* Candidate solution (result #1)\n",
       "  Primal status      : FEASIBLE_POINT\n",
       "  Dual status        : FEASIBLE_POINT\n",
       "  Objective value    : 4.90400e+06\n",
       "  Objective bound    : -Inf\n",
       "  Dual objective value : 4.90400e+06\n",
       "\n",
       "* Work counters\n",
       "  Solve time (sec)   : 1.64986e-04\n"
      ]
     },
     "metadata": {},
     "output_type": "display_data"
    }
   ],
   "source": [
    "flowModel = Model(GLPK.Optimizer)\n",
    "@variable(flowModel, x[P] >= 0)\n",
    "@variable(flowModel, 0 <= y[S] <= 1)\n",
    "@objective(flowModel, Min, sum(services_w_transshipment[i][1]*y[i] for i in S) + sum(current_costs[j]*x[j] for j in P))\n",
    "@constraint(flowModel, Y_ij[i=1:n_ij], sum(aij[i, j] * x[j] for j in A) <= sum(uij[i, j] * y[j] for j in S)) # Paths that uses edge ij\n",
    "@constraint(flowModel, Y_k[i=1:n_k], sum(PK[i, j] * x[j] for j in P) == baltic_demand.FFEPerWeek[i]) # Paths for commodity k ∈ K\n",
    "@constraint(flowModel, M_v[i=1:n_mv], sum(mvs[i, j] * y[j] for j in S) <= baltic_fleet.Quantity[i])\n",
    "#print(flowModel)\n",
    "optimize!(flowModel)\n",
    "solution_summary(flowModel)\n"
   ]
  },
  {
   "cell_type": "code",
   "execution_count": 47,
   "metadata": {},
   "outputs": [],
   "source": [
    "dual_Y_k = [dual(flowModel[:Y_k][i]) for i in K] # Dual variables for commodities at iteration 1 \n",
    "dual_Y_ij = [dual(flowModel[:Y_ij][i]) for i in ij] # Dual variables for edges at iteration 1 \n",
    "#reduced_cost = [-1.0] # Kickstarting while loop\n",
    ";"
   ]
  },
  {
   "cell_type": "code",
   "execution_count": 52,
   "metadata": {},
   "outputs": [
    {
     "name": "stdout",
     "output_type": "stream",
     "text": [
      "[1000.0, 1000.0, 869.4444444444447, 1000.0, 1000.0, 850.9999999999998, 831.0, 919.4444444444447, 1000.0, 962.9999999999999, 712.0, 680.9999999999999, 903.9999999999999, 1000.0, 888.0000000000002, 990.0, 630.9999999999999, 941.0, 1000.0, 1000.0, 712.0, 841.0]\n",
      "Any[1000.0, 1000.0, 869.4444444444446, 1000.0, 1000.0, 850.9999999999998, 831.0, 919.4444444444446, 999.9999999999998, 962.9999999999998, 712.0, 681.0, 903.9999999999998, 1000.0, 888.0000000000002, 831.0, 631.0, 941.0000000000002, 1000.0, 984.0, 712.0, 841.0]\n",
      "[0.0, 0.0, 0.0, 0.0, 0.0, 0.0, 0.0, 0.0, 0.0, 0.0, 0.0, 0.0, 0.0, 0.0, 0.0, 0.0, 0.0, 0.0, 0.0, 0.0, 0.0, 0.0]\n",
      "Min "
     ]
    },
    {
     "name": "stdout",
     "output_type": "stream",
     "text": [
      "200000 y[1] + 130000 y[2] + 97000 y[3] + 100000 y[4] + 1000 x[1] + 1000 x[2] + 1000 x[3] + 1000 x[4] + 1000 x[5] + 1000 x[6] + 1000 x[7] + 1000 x[8] + 1000 x[9] + 1000 x[10] + 1000 x[11] + 1000 x[12] + 1000 x[13] + 1000 x[14] + 1000 x[15] + 1000 x[16] + 1000 x[17] + 1000 x[18] + 1000 x[19] + 1000 x[20] + 1000 x[21] + 1000 x[22] + 409 x[23] + 642 x[24] + 528 x[25] + 446 x[26] + 897 x[27] + 297 x[28] + 473 x[29] + 578 x[30] + 446 x[31] + 409 x[32] + 354 x[33] + 578 x[34] + 350 x[35] + 897 x[36] + 297 x[37] + 473 x[38] + 528 x[39] + 350 x[40] + 642 x[41] + 483 x[42] + 354 x[43] + 483 x[44] + 473 x[45] + 831 x[46] + 994 x[47]\n",
      "Subject to\n",
      " Y_k[1] : x[1] + x[23] = 77\n",
      " Y_k[2] : x[2] + x[24] = 456\n",
      " Y_k[3] : x[3] + x[25] = 65\n",
      " Y_k[4] : x[4] + x[26] = 7\n",
      " Y_k[5] : x[5] + x[27] = 10\n",
      " Y_k[6] : x[6] + x[28] = 98\n",
      " Y_k[7] : x[7] + x[29] + x[45] = 660\n",
      " Y_k[8] : x[8] + x[30] = 17\n",
      " Y_k[9] : x[9] + x[31] = 268\n",
      " Y_k[10] : x[10] + x[32] = 18\n",
      " Y_k[11] : x[11] + x[33] = 16\n",
      " Y_k[12] : x[12] + x[34] = 37\n",
      " Y_k[13] : x[13] + x[35] = 187\n",
      " Y_k[14] : x[14] + x[36] = 50\n",
      " Y_k[15] : x[15] + x[37] = 231\n",
      " Y_k[16] : x[16] + x[38] + x[46] = 597\n",
      " Y_k[17] : x[17] + x[39] = 32\n",
      " Y_k[18] : x[18] + x[40] = 162\n",
      " Y_k[19] : x[19] + x[41] = 397\n",
      " Y_k[20] : x[20] + x[42] + x[47] = 1215\n",
      " Y_k[21] : x[21] + x[43] = 6\n",
      " Y_k[22] : x[22] + x[44] = 298\n",
      " Y_ij[1] : x[25] + x[27] + x[30] - 450 y[1] ≤ 0\n",
      " Y_ij[2] : x[27] + x[30] + x[39] - 450 y[1] ≤ 0\n",
      " Y_ij[3] : x[27] + x[34] + x[39] - 450 y[1] ≤ 0\n",
      " Y_ij[4] : x[34] + x[36] + x[39] - 450 y[1] ≤ 0\n",
      " Y_ij[5] : x[28] + x[31] + x[32] + x[35] - 450 y[2] ≤ 0\n",
      " Y_ij[6] : x[26] + x[28] + x[32] + x[35] - 450 y[2] ≤ 0\n",
      " Y_ij[7] : x[26] + x[28] + x[32] + x[40] - 450 y[2] ≤ 0\n",
      " Y_ij[8] : x[23] + x[26] + x[28] + x[40] - 450 y[2] ≤ 0\n",
      " Y_ij[9] : x[23] + x[26] + x[37] + x[40] - 450 y[2] ≤ 0\n",
      " Y_ij[10] : x[24] + x[43] + x[46] + x[47] - 450 y[3] ≤ 0\n",
      " Y_ij[11] : x[41] + x[43] + x[46] + x[47] - 450 y[3] ≤ 0\n",
      " Y_ij[12] : x[41] + x[43] + x[45] - 450 y[3] ≤ 0\n",
      " Y_ij[13] : x[33] + x[41] + x[45] - 450 y[3] ≤ 0\n",
      " Y_ij[14] : x[38] + x[42] - 800 y[4] ≤ 0\n",
      " Y_ij[15] : x[29] + x[42] + x[47] - 800 y[4] ≤ 0\n",
      " Y_ij[16] : x[29] + x[44] - 800 y[4] ≤ 0\n",
      " M_v[1] : y[1] + y[2] + y[3] ≤ 4\n",
      " M_v[2] : y[4] ≤ 2\n",
      " x[1] ≥ 0\n",
      " x[2] ≥ 0\n",
      " x[3] ≥ 0\n",
      " x[4] ≥ 0\n",
      " x[5] ≥ 0\n",
      " x[6] ≥ 0\n",
      " x[7] ≥ 0\n",
      " x[8] ≥ 0\n",
      " x[9] ≥ 0\n",
      " x[10] ≥ 0\n",
      " x[11] ≥ 0\n",
      " x[12] ≥ 0\n",
      " x[13] ≥ 0\n",
      " x[14] ≥ 0\n",
      " x[15] ≥ 0\n",
      " x[16] ≥ 0\n",
      " x[17] ≥ 0\n",
      " x[18] ≥ 0\n",
      " x[19] ≥ 0\n",
      " x[20] ≥ 0\n",
      " x[21] ≥ 0\n",
      " x[22] ≥ 0\n",
      " x[23] ≥ 0\n",
      " x[24] ≥ 0\n",
      " x[25] ≥ 0\n",
      " x[26] ≥ 0\n",
      " x[27] ≥ 0\n",
      " x[28] ≥ 0\n",
      " x[29] ≥ 0\n",
      " x[30] ≥ 0\n",
      " x[31] ≥ 0\n",
      " x[32] ≥ 0\n",
      " x[33] ≥ 0\n",
      " x[34] ≥ 0\n",
      " x[35] ≥ 0\n",
      " x[36] ≥ 0\n",
      " x[37] ≥ 0\n",
      " x[38] ≥ 0\n",
      " x[39] ≥ 0\n",
      " x[40] ≥ 0\n",
      " x[41] ≥ 0\n",
      " x[42] ≥ 0\n",
      " x[43] ≥ 0\n",
      " x[44] ≥ 0\n",
      " x[45] ≥ 0\n",
      " x[46] ≥ 0\n",
      " x[47] ≥ 0\n",
      " y[1] ≥ 0\n",
      " y[2] ≥ 0\n",
      " y[3] ≥ 0\n",
      " y[4] ≥ 0\n",
      " y[1] ≤ 1\n",
      " y[2] ≤ 1\n",
      " y[3] ≤ 1\n",
      " y[4] ≤ 1\n"
     ]
    }
   ],
   "source": [
    "#while any(reduced_cost .< 0)\n",
    "\n",
    "append!(dual_Y_ij, zeros(Float64, length(edges) - length(ports_adj)))\n",
    "\n",
    "# Initializing feasible paths\n",
    "candidate_paths = []\n",
    "candidate_costs = []\n",
    "candidate_commodities = []\n",
    "\n",
    "# Setting up new network with reduced cost\n",
    "edges_w_dual = deepcopy(edges)\n",
    "for i in 1:length(edges_w_dual)\n",
    "    edges_w_dual[i][3] = edges_w_dual[i][3] - dual_Y_ij[i]\n",
    "end\n",
    "\n",
    "for i in 1:size(baltic_demand, 1)\n",
    "    path, cost = dijkstra(get_G(edges_w_dual), string(baltic_demand.Origin[i],\"s\"), string(baltic_demand.Destination[i],\"t\"))\n",
    "    push!(candidate_paths, path)\n",
    "    push!(candidate_costs, cost)\n",
    "    append!(candidate_commodities, i)\n",
    "end\n",
    "\n",
    "\n",
    "println(dual_Y_k)\n",
    "println(candidate_costs)\n",
    "reduced_cost = candidate_costs - dual_Y_k\n",
    "\n",
    "\n",
    "for i in 1:length(candidate_paths)\n",
    "    if candidate_paths[i] ∈ current_paths\n",
    "        reduced_cost[i] = 0\n",
    "    end\n",
    "end\n",
    "println(reduced_cost)\n",
    "\n",
    "\n",
    "cp_r_k = candidate_paths[reduced_cost .< 0] #candidate_paths[reduced_cost .== minimum(reduced_cost)] #candidate_paths[reduced_cost .< 0]\n",
    "for i in 1:length(cp_r_k)\n",
    "    ak = zeros(Float64, n_ij)\n",
    "    pk = zeros(Float64, n_k)\n",
    "    for j in 2:length(cp_r_k[i])\n",
    "        if string(cp_r_k[i][j-1], \"|\", cp_r_k[i][j]) ∈ i_j\n",
    "            ak[findall(x -> x == string(cp_r_k[i][j-1], \"|\", cp_r_k[i][j]), i_j)[1]] = 1\n",
    "        end\n",
    "    end\n",
    "    pk[findall(x -> x == string(cp_r_k[i][1], \"|\", cp_r_k[i][end]), commodities)[1]] = 1\n",
    "    aij = [aij ak]\n",
    "    PK = [PK pk]\n",
    "    push!(current_paths, cp_r_k[i])\n",
    "    push!(current_costs, candidate_costs[reduced_cost .< 0][i])\n",
    "    append!(current_commodities, findall(x -> x == string(cp_r_k[i][1], \"|\", cp_r_k[i][end]), commodities)[1])\n",
    "end\n",
    "\n",
    "P = 1:length(current_paths)\n",
    "A = 1:size(aij, 2)\n",
    "\n",
    "flowModel = Model(GLPK.Optimizer)\n",
    "@variable(flowModel, x[P] >= 0)\n",
    "@variable(flowModel, 0 <= y[S] <= 1)\n",
    "@objective(flowModel, Min, sum(services_w_transshipment[i][1]*y[i] for i in S) + sum(current_costs[j]*x[j] for j in P))\n",
    "@constraint(flowModel, Y_ij[i=1:n_ij], sum(aij[i, j] * x[j] for j in A) <= sum(uij[i, j] * y[j] for j in S)) # Paths that uses edge ij\n",
    "@constraint(flowModel, Y_k[i=1:n_k], sum(PK[i, j] * x[j] for j in P) == baltic_demand.FFEPerWeek[i]) # Paths for commodity k ∈ K\n",
    "@constraint(flowModel, M_v[i=1:n_mv], sum(mvs[i, j] * y[j] for j in S) <= baltic_fleet.Quantity[i])\n",
    "optimize!(flowModel)\n",
    "#println(\"hey\", value.(x[P]))\n",
    "\n",
    "print(flowModel)\n",
    "\n",
    "dual_Y_k = [dual(flowModel[:Y_k][i]) for i in K]\n",
    "dual_Y_ij = [dual(flowModel[:Y_ij][i]) for i in ij]\n",
    "\n",
    "        \n",
    ";\n",
    "\n",
    "# HER \n",
    "\n",
    "# # #end\n",
    "\n",
    "# # primal_x = value.(x[P])\n",
    "# # primal_y = value.(y[S])\n"
   ]
  },
  {
   "cell_type": "code",
   "execution_count": 54,
   "metadata": {},
   "outputs": [
    {
     "data": {
      "text/plain": [
       "* Solver : GLPK\n",
       "\n",
       "* Status\n",
       "  Result count       : 1\n",
       "  Termination status : OPTIMAL\n",
       "  Message from the solver:\n",
       "  \"Solution is optimal\"\n",
       "\n",
       "* Candidate solution (result #1)\n",
       "  Primal status      : FEASIBLE_POINT\n",
       "  Dual status        : FEASIBLE_POINT\n",
       "  Objective value    : 3.42021e+06\n",
       "  Objective bound    : -Inf\n",
       "  Dual objective value : 3.42021e+06\n",
       "\n",
       "* Work counters\n",
       "  Solve time (sec)   : 1.93119e-04\n"
      ]
     },
     "metadata": {},
     "output_type": "display_data"
    }
   ],
   "source": [
    "solution_summary(flowModel)"
   ]
  },
  {
   "cell_type": "code",
   "execution_count": null,
   "metadata": {},
   "outputs": [],
   "source": []
  },
  {
   "cell_type": "code",
   "execution_count": 55,
   "metadata": {},
   "outputs": [
    {
     "name": "stdout",
     "output_type": "stream",
     "text": [
      "1-dimensional DenseAxisArray{Float64,1,...} with index sets:\n",
      "    Dimension 1, [1, 2, 3, 4, 5, 6, 7, 8, 9, 10  …  38, 39, 40, 41, 42, 43, 44, 45, 46, 47]\n",
      "And data, a 47-element Vector{Float64}:\n",
      "   20.0\n",
      "   12.0\n",
      "    0.0\n",
      "    7.0\n",
      "   10.0\n",
      "    0.0\n",
      "    0.0\n",
      "    0.0\n",
      "  121.0\n",
      "    0.0\n",
      "    0.0\n",
      "    0.0\n",
      "    0.0\n",
      "   37.0\n",
      "    0.0\n",
      "    0.0\n",
      "    0.0\n",
      "    0.0\n",
      "  121.0\n",
      " 1012.0\n",
      "    0.0\n",
      "    0.0\n",
      "   57.0\n",
      "  444.0\n",
      "   65.0\n",
      "    0.0\n",
      " "
     ]
    },
    {
     "name": "stdout",
     "output_type": "stream",
     "text": [
      "   0.0\n",
      "   98.0\n",
      "  502.0\n",
      "   17.0\n",
      "  147.0\n",
      "   18.0\n",
      "   16.0\n",
      "   37.0\n",
      "  187.0\n",
      "   13.0\n",
      "  231.0\n",
      "  597.0\n",
      "   32.0\n",
      "  162.0\n",
      "  276.0\n",
      "  203.0\n",
      "    6.0\n",
      "  298.0\n",
      "  158.0\n",
      "    0.0\n",
      "    0.0"
     ]
    }
   ],
   "source": [
    "print(value.(x[P]))"
   ]
  },
  {
   "cell_type": "code",
   "execution_count": null,
   "metadata": {},
   "outputs": [],
   "source": []
  },
  {
   "cell_type": "code",
   "execution_count": 118,
   "metadata": {},
   "outputs": [
    {
     "data": {
      "text/plain": [
       "22×3 Matrix{Any}:\n",
       "    0.0      794.556   794.556\n",
       "    0.0     1000.0    1000.0\n",
       " -114.0     1000.0     886.0\n",
       " -168.444   1000.0     831.556\n",
       "    0.0     1000.0    1000.0\n",
       " -112.0      711.111   599.111\n",
       " -242.111   1000.0     757.889\n",
       "  -36.4444   972.444   936.0\n",
       " -251.889   1000.0     748.111\n",
       " -288.889   1000.0     711.111\n",
       "    ⋮                 \n",
       " -103.0     1000.0     897.0\n",
       " -317.444   1000.0     682.556\n",
       "  -55.0      886.0     831.0\n",
       "    0.0      614.444   614.444\n",
       "  -59.0      794.556   735.556\n",
       "   27.5556   899.333   926.889\n",
       " -159.0     1000.0     841.0\n",
       " -288.0     1000.0     712.0\n",
       " -159.0     1000.0     841.0"
      ]
     },
     "metadata": {},
     "output_type": "display_data"
    }
   ],
   "source": [
    "[reduced_cost dual_Y_k candidate_costs]"
   ]
  },
  {
   "cell_type": "code",
   "execution_count": 104,
   "metadata": {},
   "outputs": [
    {
     "data": {
      "text/plain": [
       "1-element Vector{Any}:\n",
       " Any[\"PLGDYs\", \"PLGDY\", \"DEBRV2\", \"DEBRVt\"]"
      ]
     },
     "metadata": {},
     "output_type": "display_data"
    }
   ],
   "source": [
    "candidate_paths[reduced_cost .== minimum(reduced_cost)]"
   ]
  },
  {
   "cell_type": "code",
   "execution_count": 115,
   "metadata": {},
   "outputs": [
    {
     "name": "stdout",
     "output_type": "stream",
     "text": [
      "hey20.0\n"
     ]
    }
   ],
   "source": [
    "println(\"hey\", value.(x[15]))"
   ]
  },
  {
   "cell_type": "code",
   "execution_count": 114,
   "metadata": {},
   "outputs": [
    {
     "data": {
      "text/plain": [
       "2-element Vector{Any}:\n",
       " \"PLGDYs\"\n",
       " \"DEBRVt\""
      ]
     },
     "metadata": {},
     "output_type": "display_data"
    }
   ],
   "source": [
    "current_paths[15]"
   ]
  },
  {
   "cell_type": "code",
   "execution_count": 123,
   "metadata": {},
   "outputs": [
    {
     "name": "stdout",
     "output_type": "stream",
     "text": [
      "Any[Any[\"FIRAUs\", \"DEBRVt\"] 1; Any[\"DEBRVs\", \"DKAARt\"] 2; Any[\"DEBRVs\", \"NOSVGt\"] "
     ]
    },
    {
     "name": "stdout",
     "output_type": "stream",
     "text": [
      "3; Any[\"RUKGDs\", \"DEBRVt\"] 4; Any[\"DEBRVs\", \"NOAESt\"] 5; Any[\"DEBRVs\", \"PLGDYt\"] 6; Any[\"SEGOTs\", \"DEBRVt\"] 7; Any[\"DEBRVs\", \"NOBGOt\"] 8; Any[\"DEBRVs\", \"RUKGDt\"] 9; Any[\"DEBRVs\", \"FIRAUt\"] 10; Any[\"NOKRSs\", \"DEBRVt\"] 11; Any[\"NOBGOs\", \"DEBRVt\"] 12; Any[\"DEBRVs\", \"FIKTKt\"] 13; Any[\"NOAESs\", \"DEBRVt\"] 14; Any[\"PLGDYs\", \"DEBRVt\"] 15; Any[\"DEBRVs\", \"SEGOTt\"] 16; Any[\"NOSVGs\", \"DEBRVt\"] 17; Any[\"FIKTKs\", \"DEBRVt\"] 18; Any[\"DKAARs\", \"DEBRVt\"] 19; Any[\"DEBRVs\", \"RULEDt\"] 20; Any[\"DEBRVs\", \"NOKRSt\"] 21; Any[\"RULEDs\", \"DEBRVt\"] 22; Any[\"DEBRVs\", \"DEBRV2\", \"RUKGD\", \"FIKTK\", \"FIRAU\", \"PLGDY\", \"PLGDYt\"] 6; Any[\"PLGDYs\", \"PLGDY\", \"DEBRV2\", \"DEBRVt\"] 15; Any[\"DEBRVs\", \"DEBRV2\", \"RUKGD\", \"FIKTK\", \"FIKTKt\"] 13; Any[\"FIKTKs\", \"FIKTK\", \"FIRAU\", \"PLGDY\", \"DEBRV2\", \"DEBRVt\"] 18; Any[\"NOKRSs\", \"NOKRS\", \"DEBRV3\", \"DEBRVt\"] 11; Any[\"DEBRVs\", \"DEBRV3\", \"DKAAR\", \"SEGOT3\", \"NOKRS\", \"NOKRSt\"] 21; Any[\"DEBRVs\", \"DEBRV2\", \"RUKGD\", \"FIKTK\", \"FIRAU\", \"FIRAUt\"] 10; Any[\"DEBRVs\", \"DEBRV2\", \"RUKGD\", \"RUKGDt\"] 9; Any[\"FIRAUs\", \"FIRAU\", \"PLGDY\", \"DEBRV2\", \"DEBRVt\"] 1; Any[\"SEGOTs\", \"SEGOT4\", \"RULED\", \"DEBRV4\", \"DEBRVt\"] 7; Any[\"DEBRVs\", \"DEBRV4\", \"SEGOT4\", \"SEGOTt\"] 16; Any[\"RULEDs\", \"RULED\", \"DEBRV4\", \"DEBRVt\"] 22; Any[\"DEBRVs\", \"DEBRV4\", \"SEGOT4\", \"RULED\", \"RULEDt\"] 20; Any[\"DEBRVs\", \"DEBRV1\", "
     ]
    },
    {
     "name": "stdout",
     "output_type": "stream",
     "text": [
      "\"NOSVG\", \"NOSVGt\"] 3; Any[\"NOSVGs\", \"NOSVG\", \"NOBGO\", \"NOAES\", \"DEBRV1\", \"DEBRVt\"] 17; Any[\"NOBGOs\", \"NOBGO\", \"NOAES\", \"DEBRV1\", \"DEBRVt\"] 12; Any[\"DEBRVs\", \"DEBRV3\", \"DKAAR\", \"SEGOT3\", \"SEGOTt\"] 16; Any[\"SEGOTs\", \"SEGOT3\", \"NOKRS\", \"DEBRV3\", \"DEBRVt\"] 7; Any[\"SEGOTs\", \"SEGOT3\", \"NOKRS\", \""
     ]
    },
    {
     "name": "stdout",
     "output_type": "stream",
     "text": [
      "DEBRV3\", \"DEBRVt\"] 7; Any[\"DEBRVs\", \"DEBRV3\", \"DKAAR\", \"DKAARt\"] 2; Any[\"DKAARs\", \"DKAAR\", \"SEGOT3\", \"NOKRS\", \"DEBRV3\", \"DEBRVt\"] 19; Any[\"DEBRVs\", \"DEBRV2\", \"RUKGD\", \"FIKTK\", \"FIKTKt\"] 13; Any[\"PLGDYs\", \"PLGDY\", \"DEBRV2\", \"DEBRVt\"] 15; Any[\"NOKRSs\", \"NOKRS\", \"DEBRV3\", \"DEBRVt\"] 11; Any[\"DEBRVs\", \"DEBRV1\", \"NOSVG\", \"NOBGO\", \"NOBGOt\"] 8; Any[\"PLGDYs\", \"PLGDY\", \"DEBRV2\", \"DEBRVt\"] 15; Any[\"PLGDYs\", \"PLGDY\", \"DEBRV2\", \"DEBRVt\"] 15; Any[\"PLGDYs\", \"PLGDY\", \"DEBRV2\", \"DEBRVt\"] 15]\n"
     ]
    }
   ],
   "source": [
    "println([current_paths current_commodities])"
   ]
  },
  {
   "cell_type": "code",
   "execution_count": 48,
   "metadata": {},
   "outputs": [
    {
     "name": "stdout",
     "output_type": "stream",
     "text": [
      "hey1012.0\n"
     ]
    }
   ],
   "source": [
    "println(\"hey\", value.(x[20]))"
   ]
  },
  {
   "cell_type": "code",
   "execution_count": 49,
   "metadata": {},
   "outputs": [
    {
     "data": {
      "text/plain": [
       "831.0"
      ]
     },
     "metadata": {},
     "output_type": "display_data"
    }
   ],
   "source": [
    "current_costs[46]"
   ]
  },
  {
   "cell_type": "code",
   "execution_count": 51,
   "metadata": {},
   "outputs": [
    {
     "data": {
      "text/plain": [
       "4-element Vector{Any}:\n",
       " Any[200000, 1, \"Feeder_450\", \"DEBRV1\", \"NOSVG\", \"NOBGO\", \"NOAES\", \"DEBRV1\"]\n",
       " Any[130000, 1, \"Feeder_450\", \"DEBRV2\", \"RUKGD\", \"FIKTK\", \"FIRAU\", \"PLGDY\", \"DEBRV2\"]\n",
       " Any[97000, 1, \"Feeder_450\", \"DEBRV3\", \"DKAAR\", \"SEGOT3\", \"NOKRS\", \"DEBRV3\"]\n",
       " Any[100000, 1, \"Feeder_800\", \"DEBRV4\", \"SEGOT4\", \"RULED\", \"DEBRV4\"]"
      ]
     },
     "metadata": {},
     "output_type": "display_data"
    }
   ],
   "source": [
    "services_w_transshipment"
   ]
  },
  {
   "cell_type": "code",
   "execution_count": 52,
   "metadata": {},
   "outputs": [
    {
     "data": {
      "text/plain": [
       "1.0"
      ]
     },
     "metadata": {},
     "output_type": "display_data"
    }
   ],
   "source": [
    "value.(y[3])"
   ]
  },
  {
   "cell_type": "code",
   "execution_count": 63,
   "metadata": {},
   "outputs": [
    {
     "data": {
      "text/plain": [
       "5-element Vector{Any}:\n",
       " \"DEBRVs\"\n",
       " \"DEBRV3\"\n",
       " \"DKAAR\"\n",
       " \"SEGOT3\"\n",
       " \"SEGOTt\""
      ]
     },
     "metadata": {},
     "output_type": "display_data"
    }
   ],
   "source": [
    "current_paths[46]"
   ]
  },
  {
   "cell_type": "code",
   "execution_count": 62,
   "metadata": {},
   "outputs": [
    {
     "name": "stdout",
     "output_type": "stream",
     "text": [
      "Any[Any[\"FIRAUs\", \"DEBRVt\"], Any[\"DEBRVs\", \"DKAARt\"], Any[\"DEBRVs\", \"NOSVGt\"], Any[\"RUKGDs\", \"DEBRVt\"], Any[\"DEBRVs\", \"NOAESt\"], Any[\"DEBRVs\", \"PLGDYt\"], Any[\"SEGOTs\", \"DEBRVt\"], Any[\"DEBRVs\", \"NOBGOt\"], Any[\"DEBRVs\", \"RUKGDt\"], Any[\"DEBRVs\", \"FIRAUt\"], Any[\"NOKRSs\", \"DEBRVt\"], Any[\"NOBGOs\", \"DEBRVt\"], Any[\"DEBRVs\", \"FIKTKt\"], Any[\"NOAESs\", \"DEBRVt\"], Any[\"PLGDYs\", \"DEBRVt\"], Any[\"DEBRVs\", \"SEGOTt\"], Any[\"NOSVGs\", \"DEBRVt\"], Any[\"FIKTKs\", \"DEBRVt\"], Any[\"DKAARs\", \"DEBRVt\"], Any[\"DEBRVs\", \"RULEDt\"], Any[\"DEBRVs\", \"NOKRSt\"], Any[\"RULEDs\", \"DEBRVt\"], Any[\"FIRAUs\", \"FIRAU\", \"PLGDY\", \"DEBRV2\", \"DEBRVt\"], Any[\"DEBRVs\", \"DEBRV3\", \"DKAAR\", \"DKAARt\"], Any[\"DEBRVs\", \"DEBRV1\", \"NOSVG\", \"NOSVGt\"], Any[\"RUKGDs\", \"RUKGD\", \"FIKTK\", \"FIRAU\", \"PLGDY\", \"DEBRV2\", \"DEBRVt\"], Any[\"DEBRVs\", \"DEBRV1\", \"NOSVG\", \"NOBGO\", \"NOAES\", \"NOAESt\"], Any[\"DEBRVs\", \"DEBRV2\", \"RUKGD\", \"FIKTK\", \"FIRAU\", \"PLGDY\", \"PLGDYt\"], Any[\"SEGOTs\", \"SEGOT4\", \"RULED\", \"DEBRV4\", \"DEBRVt\"], Any[\"DEBRVs\", \"DEBRV1\", \"NOSVG\", \"NOBGO\", \"NOBGOt\"], Any[\"DEBRVs\", \"DEBRV2\", \"RUKGD\", \"RUKGDt\"], Any[\"DEBRVs\", \"DEBRV2\", \"RUKGD\", \"FIKTK\", \"FIRAU\", \"FIRAUt\"], Any[\"NOKRSs\", \"NOKRS\", \"DEBRV3\", \"DEBRVt\"], Any[\"NOBGOs\", \"NOBGO\", \"NOAES\", \"DEBRV1\", \"DEBRVt\"], Any[\"DEBRVs\", \"DEBRV2\", \"RUKGD\", \"FIKTK\", \"FIKTKt\"], Any[\"NOAESs\", \"NOAES\", \"DEBRV1\", \"DEBRVt\"], Any[\"PLGDYs\", \"PLGDY\", \"DEBRV2\", \"DEBRVt\"]"
     ]
    },
    {
     "name": "stdout",
     "output_type": "stream",
     "text": [
      ", Any[\"DEBRVs\", \"DEBRV4\", \"SEGOT4\", \"SEGOTt\"], Any[\"NOSVGs\", \"NOSVG\", \"NOBGO\", \"NOAES\", \"DEBRV1\", \"DEBRVt\"], Any[\"FIKTKs\", \"FIKTK\", \"FIRAU\", \"PLGDY\", \"DEBRV2\", \"DEBRVt\"], Any[\"DKAARs\", \"DKAAR\", \"SEGOT3\", \"NOKRS\", \"DEBRV3\", \"DEBRVt\"], Any[\"DEBRVs\", \"DEBRV4\", \"SEGOT4\", \"RULED\", \"RULEDt\"], Any[\"DEBRVs\", \"DEBRV3\", \"DKAAR\", \"SEGOT3\", \"NOKRS\", \"NOKRSt\"], Any[\"RULEDs\", \"RULED\", \"DEBRV4\", \"DEBRVt\"], Any[\"SEGOTs\", \"SEGOT3\", \"NOKRS\", \"DEBRV3\", \"DEBRVt\"], Any[\"DEBRVs\", \"DEBRV3\", \"DKAAR\", \"SEGOT3\", \"SEGOTt\"], Any[\"DEBRVs\", \"DEBRV3\", \"DKAAR\", \"SEGOT3\", \"SEGOT4\", \"RULED\", \"RULEDt\"], Any[\"DEBRVs\""
     ]
    },
    {
     "name": "stdout",
     "output_type": "stream",
     "text": [
      ", \"DEBRV3\", \"DKAAR\", \"SEGOT3\", \"SEGOTt\"], Any[\"DEBRVs\", \"DEBRV3\", \"DKAAR\", \"SEGOT3\", \"SEGOT4\", \"RULED\", \"RULEDt\"]]"
     ]
    }
   ],
   "source": [
    "print(current_paths)"
   ]
  },
  {
   "cell_type": "code",
   "execution_count": 28,
   "metadata": {},
   "outputs": [
    {
     "data": {
      "text/plain": [
       "22-element Vector{Float64}:\n",
       " -591.0\n",
       " -358.0\n",
       " -472.0\n",
       " -554.0\n",
       " -103.0\n",
       " -703.0\n",
       " -527.0\n",
       " -422.0\n",
       " -554.0\n",
       " -591.0\n",
       "    ⋮\n",
       " -103.0\n",
       " -703.0\n",
       " -527.0\n",
       " -472.0\n",
       " -650.0\n",
       " -358.0\n",
       " -517.0\n",
       " -646.0\n",
       " -517.0"
      ]
     },
     "metadata": {},
     "output_type": "display_data"
    }
   ],
   "source": [
    "reduced_cost"
   ]
  },
  {
   "cell_type": "code",
   "execution_count": 18,
   "metadata": {},
   "outputs": [
    {
     "data": {
      "text/plain": [
       "22-element Vector{Float64}:\n",
       " -591.0\n",
       " -358.0\n",
       " -341.44444444444446\n",
       " -554.0\n",
       " -103.0\n",
       " -554.0\n",
       " -527.0\n",
       " -341.44444444444446\n",
       " -554.0\n",
       " -554.0\n",
       "    ⋮\n",
       " -103.0\n",
       " -591.0\n",
       " -507.0\n",
       " -103.0\n",
       " -591.0\n",
       "    0.0\n",
       " -517.0\n",
       " -358.0\n",
       " -517.0"
      ]
     },
     "metadata": {},
     "output_type": "display_data"
    }
   ],
   "source": [
    "candidate_costs - dual_Y_k"
   ]
  },
  {
   "cell_type": "code",
   "execution_count": 19,
   "metadata": {},
   "outputs": [
    {
     "data": {
      "text/plain": [
       "6-element Vector{Any}:\n",
       " \"DKAARs\"\n",
       " \"DKAAR\"\n",
       " \"SEGOT3\"\n",
       " \"NOKRS\"\n",
       " \"DEBRV3\"\n",
       " \"DEBRVt\""
      ]
     },
     "metadata": {},
     "output_type": "display_data"
    }
   ],
   "source": [
    "current_paths[41]"
   ]
  },
  {
   "cell_type": "code",
   "execution_count": 20,
   "metadata": {},
   "outputs": [
    {
     "data": {
      "text/plain": [
       "22-element Vector{Float64}:\n",
       " -591.0\n",
       " -358.0\n",
       " -472.0\n",
       " -554.0\n",
       " -103.0\n",
       " -703.0\n",
       " -527.0\n",
       " -422.0\n",
       " -554.0\n",
       " -591.0\n",
       "    ⋮\n",
       " -103.0\n",
       " -703.0\n",
       " -527.0\n",
       " -472.0\n",
       " -650.0\n",
       " -358.0\n",
       " -517.0\n",
       " -646.0\n",
       " -517.0"
      ]
     },
     "metadata": {},
     "output_type": "display_data"
    }
   ],
   "source": [
    "reduced_cost"
   ]
  },
  {
   "cell_type": "code",
   "execution_count": null,
   "metadata": {},
   "outputs": [],
   "source": [
    "Min 200000 y[1] + 130000 y[2] + 97000 y[3] + 100000 y[4] + 1000 x[1] + 1000 x[2] + 1000 x[3] + 1000 x[4] + 1000 x[5] + 1000 x[6] + 1000 x[7] + 1000 x[8] + 1000 x[9] + 1000 x[10] + 1000 x[11] + 1000 x[12] + 1000 x[13] + 1000 x[14] + 1000 x[15] + 1000 x[16] + 1000 x[17] + 1000 x[18] + 1000 x[19] + 1000 x[20] + 1000 x[21] + 1000 x[22] + 409 x[23] + 642 x[24] + 528 x[25] + 446 x[26] + 897 x[27] + 297 x[28] + 473 x[29] + 578 x[30] + 446 x[31] + 409 x[32] + 354 x[33] + 578 x[34] + 350 x[35] + 897 x[36] + 297 x[37] + 473 x[38] + 528 x[39] + 350 x[40] + 642 x[41] + 483 x[42] + 354 x[43] + 483 x[44]\n"
   ]
  },
  {
   "cell_type": "code",
   "execution_count": 17,
   "metadata": {},
   "outputs": [
    {
     "data": {
      "text/plain": [
       "16-element Vector{Float64}:\n",
       " -341.44444444444446\n",
       "    0.0\n",
       "    0.0\n",
       " -103.0\n",
       " -554.0\n",
       "    0.0\n",
       "    0.0\n",
       "    0.0\n",
       " -591.0\n",
       " -358.0\n",
       "    0.0\n",
       "    0.0\n",
       "    0.0\n",
       " -507.0\n",
       "  -10.0\n",
       " -517.0"
      ]
     },
     "metadata": {},
     "output_type": "display_data"
    }
   ],
   "source": [
    "dual_Y_ij"
   ]
  },
  {
   "cell_type": "code",
   "execution_count": 70,
   "metadata": {},
   "outputs": [
    {
     "data": {
      "text/plain": [
       "7-element Vector{Any}:\n",
       " \"DEBRVs\"\n",
       " \"DEBRV3\"\n",
       " \"DKAAR\"\n",
       " \"SEGOT3\"\n",
       " \"SEGOT4\"\n",
       " \"RULED\"\n",
       " \"RULEDt\""
      ]
     },
     "metadata": {},
     "output_type": "display_data"
    }
   ],
   "source": [
    "current_paths[54]"
   ]
  },
  {
   "cell_type": "code",
   "execution_count": 77,
   "metadata": {},
   "outputs": [
    {
     "data": {
      "text/plain": [
       "16"
      ]
     },
     "metadata": {},
     "output_type": "display_data"
    }
   ],
   "source": [
    "current_commodities[54]"
   ]
  },
  {
   "cell_type": "code",
   "execution_count": null,
   "metadata": {},
   "outputs": [],
   "source": [
    "Min 5000 y[1] + 5000 y[2] + 5000 y[3] + 5000 y[4] + 1000 x[1] + 1000 x[2] + 1000 x[3] + 1000 x[4] + 1000 x[5] + 1000 x[6] + 1000 x[7] + 1000 x[8] + 1000 x[9] + 1000 x[10] + 1000 x[11] + 1000 x[12] + 1000 x[13] + 1000 x[14] + 1000 x[15] + 1000 x[16] + 1000 x[17] + 1000 x[18] + 1000 x[19] + 1000 x[20] + 1000 x[21] + 1000 x[22] + 409 x[23] + 642 x[24] + 528 x[25] + 446 x[26] + 897 x[27] + 297 x[28] + 473 x[29] + 578 x[30] + 446 x[31] + 409 x[32] + 354 x[33] + 578 x[34] + 350 x[35] + 897 x[36] + 297 x[37] + 473 x[38] + 528 x[39] + 350 x[40] + 642 x[41] + 483 x[42] + 354 x[43] + 483 x[44] + 473 x[45] + 831 x[46] + 994 x[47] + 831 x[48] + 984 x[49] + 831 x[50] + 984 x[51] + 831 x[52] + 984 x[53] + 831 x[54] + 984 x[55]\n"
   ]
  },
  {
   "cell_type": "code",
   "execution_count": 78,
   "metadata": {},
   "outputs": [
    {
     "data": {
      "text/plain": [
       "-159.0"
      ]
     },
     "metadata": {},
     "output_type": "display_data"
    }
   ],
   "source": [
    "reduced_cost[16]"
   ]
  },
  {
   "cell_type": "code",
   "execution_count": 71,
   "metadata": {},
   "outputs": [
    {
     "ename": "MethodError",
     "evalue": "MethodError: no method matching zero(::Type{Any})\n\nClosest candidates are:\n  zero(::Type{Union{Missing, T}}) where T\n   @ Base missing.jl:105\n  zero(!Matched::Union{Type{P}, P}) where P<:Dates.Period\n   @ Dates /Applications/Julia-1.9.app/Contents/Resources/julia/share/julia/stdlib/v1.9/Dates/src/periods.jl:51\n  zero(!Matched::GenericAffExpr)\n   @ JuMP ~/.julia/packages/JuMP/ToPd2/src/aff_expr.jl:201\n  ...\n",
     "output_type": "error",
     "traceback": [
      "MethodError: no method matching zero(::Type{Any})\n",
      "\n",
      "Closest candidates are:\n",
      "  zero(::Type{Union{Missing, T}}) where T\n",
      "   @ Base missing.jl:105\n",
      "  zero(!Matched::Union{Type{P}, P}) where P<:Dates.Period\n",
      "   @ Dates /Applications/Julia-1.9.app/Contents/Resources/julia/share/julia/stdlib/v1.9/Dates/src/periods.jl:51\n",
      "  zero(!Matched::GenericAffExpr)\n",
      "   @ JuMP ~/.julia/packages/JuMP/ToPd2/src/aff_expr.jl:201\n",
      "  ...\n",
      "\n",
      "\n",
      "Stacktrace:\n",
      "  [1] zero(#unused#::Type{Any})\n",
      "    @ Base ./missing.jl:106\n",
      "  [2] _instantiate_zero(#unused#::Type{Any})\n",
      "    @ MutableArithmetics ~/.julia/packages/MutableArithmetics/K9YPJ/src/interface.jl:28\n",
      "  [3] promote_operation_fallback(op::typeof(*), #unused#::Type{Any}, #unused#::Type{VariableRef})\n",
      "    @ MutableArithmetics ~/.julia/packages/MutableArithmetics/K9YPJ/src/interface.jl:51\n",
      "  [4] promote_operation(::typeof(*), ::Type, ::Type)\n",
      "    @ MutableArithmetics ~/.julia/packages/MutableArithmetics/K9YPJ/src/interface.jl:113\n",
      "  [5] promote_operation(op::typeof(*), A::Type{Vector{Any}}, #unused#::Type{VariableRef})\n",
      "    @ MutableArithmetics ~/.julia/packages/MutableArithmetics/K9YPJ/src/implementations/LinearAlgebra.jl:165\n",
      "  [6] promote_operation_fallback(op::typeof(MutableArithmetics.add_mul), #unused#::Type{AffExpr}, #unused#::Type{Vector{Any}}, #unused#::Type{VariableRef})\n",
      "    @ MutableArithmetics ~/.julia/packages/MutableArithmetics/K9YPJ/src/interface.jl:82\n",
      "  [7] promote_operation(::typeof(MutableArithmetics.add_mul), ::Type, ::Type, ::Type)\n",
      "    @ MutableArithmetics ~/.julia/packages/MutableArithmetics/K9YPJ/src/interface.jl:113\n",
      "  [8] mutability(::Type, ::Function, ::Type, ::Type, ::Type)\n",
      "    @ MutableArithmetics ~/.julia/packages/MutableArithmetics/K9YPJ/src/interface.jl:266\n",
      "  [9] mutability(::AffExpr, ::Function, ::AffExpr, ::Vector{Any}, ::VariableRef)\n",
      "    @ MutableArithmetics ~/.julia/packages/MutableArithmetics/K9YPJ/src/interface.jl:274\n",
      " [10] operate!!(::typeof(MutableArithmetics.add_mul), ::AffExpr, ::Vector{Any}, ::VariableRef)\n",
      "    @ MutableArithmetics ~/.julia/packages/MutableArithmetics/K9YPJ/src/rewrite.jl:93\n",
      " [11] macro expansion\n",
      "    @ ~/.julia/packages/MutableArithmetics/K9YPJ/src/rewrite_generic.jl:268 [inlined]\n",
      " [12] macro expansion\n",
      "    @ ~/.julia/packages/MutableArithmetics/K9YPJ/src/rewrite.jl:321 [inlined]\n",
      " [13] macro expansion\n",
      "    @ ~/.julia/packages/JuMP/ToPd2/src/macros.jl:717 [inlined]\n",
      " [14] top-level scope\n",
      "    @ ~/Downloads/CG.ipynb:4"
     ]
    }
   ],
   "source": [
    "flowModel = Model(HiGHS.Optimizer)\n",
    "@variable(flowModel, x[P] >= 0)\n",
    "@variable(flowModel, 0 <= y[S] <= 1)\n",
    "@objective(flowModel, Min, sum(services_w_transshipment[i][1]*y[i] for i in S) + sum(current_costs[j]*x[j] for j in P))\n",
    "#@constraint(flowModel, Y_ij[i=1:n_ij], sum(aij[i, j] * x[j+n_ff] for j in A) <= sum(uij[i, j] * y[j] for j in S)) # Paths that uses edge ij\n",
    "#@constraint(flowModel, Y_k[i=1:n_k], sum(PK[i, j] * x[j] for j in P) == baltic_demand.FFEPerWeek[i]) # Paths for commodity k ∈ K\n",
    "#@constraint(flowModel, M_v[i=1:n_mv], sum(mvs[i, j] * y[j] for j in S) <= baltic_fleet.Quantity[i])\n",
    "#optimize!(flowModel)\n",
    "\n",
    "# dual_Y_k = [dual(flowModel[:Y_k][i]) for i in K]\n",
    "# dual_Y_ij = [dual(flowModel[:Y_ij][i]) for i in ij]\n",
    "# append!(dual_Y_ij, zeros(Float64, length(edges) - length(ports_adj)))\n"
   ]
  },
  {
   "cell_type": "code",
   "execution_count": 30,
   "metadata": {},
   "outputs": [
    {
     "data": {
      "text/plain": [
       "14-element Vector{Any}:\n",
       " 22\n",
       "  1\n",
       "  4\n",
       "  6\n",
       "  7\n",
       "  9\n",
       " 10\n",
       " 11\n",
       " 13\n",
       " 15\n",
       " 16\n",
       " 18\n",
       " 20\n",
       " 22"
      ]
     },
     "metadata": {},
     "output_type": "display_data"
    }
   ],
   "source": [
    "current_commodities[111:end]"
   ]
  },
  {
   "cell_type": "code",
   "execution_count": 35,
   "metadata": {},
   "outputs": [
    {
     "data": {
      "text/plain": [
       "62-element Vector{Any}:\n",
       " \"DEBRVs|DEBRV1\"\n",
       " \"DEBRV1|DEBRVt\"\n",
       " \"DEBRVs|DEBRV2\"\n",
       " \"DEBRV2|DEBRVt\"\n",
       " \"DEBRVs|DEBRV3\"\n",
       " \"DEBRV3|DEBRVt\"\n",
       " \"DEBRVs|DEBRV4\"\n",
       " \"DEBRV4|DEBRVt\"\n",
       " \"NOSVGs|NOSVG\"\n",
       " \"NOSVG|NOSVGt\"\n",
       " ⋮\n",
       " \"FIRAU|PLGDY\"\n",
       " \"PLGDY|DEBRV2\"\n",
       " \"DEBRV3|DKAAR\"\n",
       " \"DKAAR|SEGOT3\"\n",
       " \"SEGOT3|NOKRS\"\n",
       " \"NOKRS|DEBRV3\"\n",
       " \"DEBRV4|SEGOT4\"\n",
       " \"SEGOT4|RULED\"\n",
       " \"RULED|DEBRV4\""
      ]
     },
     "metadata": {},
     "output_type": "display_data"
    }
   ],
   "source": [
    "i_j"
   ]
  },
  {
   "cell_type": "markdown",
   "metadata": {},
   "source": [
    "Berfore the master problem is formulated, the $c_{y}$ constants are calculated which correspond to the fixed port costs (more might be added later).\n",
    "\n",
    "Moreover, the sum of all paths must be equal to $d_{k}$, in order to fulfill the demand. However later on, a new expensive penalty edge is added which penalizes all the containers that are not delivered to the commodity port."
   ]
  },
  {
   "cell_type": "markdown",
   "metadata": {},
   "source": [
    "As the decision variables, $x_{i,j}$ represent the edges in the liner shipping network (eventually paths), the variables are initialized by pairing the neigbor ports in the services above. Thereby, the master problem is reduced to only respect the strict subset of all feasible patterns i.e. patterns using the generated services."
   ]
  },
  {
   "cell_type": "code",
   "execution_count": null,
   "metadata": {},
   "outputs": [],
   "source": [
    "# edges with capacity constraint\n",
    "i_j = []\n",
    "for edge in edges\n",
    "    if edge ∈ (penalty_adj ∪ dummy_adj)\n",
    "        break\n",
    "    end\n",
    "    push!(i_j, string(edge[1], \"|\", edge[2]))\n",
    "end\n",
    "\n",
    "# Paths and costs from shortest path\n",
    "for i in 1:size(baltic_demand, 1)\n",
    "    path, cost = dijkstra(get_G(edges), string(baltic_demand.Origin[i],\"s\"), string(baltic_demand.Destination[i],\"t\"))\n",
    "    push!(current_paths, path)\n",
    "    push!(current_costs, cost)\n",
    "    append!(current_commodity, i)\n",
    "end\n",
    "\n",
    "# Initializing parameters\n",
    "n_k = size(baltic_demand.Origin, 1) # Number of commodities\n",
    "K = 1:n_k\n",
    "\n",
    "n_s = size(services_w_transshipment, 1) # Number of services\n",
    "S = 1:n_s\n",
    "\n",
    "n_ff = size(penalty_adj, 1) # Number of penalty edges\n",
    "ff = 1:n_ff\n",
    "index_ff = 1:n_k # Index of ff paths - Could be hard coded\n",
    "\n",
    "n_p = size(current_paths, 1) # Number of paths\n",
    "P = 1:n_p\n",
    "index_p = n_ff+1:n_p  # Index of non-ff paths - Could be hardcoded\n",
    "\n",
    "n_ij = size(i_j, 1) # Number of edges\n",
    "ij = 1:n_ij # Range of edges\n",
    "\n",
    "n_mv = size(baltic_fleet, 1)\n",
    "v = 1:n_mv\n",
    ";"
   ]
  },
  {
   "cell_type": "code",
   "execution_count": null,
   "metadata": {},
   "outputs": [],
   "source": [
    "# Initial paths including shortest path for all commodities and activated penalty edges\n",
    "aij = Matrix{Float64}(undef, n_ij, 0) # 1 if path p for commodity k uses edge (i,j), else 0\n",
    "uij = Matrix{Float64}(undef, n_ij, 0) # vessel capacity if service s uses edge (i,j), else 0\n",
    "\n",
    "for i in index_p\n",
    "    ak = zeros(Float64, n_ij)\n",
    "    for j in 2:length(paths[i])\n",
    "        ak[findall(x -> x == string(paths[i][j-1], \"|\", paths[i][j]), i_j)[1]] = 1\n",
    "    end\n",
    "    aij = [aij ak]\n",
    "end\n",
    "\n",
    "\n",
    "for i in 1:length(services_w_transshipment)\n",
    "    us = zeros(Float64, n_ij)\n",
    "    for j in 5:length(services_w_transshipment[i])\n",
    "        us[findall(x -> x == string(services_w_transshipment[i][j-1], \"|\", services_w_transshipment[i][j]), i_j)[1]] = fleet_data[fleet_data.\"Vessel class\" .== services_w_transshipment[i][3], 2][1]\n",
    "        us[findall(x -> x == string(services_w_transshipment[i][j-1], \"|\", services_w_transshipment[i][j-1][1:5], \"t\"), i_j)[1]] = fleet_data[fleet_data.\"Vessel class\" .== services_w_transshipment[i][3], 2][1]\n",
    "        us[findall(x -> x == string(services_w_transshipment[i][j-1][1:5], \"s\", \"|\", services_w_transshipment[i][j-1]), i_j)[1]] = fleet_data[fleet_data.\"Vessel class\" .== services_w_transshipment[i][3], 2][1]\n",
    "    end\n",
    "    uij = [uij us]\n",
    "end\n",
    "\n"
   ]
  },
  {
   "cell_type": "code",
   "execution_count": null,
   "metadata": {},
   "outputs": [],
   "source": [
    "flowModel = Model(HiGHS.Optimizer)\n",
    "@variable(flowModel, x[P] >= 0)\n",
    "@variable(flowModel, 0 <= y[S] <= 1)\n",
    "@objective(flowModel, Min, sum(services_w_transshipment[i][1]*y[i] for i in S) + sum(costs[j]*x[j] for j in P))\n",
    "#@constraint(flowModel, Y_ij[i=1:n_ij], sum(aij[i, j] * x[j+n_ff] for j in K) <= sum(uij[i, j] * y[j] for j in S)) # Paths that uses edge ij\n",
    "@constraint(flowModel, Y_k[i=1:n_k], sum(PK[i, j] * x[j] for j in P) == baltic_demand.FFEPerWeek[i]) # Paths for commodity k ∈ K\n",
    "@constraint(flowModel, M_v[i=1:n_mv], sum(mvs[i, j] * y[j] for j in S) <= baltic_fleet.Quantity[i])\n",
    "print(flowModel)\n",
    "optimize!(flowModel)\n",
    "#solution_summary(flowModel)\n",
    ";"
   ]
  }
 ],
 "metadata": {
  "kernelspec": {
   "display_name": "Julia 1.9.3",
   "language": "julia",
   "name": "julia-1.9"
  },
  "language_info": {
   "file_extension": ".jl",
   "mimetype": "application/julia",
   "name": "julia",
   "version": "1.9.3"
  }
 },
 "nbformat": 4,
 "nbformat_minor": 2
}
