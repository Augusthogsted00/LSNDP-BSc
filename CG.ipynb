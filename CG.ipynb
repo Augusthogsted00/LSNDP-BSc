{
 "cells": [
  {
   "cell_type": "markdown",
   "metadata": {},
   "source": [
    "# Initialization"
   ]
  },
  {
   "cell_type": "code",
   "execution_count": 1,
   "metadata": {},
   "outputs": [],
   "source": [
    "using CSV, DataFrames, JuMP, HiGHS, LinearAlgebra, DataStructures, Statistics\n",
    "baltic_demand = DataFrame(CSV.File(\"/Users/augusthogsted/WD/Bachelor projekt/LINERLIB-master/data/Demand_Baltic.csv\", delim='\\t'))\n",
    "ports = DataFrame(CSV.File(\"/Users/augusthogsted/WD/Bachelor projekt/LINERLIB-master/data/ports.csv\", delim='\\t'))\n",
    "#ports.PortCallCostFixed = coalesce.(ports.PortCallCostFixed, 0.0)\n",
    "distances = DataFrame(CSV.File(\"/Users/augusthogsted/WD/Bachelor projekt/LINERLIB-master/data/dist_dense.csv\", delim='\\t'))\n",
    "baltic_fleet = DataFrame(CSV.File(\"/Users/augusthogsted/WD/Bachelor projekt/LINERLIB-master/data/fleet_Baltic.csv\", delim='\\t'))\n",
    "fleet_data = DataFrame(CSV.File(\"/Users/augusthogsted/WD/Bachelor projekt/LINERLIB-master/data/fleet_data.csv\", delim='\\t'))\n",
    "; # Don't print output"
   ]
  },
  {
   "cell_type": "markdown",
   "metadata": {},
   "source": [
    "### Services:\n",
    "\n",
    "The following array contains manual generated services to which the column generation will be applied."
   ]
  },
  {
   "cell_type": "code",
   "execution_count": 2,
   "metadata": {},
   "outputs": [],
   "source": [
    "# services = [[\"Feeder_800\" \"DEBRV\" \"NOKRS\" \"DEBRV\"],\n",
    "#             [\"Feeder_800\" \"RUKGD\" \"FIKTK\" \"RUKGD\"],\n",
    "#             [\"Feeder_450\" \"DEBRV\" \"NOSVG\" \"DEBRV\"],\n",
    "#             [\"Feeder_450\" \"NOAES\" \"NOBGO\" \"NOAES\"],\n",
    "#             [\"Feeder_450\" \"NOKRS\" \"SEGOT\" \"DKAAR\" \"NOKRS\"],\n",
    "#             [\"Feeder_800\" \"DEBRV\" \"SEGOT\" \"DKAAR\" \"DEBRV\"],\n",
    "#             [\"Feeder_450\" \"DEBRV\" \"NOSVG\" \"NOBGO\" \"NOAES\" \"DEBRV\"],\n",
    "#             [\"Feeder_450\" \"SEGOT\" \"DKAAR\" \"PLGDY\" \"RUKGD\" \"SEGOT\"],\n",
    "#             [\"Feeder_450\" \"DEBRV\" \"NOAES\" \"DEBRV\" \"RULED\" \"DEBRV\"],\n",
    "#             [\"Feeder_450\" \"DEBRV\" \"RUKGD\" \"PLGDY\" \"DKAAR\" \"SEGOT\" \"DEBRV\"],\n",
    "#             [\"Feeder_800\" \"PLGDY\" \"RUKGD\" \"RULED\" \"FIKTK\" \"FIRAU\" \"PLGDY\"],\n",
    "#             [\"Feeder_450\" \"PLGDY\" \"RUKGD\" \"FIKTK\" \"RULED\" \"FIRAU\" \"PLGDY\"],\n",
    "#             [\"Feeder_450\" \"NOKRS\" \"SEGOT\" \"DKAAR\" \"PLGDY\" \"RUKGD\" \"PLGDY\" \"DKAAR\" \"SEGOT\" \"NOKRS\"],\n",
    "#             [\"Feeder_800\" \"NOAES\" \"NOBGO\" \"NOSVG\" \"NOKRS\" \"SEGOT\" \"DKAAR\" \"SEGOT\" \"NOKRS\" \"NOSVG\" \"NOBGO\" \"NOAES\"]]\n",
    "\n",
    "# services = [[\"Feeder_800\" \"DEBRV\" \"NOKRS\" \"DEBRV\"],\n",
    "#                 [\"Feeder_800\" \"NOKRS\" \"NOSVG\" \"NOBGO\" \"NOAES\" \"NOKRS\"],\n",
    "#                 [\"Feeder_800\" \"NOKRS\" \"SEGOT\" \"DKAAR\" \"NOKRS\"],\n",
    "#                 [\"Feeder_800\" \"DKAAR\" \"PLGDY\" \"RUKGD\" \"DKAAR\"],\n",
    "#                 [\"Feeder_800\" \"SEGOT\" \"FIRAU\" \"FIKTK\" \"RULED\" \"SEGOT\"]]\n",
    "\n",
    "services = [[\"Feeder\" \"DEBRV\" \"DKAAR\" \"SEGOT\" \"FIRAU\" \"DEBRV\"],\n",
    "            [\"Feeder\" \"NOKRS\" \"DKAAR\" \"SEGOT\" \"NOBGO\" \"NOKRS\"]]\n",
    "\n",
    "\n",
    "\n",
    "# Initialize an empty Set to store unique ports\n",
    "service_ports = []\n",
    "# Iterate through the subarrays and add the unique ports to the set\n",
    "for service in services\n",
    "    for port in service[2:end]\n",
    "        push!(service_ports, port)\n",
    "    end\n",
    "end\n",
    "service_ports = unique(service_ports);\n"
   ]
  },
  {
   "cell_type": "code",
   "execution_count": 3,
   "metadata": {},
   "outputs": [],
   "source": [
    "# List of ports that have intersecting service\n",
    "intersect_ports = []\n",
    "for i in 1:length(services)\n",
    "    for j in i+1:length(services)\n",
    "        push!(intersect_ports, intersect([[row[2:end]...] for row in services][i], [[row[2:end]...] for row in services][j]))\n",
    "    end\n",
    "end\n",
    "intersect_ports = collect(Set(i for j in intersect_ports for i in j)); # Collecting unique transshipment nodes\n",
    "\n",
    "# Adding transshipment nodes where services intersect\n",
    "services_w_transshipment = []\n",
    "transshipment_nodes = []\n",
    "i = 1\n",
    "for service in services\n",
    "    updated_service = []\n",
    "    for port in service\n",
    "        if port in intersect_ports\n",
    "            push!(updated_service, port * string(i)) # vi behøves i realiteten ikke at update vores serivces\n",
    "            push!(transshipment_nodes, port * string(i))\n",
    "        else\n",
    "            push!(updated_service, port)\n",
    "        end\n",
    "    end\n",
    "    push!(services_w_transshipment, updated_service)\n",
    "    i += 1\n",
    "end\n",
    "transshipment_nodes = unique(transshipment_nodes);"
   ]
  },
  {
   "cell_type": "code",
   "execution_count": 27,
   "metadata": {},
   "outputs": [],
   "source": [
    "# Source and terminal adjacency list\n",
    "s_t_adj = []\n",
    "for port in service_ports\n",
    "    for node in transshipment_nodes\n",
    "        if port == node[1:5]\n",
    "            push!(s_t_adj, [string(port, \"s\"), node, parse.(Float64, ports[ports.UNLocode .== port, 9][1])])\n",
    "            push!(s_t_adj, [node, string(port, \"t\"), parse.(Float64, ports[ports.UNLocode .== port, 9][1])])\n",
    "        end\n",
    "    end\n",
    "    if port ∉ intersect_ports\n",
    "        push!(s_t_adj, [string(port, \"s\"), port, parse.(Float64, ports[ports.UNLocode .== port, 9][1])])\n",
    "        push!(s_t_adj, [port, string(port, \"t\"), parse.(Float64, ports[ports.UNLocode .== port, 9][1])])\n",
    "    end\n",
    "end\n",
    "\n",
    "# Transshipment nodes adjacency list\n",
    "transshipment_adj = []\n",
    "for node in intersect_ports, i in transshipment_nodes, j in transshipment_nodes\n",
    "    if j!=i && contains(i, node) && contains(j, node)\n",
    "        push!(transshipment_adj, [i, j, parse.(Float64, ports[ports.UNLocode .== node, 10][1])])\n",
    "    end\n",
    "end\n",
    "\n",
    "# Service ports adjacency list UNDERSØG OMKOSTNINGERNE MED STEFAN\n",
    "ports_adj = []\n",
    "test = []\n",
    "for service in 1:length(services_w_transshipment)\n",
    "    for port in 3:length(services_w_transshipment[service])\n",
    "        push!(ports_adj, [services_w_transshipment[service][port-1], services_w_transshipment[service][port], parse.(Float64, ports[ports.UNLocode .== services_w_transshipment[service][port][1:5], 9][1]) + ports[ports.UNLocode .== services_w_transshipment[service][port][1:5], 12][1]])\n",
    "    end\n",
    "end\n",
    "\n",
    "# Penalty edge from every source to every terminal\n",
    "penalty_adj = []\n",
    "for porti in 1:length(service_ports)\n",
    "    for portj in 1:length(service_ports)\n",
    "        if service_ports[porti] != service_ports[portj]\n",
    "            push!(penalty_adj, [string(service_ports[porti], \"s\"), string(service_ports[portj], \"t\"), 50000.0])\n",
    "        end\n",
    "    end\n",
    "    push!(penalty_adj, [string(service_ports[porti], \"t\"), string(service_ports[porti], \"t\"), 0.0])\n",
    "end\n",
    "\n",
    "\n",
    "edges = vcat(s_t_adj, transshipment_adj, ports_adj, penalty_adj);"
   ]
  },
  {
   "cell_type": "code",
   "execution_count": null,
   "metadata": {},
   "outputs": [],
   "source": [
    "# For hver node operetter vi Ns (source) og Nt (terminal) samt den originiale N. Her har vi følgende adj list:\n",
    "    # Ns -> N med load cost og N -> Nt med disch cost.\n",
    "\n",
    "# Dem fra Ns skal gå hen i naboernes normale\n",
    "\n",
    "# Vi skal også tilføje transshipment noderne"
   ]
  },
  {
   "cell_type": "code",
   "execution_count": 29,
   "metadata": {},
   "outputs": [
    {
     "data": {
      "text/plain": [
       "Dict{String, Vector{Tuple{String, Float64}}} with 20 entries:\n",
       "  \"DKAAR2\" => [(\"DKAARt\", 429.0), (\"DKAAR1\", 203.0), (\"SEGOT2\", 260.0)]\n",
       "  \"FIRAUt\" => [(\"FIRAUt\", 0.0)]\n",
       "  \"NOKRS\"  => [(\"NOKRSt\", 141.0), (\"DKAAR2\", 436.0)]\n",
       "  \"DKAARs\" => [(\"DKAAR1\", 429.0), (\"DKAAR2\", 429.0), (\"DEBRVt\", 50000.0), (\"SEG…\n",
       "  \"SEGOT1\" => [(\"SEGOTt\", 247.0), (\"SEGOT2\", 143.0), (\"FIRAU\", 323.0)]\n",
       "  \"NOBGOs\" => [(\"NOBGO\", 365.0), (\"DEBRVt\", 50000.0), (\"DKAARt\", 50000.0), (\"SE…\n",
       "  \"NOBGO\"  => [(\"NOBGOt\", 365.0), (\"NOKRS\", 321.0)]\n",
       "  \"DKAARt\" => [(\"DKAARt\", 0.0)]\n",
       "  \"SEGOTs\" => [(\"SEGOT1\", 247.0), (\"SEGOT2\", 247.0), (\"DEBRVt\", 50000.0), (\"DKA…\n",
       "  \"SEGOT2\" => [(\"SEGOTt\", 247.0), (\"SEGOT1\", 143.0), (\"NOBGO\", 484.0)]\n",
       "  \"FIRAU\"  => [(\"FIRAUt\", 196.0), (\"DEBRV\", 213.0)]\n",
       "  \"DEBRVt\" => [(\"DEBRVt\", 0.0)]\n",
       "  \"NOKRSt\" => [(\"NOKRSt\", 0.0)]\n",
       "  \"DEBRV\"  => [(\"DEBRVt\", 199.0), (\"DKAAR1\", 436.0)]\n",
       "  \"NOKRSs\" => [(\"NOKRS\", 141.0), (\"DEBRVt\", 50000.0), (\"DKAARt\", 50000.0), (\"SE…\n",
       "  \"NOBGOt\" => [(\"NOBGOt\", 0.0)]\n",
       "  \"DEBRVs\" => [(\"DEBRV\", 199.0), (\"DKAARt\", 50000.0), (\"SEGOTt\", 50000.0), (\"FI…\n",
       "  \"SEGOTt\" => [(\"SEGOTt\", 0.0)]\n",
       "  \"FIRAUs\" => [(\"FIRAU\", 196.0), (\"DEBRVt\", 50000.0), (\"DKAARt\", 50000.0), (\"SE…\n",
       "  \"DKAAR1\" => [(\"DKAARt\", 429.0), (\"DKAAR2\", 203.0), (\"SEGOT1\", 260.0)]"
      ]
     },
     "metadata": {},
     "output_type": "display_data"
    }
   ],
   "source": [
    "# Create an empty adjacency list\n",
    "adjacency_list = Dict{String, Vector{Tuple{String, Float64}}}()  # Use Tuple to store (target, VC)\n",
    "\n",
    "# Populate the adjacency list\n",
    "for edge in edges\n",
    "    from_node, to_node, VC = edge  # Extract source, target, and VC\n",
    "    if to_node ∈ unique([[row[2:2]...] for row in penalty_adj])\n",
    "        push!(adjacency_list[to_node], (to_node, VC))\n",
    "    elseif haskey(adjacency_list, from_node)\n",
    "        push!(adjacency_list[from_node], (to_node, VC))  # Add the target and VC to the source's list\n",
    "    else\n",
    "        adjacency_list[from_node] = [(to_node, VC)]  # Create a new entry for the source\n",
    "    end\n",
    "end\n",
    "adjacency_list"
   ]
  },
  {
   "cell_type": "code",
   "execution_count": 39,
   "metadata": {},
   "outputs": [
    {
     "name": "stdout",
     "output_type": "stream",
     "text": [
      "Any[\"DEBRV\", \"DKAAR1\", \"SEGOT1\", \"FIRAU\", \"FIRAUt\"]\n",
      "1414.0\n"
     ]
    }
   ],
   "source": [
    "source = \"DEBRVs\"\n",
    "destination = \"FIRAUt\"\n",
    "\n",
    "\n",
    "dist = Dict{Any, Float64}()\n",
    "prev = Dict{Any, Any}()\n",
    "Q = Set(keys(adjacency_list))\n",
    "\n",
    "for v in Q\n",
    "    dist[v] = Inf\n",
    "    prev[v] = nothing\n",
    "end\n",
    "\n",
    "dist[source] = 0.0\n",
    "\n",
    "\n",
    "while !isempty(Q)\n",
    "\n",
    "    # Finds the minimum distance in Q\n",
    "    min_value = Inf\n",
    "    min_key = string()\n",
    "    for i in Q\n",
    "        if dist[i] <= min_value\n",
    "            min_value = dist[i]\n",
    "            min_key = i\n",
    "        end\n",
    "    end\n",
    "    u = min_key\n",
    "\n",
    "    if dist[u] == Inf\n",
    "        break\n",
    "    end\n",
    "    if u == destination\n",
    "        break\n",
    "    end\n",
    "    \n",
    "    delete!(Q, u)\n",
    "\n",
    "    for v in adjacency_list[u]\n",
    "        if haskey(adjacency_list, v[1])\n",
    "            alt = dist[u] + v[2]\n",
    "            if alt < dist[v[1]]\n",
    "                dist[v[1]] = alt\n",
    "                prev[v[1]] = u\n",
    "            end\n",
    "        else\n",
    "            break\n",
    "        end\n",
    "    end\n",
    "end\n",
    "\n",
    "S = []\n",
    "u = destination\n",
    "\n",
    "while prev[u] != nothing\n",
    "    push!(S, u)\n",
    "    u = prev[u]\n",
    "end\n",
    "\n",
    "println(reverse(S))\n",
    "println(dist[destination])\n",
    "# return S\n",
    "# end\n"
   ]
  },
  {
   "cell_type": "code",
   "execution_count": 36,
   "metadata": {},
   "outputs": [
    {
     "data": {
      "text/plain": [
       "Dict{Any, Float64} with 20 entries:\n",
       "  \"DKAAR2\" => 838.0\n",
       "  \"FIRAUt\" => 1414.0\n",
       "  \"NOKRS\"  => Inf\n",
       "  \"DKAARs\" => Inf\n",
       "  \"SEGOT1\" => 895.0\n",
       "  \"NOBGOs\" => Inf\n",
       "  \"NOBGO\"  => 1522.0\n",
       "  \"DKAARt\" => 1064.0\n",
       "  \"SEGOTs\" => Inf\n",
       "  \"FIRAU\"  => 1218.0\n",
       "  \"SEGOT2\" => 1038.0\n",
       "  \"DEBRVt\" => 398.0\n",
       "  \"NOKRSt\" => 50000.0\n",
       "  \"DEBRV\"  => 199.0\n",
       "  \"NOKRSs\" => Inf\n",
       "  \"NOBGOt\" => 50000.0\n",
       "  \"DEBRVs\" => 0.0\n",
       "  \"SEGOTt\" => 1142.0\n",
       "  \"FIRAUs\" => Inf\n",
       "  \"DKAAR1\" => 635.0"
      ]
     },
     "metadata": {},
     "output_type": "display_data"
    }
   ],
   "source": [
    "dist"
   ]
  },
  {
   "cell_type": "code",
   "execution_count": 137,
   "metadata": {},
   "outputs": [
    {
     "data": {
      "text/plain": [
       "\"DEBRVs\""
      ]
     },
     "metadata": {},
     "output_type": "display_data"
    }
   ],
   "source": [
    "u = \"DEBRVs\""
   ]
  },
  {
   "cell_type": "code",
   "execution_count": 161,
   "metadata": {},
   "outputs": [
    {
     "name": "stdout",
     "output_type": "stream",
     "text": [
      "DKAAR2NOKRSDKAARsSEGOT1NOBGOsNOBGOSEGOTsSEGOT2FIRAUDEBRVNOKRSsFIRAUsDKAAR1"
     ]
    }
   ],
   "source": [
    "for v in Q\n",
    "    print(v)\n",
    "end"
   ]
  },
  {
   "cell_type": "code",
   "execution_count": 145,
   "metadata": {},
   "outputs": [
    {
     "ename": "KeyError",
     "evalue": "KeyError: key \"DKAARt\" not found",
     "output_type": "error",
     "traceback": [
      "KeyError: key \"DKAARt\" not found\n",
      "\n",
      "Stacktrace:\n",
      " [1] getindex(h::Dict{String, Vector{Tuple{String, Float64}}}, key::String)\n",
      "   @ Base ./dict.jl:484\n",
      " [2] top-level scope\n",
      "   @ ~/WD/Bachelor projekt/CG.ipynb:17"
     ]
    }
   ],
   "source": [
    "\n",
    "#function Dijkstra(Graph, origin, destination)\n",
    "\n",
    "#dist = Dict((v => Inf) for v in keys(adjacency_list))\n",
    "#prev = Dict((v => \"\") for v in keys(adjacency_list))\n",
    "#dist[start] = 0.0\n",
    "\n",
    "dist = Dict{Any, Float64}()\n",
    "prev = Dict{Any, Any}()\n",
    "Q = Set(keys(adjacency_list))\n",
    "\n",
    "for v in Q\n",
    "    dist[v] = Inf\n",
    "    prev[v] = nothing\n",
    "end\n",
    "\n",
    "for v in adjacency_list[u]\n",
    "    print(v, \"sut\")\n",
    "    if haskey(adjacency_list, v[1])\n",
    "        print(v, \"hey\")\n",
    "        alt = dist[u] + v[2]\n",
    "        if alt < dist[v[1]]\n",
    "            dist[v[1]] = alt\n",
    "            prev[v[1]] = u\n",
    "        end\n",
    "    else\n",
    "        break\n",
    "    end\n",
    "end"
   ]
  },
  {
   "cell_type": "code",
   "execution_count": 139,
   "metadata": {},
   "outputs": [
    {
     "data": {
      "text/plain": [
       "false"
      ]
     },
     "metadata": {},
     "output_type": "display_data"
    }
   ],
   "source": [
    "haskey(adjacency_list,\"DKAARt\")"
   ]
  },
  {
   "cell_type": "code",
   "execution_count": 15,
   "metadata": {},
   "outputs": [
    {
     "data": {
      "text/plain": [
       "\"DEBRVs\""
      ]
     },
     "metadata": {},
     "output_type": "display_data"
    }
   ],
   "source": [
    "u"
   ]
  },
  {
   "cell_type": "code",
   "execution_count": 37,
   "metadata": {},
   "outputs": [
    {
     "data": {
      "text/plain": [
       "Dict{String, Vector{Tuple{String, Float64}}} with 20 entries:\n",
       "  \"DKAAR2\" => [(\"DKAAR2\", 0.0), (\"DKAARt\", 429.0), (\"DKAAR1\", 1061.0), (\"SEGOT2…\n",
       "  \"FIRAUt\" => [(\"FIRAUt\", 0.0)]\n",
       "  \"NOKRS\"  => [(\"NOKRS\", 0.0), (\"NOKRSt\", 141.0), (\"DKAAR2\", 436.0)]\n",
       "  \"DKAARs\" => [(\"DKAAR1\", 429.0), (\"DKAAR2\", 429.0), (\"DEBRVt\", 1000.0), (\"SEGO…\n",
       "  \"SEGOT1\" => [(\"SEGOT1\", 0.0), (\"SEGOTt\", 247.0), (\"SEGOT2\", 637.0), (\"FIRAU\",…\n",
       "  \"NOBGOs\" => [(\"NOBGO\", 365.0), (\"DEBRVt\", 1000.0), (\"DKAARt\", 1000.0), (\"SEGO…\n",
       "  \"NOBGO\"  => [(\"NOBGO\", 0.0), (\"NOBGOt\", 365.0), (\"NOKRS\", 321.0)]\n",
       "  \"DKAARt\" => [(\"DKAARt\", 0.0)]\n",
       "  \"SEGOTs\" => [(\"SEGOT1\", 247.0), (\"SEGOT2\", 247.0), (\"DEBRVt\", 1000.0), (\"DKAA…\n",
       "  \"SEGOT2\" => [(\"SEGOT2\", 0.0), (\"SEGOTt\", 247.0), (\"SEGOT1\", 637.0), (\"NOBGO\",…\n",
       "  \"FIRAU\"  => [(\"FIRAU\", 0.0), (\"FIRAUt\", 196.0), (\"DEBRV\", 213.0)]\n",
       "  \"DEBRVt\" => [(\"DEBRVt\", 0.0)]\n",
       "  \"NOKRSt\" => [(\"NOKRSt\", 0.0)]\n",
       "  \"DEBRV\"  => [(\"DEBRV\", 0.0), (\"DEBRVt\", 199.0), (\"DKAAR1\", 436.0)]\n",
       "  \"NOKRSs\" => [(\"NOKRS\", 141.0), (\"DEBRVt\", 1000.0), (\"DKAARt\", 1000.0), (\"SEGO…\n",
       "  \"NOBGOt\" => [(\"NOBGOt\", 0.0)]\n",
       "  \"DEBRVs\" => [(\"DEBRV\", 199.0), (\"DKAARt\", 1000.0), (\"SEGOTt\", 1000.0), (\"FIRA…\n",
       "  \"SEGOTt\" => [(\"SEGOTt\", 0.0)]\n",
       "  \"FIRAUs\" => [(\"FIRAU\", 196.0), (\"DEBRVt\", 1000.0), (\"DKAARt\", 1000.0), (\"SEGO…\n",
       "  \"DKAAR1\" => [(\"DKAAR1\", 0.0), (\"DKAARt\", 429.0), (\"DKAAR2\", 1061.0), (\"SEGOT1…"
      ]
     },
     "metadata": {},
     "output_type": "display_data"
    }
   ],
   "source": [
    "adjacency_list"
   ]
  },
  {
   "cell_type": "code",
   "execution_count": 46,
   "metadata": {},
   "outputs": [
    {
     "name": "stdout",
     "output_type": "stream",
     "text": [
      "(\"DEBRV\", 199.0)\n",
      "199.0\n",
      "199.0\n",
      "DEBRVs\n",
      "(\"DKAARt\", 1000.0)\n",
      "1000.0\n",
      "1000.0\n",
      "DEBRVs\n",
      "(\"SEGOTt\", 1000.0)\n",
      "1000.0\n",
      "1000.0\n",
      "DEBRVs\n",
      "(\"FIRAUt\", 1000.0)\n",
      "1000.0\n",
      "1000.0\n",
      "DEBRVs\n",
      "(\"NOKRSt\", 1000.0)\n",
      "1000.0\n",
      "1000.0\n",
      "DEBRVs\n",
      "(\"NOBGOt\", 1000.0)\n",
      "1000.0\n",
      "1000.0\n",
      "DEBRVs\n"
     ]
    }
   ],
   "source": [
    "start = \"DEBRVs\"\n",
    "destination = \"DKAARt\"\n",
    "# function Dijkstra(Graph, origin, destination)\n",
    "dist = Dict((v => Inf) for v in keys(adjacency_list))\n",
    "prev = Dict((v => string() for v in keys(adjacency_list)))\n",
    "dist[start] = 0.0\n",
    "Q = Set(keys(adjacency_list))\n",
    "\n",
    "for v in adjacency_list[u]\n",
    "    println(v)\n",
    "    alt = dist[u] + v[2]\n",
    "    println(alt)\n",
    "    if alt < dist[v[1]]\n",
    "        dist[v[1]] = alt\n",
    "        println(dist[v[1]])\n",
    "        prev[v[1]] = u\n",
    "        println(prev[v[1]])\n",
    "    end\n",
    "end"
   ]
  },
  {
   "cell_type": "code",
   "execution_count": 45,
   "metadata": {},
   "outputs": [
    {
     "data": {
      "text/plain": [
       "String"
      ]
     },
     "metadata": {},
     "output_type": "display_data"
    }
   ],
   "source": [
    "prev[\"DEBRVt\"]"
   ]
  },
  {
   "cell_type": "code",
   "execution_count": null,
   "metadata": {},
   "outputs": [],
   "source": []
  },
  {
   "cell_type": "code",
   "execution_count": 18,
   "metadata": {},
   "outputs": [
    {
     "data": {
      "text/plain": [
       "Dict{String, Float64} with 20 entries:\n",
       "  \"DEBRVt\" => Inf\n",
       "  \"DKAAR2\" => Inf\n",
       "  \"NOKRSt\" => 1000.0\n",
       "  \"DEBRV\"  => 199.0\n",
       "  \"FIRAUt\" => 1000.0\n",
       "  \"NOKRS\"  => Inf\n",
       "  \"DKAARs\" => Inf\n",
       "  \"SEGOT1\" => Inf\n",
       "  \"NOBGOs\" => Inf\n",
       "  \"NOBGO\"  => Inf\n",
       "  \"NOKRSs\" => Inf\n",
       "  \"NOBGOt\" => 1000.0\n",
       "  \"DEBRVs\" => 0.0\n",
       "  \"SEGOTt\" => 1000.0\n",
       "  \"FIRAUs\" => Inf\n",
       "  \"DKAARt\" => 1000.0\n",
       "  \"DKAAR1\" => Inf\n",
       "  \"SEGOTs\" => Inf\n",
       "  \"SEGOT2\" => Inf\n",
       "  \"FIRAU\"  => Inf"
      ]
     },
     "metadata": {},
     "output_type": "display_data"
    }
   ],
   "source": [
    "dist"
   ]
  },
  {
   "cell_type": "code",
   "execution_count": 29,
   "metadata": {},
   "outputs": [
    {
     "name": "stdout",
     "output_type": "stream",
     "text": [
      "(\"DEBRV\", 199.0)(\"DKAARt\", 1000.0)(\"SEGOTt\", 1000.0)(\"FIRAUt\", 1000.0)(\"NOKRSt\", 1000.0)(\"NOBGOt\", 1000.0)"
     ]
    }
   ],
   "source": [
    "for v in adjacency_list[u]\n",
    "    print(v)\n",
    "    alt = dist[u][1] + v[2]\n",
    "\n",
    "    if alt <= dist[v[1]]\n",
    "        print(alt)\n",
    "\n",
    "        println(string(alt), dist[v[1]])\n",
    "        print(sut)\n",
    "        dist[v[1]] = alt\n",
    "        prev[v[1]] = u\n",
    "    end\n",
    "end"
   ]
  },
  {
   "cell_type": "code",
   "execution_count": 31,
   "metadata": {},
   "outputs": [
    {
     "data": {
      "text/plain": [
       "199.0"
      ]
     },
     "metadata": {},
     "output_type": "display_data"
    }
   ],
   "source": [
    "dist[(\"DEBRV\", 199.0)[1]]"
   ]
  },
  {
   "cell_type": "code",
   "execution_count": 25,
   "metadata": {},
   "outputs": [
    {
     "data": {
      "text/plain": [
       "199.0"
      ]
     },
     "metadata": {},
     "output_type": "display_data"
    }
   ],
   "source": [
    "dist[u][1]+(\"DEBRV\", 199.0)[2]"
   ]
  },
  {
   "cell_type": "code",
   "execution_count": null,
   "metadata": {},
   "outputs": [],
   "source": [
    "u = findmin(dist)[2]\n",
    "\n",
    "start = \"DEBRVs\"\n",
    "destination = \"DKAARt\"\n"
   ]
  },
  {
   "cell_type": "code",
   "execution_count": null,
   "metadata": {},
   "outputs": [],
   "source": [
    "Dijkstra(adjacency_list, \"DEBRVs\", \"DKAARt\")"
   ]
  },
  {
   "cell_type": "code",
   "execution_count": null,
   "metadata": {},
   "outputs": [],
   "source": [
    "delete!(Q, u)"
   ]
  },
  {
   "cell_type": "code",
   "execution_count": null,
   "metadata": {},
   "outputs": [],
   "source": [
    "Q"
   ]
  },
  {
   "cell_type": "markdown",
   "metadata": {},
   "source": [
    "Berfore the master problem is formulated, the $c_{y}$ constants are calculated which correspond to the fixed port costs (more might be added later).\n",
    "\n",
    "Moreover, the sum of all paths must be equal to $d_{k}$, in order to fulfill the demand. However later on, a new expensive penalty edge is added which penalizes all the containers that are not delivered to the commodity port."
   ]
  },
  {
   "cell_type": "markdown",
   "metadata": {},
   "source": [
    "As the decision variables, $x_{i,j}$ represent the edges in the liner shipping network (eventually paths), the variables are initialized by pairing the neigbor ports in the services above. Thereby, the master problem is reduced to only respect the strict subset of all feasible patterns i.e. patterns using the generated services."
   ]
  },
  {
   "cell_type": "code",
   "execution_count": null,
   "metadata": {},
   "outputs": [],
   "source": [
    "W=100 # skibe cap\n",
    "cardinalityM=5\n",
    "M=[1:cardinalityM]\n",
    "A=Matrix(I, cardinalityM, cardinalityM)\n",
    "p=zeros(5)\n",
    "b=[45; 38; 25; 11; 12]\n",
    "w=[22; 42; 52; 53; 78]\n",
    "\n",
    "# flowModel = Model() # Model for the master problem\n",
    "# Jprime = 1:size(A, 2) # Initial number of variables\n",
    "# @variable(flowModel, 0 <= x[Jprime] <= 1000000) # Defining the variables\n",
    "# @objective(flowModel, Min, sum(x[j] for j in Jprime)) # Setting the objective\n",
    "# @constraint(flowModel, [i=1:cardinalityM], sum(A[i, j] * x[j] for j in Jprime) == b[i])\n",
    "# print(flowModel)\n",
    "\n",
    "flowModel = Model() # Model for the master problem\n",
    "n_k = size(baltic_demand, 1)\n",
    "k = 1:size(baltic_demand, 1) # Initial number of variables\n",
    "A = Matrix(I, n_k, n_k)\n",
    "@variable(flowModel, x[k] >= 0) # Defining the variables\n",
    "@objective(flowModel, Min, sum(x[j] for j in k)) # Setting the objective\n",
    "@constraint(flowModel, [i=1:n_k], sum(A[i, j] * x[j] for j in k) == d_ij[i])\n",
    ";\n",
    "\n",
    "J = 1_000  # Some large number\n",
    "model = Model(HiGHS.Optimizer)\n",
    "set_silent(model)\n",
    "@variable(model, x[x_ij] >= 0, Int)\n",
    "@variable(model, y[getindex.(c_y, 1)] >= 0, Int)\n",
    ";"
   ]
  }
 ],
 "metadata": {
  "kernelspec": {
   "display_name": "Julia 1.9.3",
   "language": "julia",
   "name": "julia-1.9"
  },
  "language_info": {
   "file_extension": ".jl",
   "mimetype": "application/julia",
   "name": "julia",
   "version": "1.9.3"
  }
 },
 "nbformat": 4,
 "nbformat_minor": 2
}
