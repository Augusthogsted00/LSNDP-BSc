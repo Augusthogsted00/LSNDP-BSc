{
 "cells": [
  {
   "cell_type": "markdown",
   "metadata": {},
   "source": [
    "# Initialization"
   ]
  },
  {
   "cell_type": "code",
   "execution_count": 1,
   "metadata": {},
   "outputs": [],
   "source": [
    "using CSV, DataFrames, JuMP, HiGHS, LinearAlgebra, DataStructures, Statistics\n",
    "baltic_demand = DataFrame(CSV.File(\"/Users/augusthogsted/WD/Bachelor projekt/LINERLIB-master/data/Demand_Baltic.csv\", delim='\\t'))\n",
    "ports = DataFrame(CSV.File(\"/Users/augusthogsted/WD/Bachelor projekt/LINERLIB-master/data/ports.csv\", delim='\\t'))\n",
    "distances = DataFrame(CSV.File(\"/Users/augusthogsted/WD/Bachelor projekt/LINERLIB-master/data/dist_dense.csv\", delim='\\t'))\n",
    "baltic_fleet = DataFrame(CSV.File(\"/Users/augusthogsted/WD/Bachelor projekt/LINERLIB-master/data/fleet_Baltic.csv\", delim='\\t'))\n",
    "fleet_data = DataFrame(CSV.File(\"/Users/augusthogsted/WD/Bachelor projekt/LINERLIB-master/data/fleet_data.csv\", delim='\\t'))\n",
    ";"
   ]
  },
  {
   "cell_type": "code",
   "execution_count": 2,
   "metadata": {},
   "outputs": [],
   "source": [
    "commodities = []\n",
    "for i in 1:size(baltic_demand, 1)\n",
    "    push!(commodities, string(baltic_demand.Origin[i], \"s\", \"|\", baltic_demand.Destination[i], \"t\"))\n",
    "end"
   ]
  },
  {
   "cell_type": "markdown",
   "metadata": {},
   "source": [
    "### Services:\n",
    "\n",
    "The following array contains manual generated services to which the column generation will be applied."
   ]
  },
  {
   "cell_type": "code",
   "execution_count": 3,
   "metadata": {},
   "outputs": [],
   "source": [
    "# services = [[\"Feeder_800\" \"DEBRV\" \"NOKRS\" \"DEBRV\"],\n",
    "#             [\"Feeder_800\" \"RUKGD\" \"FIKTK\" \"RUKGD\"],\n",
    "#             [\"Feeder_450\" \"DEBRV\" \"NOSVG\" \"DEBRV\"],\n",
    "#             [\"Feeder_450\" \"NOAES\" \"NOBGO\" \"NOAES\"],\n",
    "#             [\"Feeder_450\" \"NOKRS\" \"SEGOT\" \"DKAAR\" \"NOKRS\"],\n",
    "#             [\"Feeder_800\" \"DEBRV\" \"SEGOT\" \"DKAAR\" \"DEBRV\"],\n",
    "#             [\"Feeder_450\" \"DEBRV\" \"NOSVG\" \"NOBGO\" \"NOAES\" \"DEBRV\"],\n",
    "#             [\"Feeder_450\" \"SEGOT\" \"DKAAR\" \"PLGDY\" \"RUKGD\" \"SEGOT\"],\n",
    "#             [\"Feeder_450\" \"DEBRV\" \"NOAES\" \"DEBRV\" \"RULED\" \"DEBRV\"],\n",
    "#             [\"Feeder_450\" \"DEBRV\" \"RUKGD\" \"PLGDY\" \"DKAAR\" \"SEGOT\" \"DEBRV\"],\n",
    "#             [\"Feeder_800\" \"PLGDY\" \"RUKGD\" \"RULED\" \"FIKTK\" \"FIRAU\" \"PLGDY\"],\n",
    "#             [\"Feeder_450\" \"PLGDY\" \"RUKGD\" \"FIKTK\" \"RULED\" \"FIRAU\" \"PLGDY\"],\n",
    "#             [\"Feeder_450\" \"NOKRS\" \"SEGOT\" \"DKAAR\" \"PLGDY\" \"RUKGD\" \"PLGDY\" \"DKAAR\" \"SEGOT\" \"NOKRS\"],\n",
    "#             [\"Feeder_800\" \"NOAES\" \"NOBGO\" \"NOSVG\" \"NOKRS\" \"SEGOT\" \"DKAAR\" \"SEGOT\" \"NOKRS\" \"NOSVG\" \"NOBGO\" \"NOAES\"]]\n",
    "\n",
    "# services = [[33.0 2 \"Feeder_800\" \"DEBRV\" \"NOKRS\" \"DEBRV\"],\n",
    "#                 [33.0 2 \"Feeder_800\" \"NOKRS\" \"NOSVG\" \"NOBGO\" \"NOAES\" \"NOKRS\"],\n",
    "#                 [33.0 2 \"Feeder_450\" \"NOKRS\" \"SEGOT\" \"DKAAR\" \"NOKRS\"],\n",
    "#                 [33.0 2 \"Feeder_800\" \"DKAAR\" \"PLGDY\" \"RUKGD\" \"DKAAR\"],\n",
    "#                 [33.0 2 \"Feeder_450\" \"SEGOT\" \"FIRAU\" \"FIKTK\" \"RULED\" \"SEGOT\"]]\n",
    "\n",
    "# services = [[33.0 2 \"Feeder\" \"DEBRV\" \"DKAAR\" \"SEGOT\" \"FIRAU\" \"DEBRV\"],\n",
    "#             [33.0 2 \"Feeder\" \"NOKRS\" \"DKAAR\" \"SEGOT\" \"NOBGO\" \"NOKRS\"]]\n",
    "\n",
    "services = [\n",
    "    [110000 1 \"Feeder_450\" \"DEBRV\" \"NOSVG\" \"NOBGO\" \"NOAES\" \"DEBRV\"],\n",
    "    [100000 1 \"Feeder_450\" \"DEBRV\" \"RUKGD\" \"FIKTK\" \"FIRAU\" \"PLGDY\" \"DEBRV\"],\n",
    "    [90000 1 \"Feeder_450\" \"DEBRV\" \"DKAAR\" \"SEGOT\" \"NOKRS\" \"DEBRV\"],\n",
    "    [970000 1 \"Feeder_800\" \"DEBRV\" \"SEGOT\" \"RULED\" \"DEBRV\"]\n",
    "]\n",
    "\n",
    "\n",
    "# Initialize an empty Set to store unique ports\n",
    "service_ports = []\n",
    "# Iterate through the subarrays and add the unique ports to the set\n",
    "for service in services\n",
    "    for port in service[4:end]\n",
    "        push!(service_ports, port)\n",
    "    end\n",
    "end\n",
    "service_ports = unique(service_ports);\n"
   ]
  },
  {
   "cell_type": "code",
   "execution_count": 4,
   "metadata": {},
   "outputs": [],
   "source": [
    "# List of ports that have intersecting service\n",
    "intersect_ports = []\n",
    "for i in 1:length(services)\n",
    "    for j in i+1:length(services)\n",
    "        push!(intersect_ports, intersect([[row[4:end]...] for row in services][i], [[row[4:end]...] for row in services][j]))\n",
    "    end\n",
    "end\n",
    "intersect_ports = collect(Set(i for j in intersect_ports for i in j)); # Collecting unique transshipment nodes\n",
    "\n",
    "# Adding transshipment nodes where services intersect\n",
    "services_w_transshipment = []\n",
    "transshipment_nodes = []\n",
    "i = 1\n",
    "for service in services\n",
    "    updated_service = []\n",
    "    for port in service\n",
    "        if port in intersect_ports\n",
    "            push!(updated_service, port * string(i)) # vi behøves i realiteten ikke at update vores serivces\n",
    "            push!(transshipment_nodes, port * string(i))\n",
    "        else\n",
    "            push!(updated_service, port)\n",
    "        end\n",
    "    end\n",
    "    push!(services_w_transshipment, updated_service)\n",
    "    i += 1\n",
    "end\n",
    "transshipment_nodes = unique(transshipment_nodes);"
   ]
  },
  {
   "cell_type": "code",
   "execution_count": 5,
   "metadata": {},
   "outputs": [],
   "source": [
    "# Source and terminal adjacency list\n",
    "s_t_adj = []\n",
    "for port in service_ports\n",
    "    for node in transshipment_nodes\n",
    "        if port == node[1:5]\n",
    "            push!(s_t_adj, [string(port, \"s\"), node, parse.(Float64, ports[ports.UNLocode .== port, 9][1])  + ports[ports.UNLocode .== port, 12][1]])\n",
    "            push!(s_t_adj, [node, string(port, \"t\"), parse.(Float64, ports[ports.UNLocode .== port, 9][1]) + ports[ports.UNLocode .== port, 12][1]])\n",
    "        end\n",
    "    end\n",
    "    if port ∉ intersect_ports\n",
    "        push!(s_t_adj, [string(port, \"s\"), port, parse.(Float64, ports[ports.UNLocode .== port, 9][1])])\n",
    "        push!(s_t_adj, [port, string(port, \"t\"), parse.(Float64, ports[ports.UNLocode .== port, 9][1])])\n",
    "    end\n",
    "end\n",
    "\n",
    "# Transshipment nodes adjacency list\n",
    "transshipment_adj = []\n",
    "for node in intersect_ports, i in transshipment_nodes, j in transshipment_nodes\n",
    "    if j!=i && contains(i, node) && contains(j, node)\n",
    "        push!(transshipment_adj, [i, j, parse.(Float64, ports[ports.UNLocode .== node, 10][1])]) # Skal vi også have move omkostninger med, da vi skal load og disch?\n",
    "    end\n",
    "end\n",
    "\n",
    "# Service ports adjacency list\n",
    "ports_adj = []\n",
    "test = []\n",
    "for service in 1:length(services_w_transshipment)\n",
    "    for port in 5:length(services_w_transshipment[service]) # Hvad gør vi med port call omkostninger?\n",
    "        push!(ports_adj, [services_w_transshipment[service][port-1], services_w_transshipment[service][port], 0.0]) # ports[ports.UNLocode .== services_w_transshipment[service][port][1:5], 12][1]]\n",
    "    end\n",
    "end\n",
    "\n",
    "# Penalty edges adjacency list\n",
    "penalty_adj = []\n",
    "for k in 1:size(baltic_demand,1)\n",
    "    push!(penalty_adj, [string(baltic_demand.Origin[k], \"s\"), string(baltic_demand.Destination[k], \"t\"), 1000])\n",
    "end\n",
    "\n",
    "dummy_adj = []\n",
    "for port in 1:length(service_ports)\n",
    "    push!(dummy_adj, [string(service_ports[port], \"t\"), nothing, 0.0])\n",
    "end\n",
    "\n",
    "edges = vcat(s_t_adj, transshipment_adj, ports_adj, penalty_adj, dummy_adj);"
   ]
  },
  {
   "cell_type": "code",
   "execution_count": 6,
   "metadata": {},
   "outputs": [
    {
     "data": {
      "text/plain": [
       "get_G (generic function with 1 method)"
      ]
     },
     "metadata": {},
     "output_type": "display_data"
    }
   ],
   "source": [
    "function get_G(edges)\n",
    "    # Create an empty adjacency list\n",
    "    graph = Dict{String, Vector{Tuple{Any, Float64}}}()  # Use Tuple to store (target, VC)\n",
    "    #graph = Dict{String, Vector{Tuple{String, Float64}}}()  # Use Tuple to store (target, VC)\n",
    "\n",
    "    # Populate the adjacency list\n",
    "    for edge in edges\n",
    "        source, target, weight = edge\n",
    "        if haskey(graph, source)\n",
    "            push!(graph[source], (target, weight))\n",
    "        else\n",
    "            graph[source] = [(target, weight)]\n",
    "        end\n",
    "    end\n",
    "\n",
    "    return graph\n",
    "end"
   ]
  },
  {
   "cell_type": "code",
   "execution_count": 7,
   "metadata": {},
   "outputs": [
    {
     "data": {
      "text/plain": [
       "dijkstra (generic function with 1 method)"
      ]
     },
     "metadata": {},
     "output_type": "display_data"
    }
   ],
   "source": [
    "function dijkstra(G, source, destination) # HUSK DUAL VARIABLES\n",
    "    dist = Dict{Any, Float64}()\n",
    "    prev = Dict{Any, Any}()\n",
    "    Q = Set(keys(G))\n",
    "\n",
    "    for v in Q\n",
    "        dist[v] = Inf\n",
    "        prev[v] = nothing\n",
    "    end\n",
    "\n",
    "    dist[source] = 0.0\n",
    "\n",
    "    while !isempty(Q)\n",
    "        min_value = Inf\n",
    "        min_key = string()\n",
    "        for i in Q\n",
    "            if dist[i] <= min_value\n",
    "                min_value = dist[i]\n",
    "                min_key = i\n",
    "            end\n",
    "        end\n",
    "        u = min_key\n",
    "\n",
    "        if dist[u] == Inf\n",
    "            break\n",
    "        end\n",
    "        if u == destination\n",
    "            break\n",
    "        end\n",
    "        \n",
    "        delete!(Q, u)\n",
    "\n",
    "        for v in G[u]\n",
    "            if haskey(G, v[1])\n",
    "                alt = dist[u] + v[2]\n",
    "                if alt < dist[v[1]]\n",
    "                    dist[v[1]] = alt\n",
    "                    prev[v[1]] = u\n",
    "                end\n",
    "            else\n",
    "                break\n",
    "            end\n",
    "        end\n",
    "    end\n",
    "\n",
    "    S = []\n",
    "    u = destination\n",
    "    push!(S, u)\n",
    "\n",
    "    while prev[u] != nothing\n",
    "        push!(S, u)\n",
    "        u = prev[u]\n",
    "    end\n",
    "    push!(S, source)\n",
    "    \n",
    "    return reverse(S[2:end]), dist[destination]\n",
    "end\n"
   ]
  },
  {
   "cell_type": "markdown",
   "metadata": {},
   "source": [
    "## Flowproblem"
   ]
  },
  {
   "cell_type": "markdown",
   "metadata": {},
   "source": [
    "### Initialization"
   ]
  },
  {
   "cell_type": "code",
   "execution_count": 8,
   "metadata": {},
   "outputs": [],
   "source": [
    "current_paths = []\n",
    "current_costs = []\n",
    "current_commodities = []\n",
    ";"
   ]
  },
  {
   "cell_type": "markdown",
   "metadata": {},
   "source": [
    "## Basis"
   ]
  },
  {
   "cell_type": "code",
   "execution_count": 9,
   "metadata": {},
   "outputs": [],
   "source": [
    "# Bases med penalty edges\n",
    "for i in 1:length(penalty_adj)\n",
    "    push!(current_paths, penalty_adj[i][1:2])\n",
    "    push!(current_costs, penalty_adj[i][3])\n",
    "    append!(current_commodities, i)\n",
    "end\n",
    "\n",
    "# Initializing parameters\n",
    "n_k = size(baltic_demand.Origin, 1) # Number of commodities\n",
    "K = 1:n_k\n",
    "\n",
    "n_s = size(services_w_transshipment, 1) # Number of services\n",
    "S = 1:n_s\n",
    "\n",
    "n_ff = size(penalty_adj, 1) # Number of penalty edges\n",
    "ff = 1:n_ff\n",
    "index_ff = 1:n_k # Index of ff paths - Could be hard coded\n",
    "\n",
    "n_p = size(current_paths, 1) # Number of paths\n",
    "P = 1:n_p\n",
    "index_p = n_k+1:n_p  # Index of non-ff paths - Could be hardcoded\n",
    "\n",
    "n_mv = size(baltic_fleet, 1)\n",
    "v = 1:n_mv\n",
    ";"
   ]
  },
  {
   "cell_type": "code",
   "execution_count": 10,
   "metadata": {},
   "outputs": [],
   "source": [
    "# Initial base including penalty edges\n",
    "PK = Matrix{Float64}(undef, n_k, 0) # Type of commodity for each path\n",
    "mvs = Matrix{Float64}(undef, n_mv, 0) # Type of vessel on each commodity\n",
    "\n",
    "for i in P\n",
    "    pk = zeros(Float64, n_k)\n",
    "    pk[findall(x -> x == string(current_paths[i][1], \"|\", current_paths[i][end]), commodities)[1]] = 1\n",
    "    PK = [PK pk]\n",
    "end\n",
    "\n",
    "for i in services\n",
    "    mv = zeros(Float64, n_mv)\n",
    "    mv[findall(x -> x == i[3], baltic_fleet.\"Vessel class\")[1]] = 1\n",
    "    mvs = [mvs mv]\n",
    "end\n",
    "\n",
    "# Edges with capacity constraint\n",
    "i_j = []\n",
    "for edge in edges\n",
    "    if edge ∈ (penalty_adj ∪ dummy_adj)\n",
    "        break\n",
    "    end\n",
    "    push!(i_j, string(edge[1], \"|\", edge[2]))\n",
    "end\n",
    "\n",
    "n_ij = size(i_j, 1) # Number of edges\n",
    "ij = 1:n_ij # Range of edges\n",
    ";"
   ]
  },
  {
   "cell_type": "markdown",
   "metadata": {},
   "source": [
    "### Actual problem"
   ]
  },
  {
   "cell_type": "code",
   "execution_count": 11,
   "metadata": {},
   "outputs": [
    {
     "name": "stdout",
     "output_type": "stream",
     "text": [
      "Running HiGHS 1.6.0: Copyright (c) 2023 HiGHS under MIT licence terms\n",
      "Presolving model\n",
      "0 rows, 0 cols, 0 nonzeros\n",
      "0 rows, 0 cols, 0 nonzeros\n",
      "Presolve : Reductions: rows 0(-24); columns 0(-26); elements 0(-26) - Reduced to empty\n",
      "Solving the original LP from the solution after postsolve\n",
      "Model   status      : Optimal\n",
      "Objective value     :  4.9040000000e+06\n",
      "HiGHS run time      :          0.00\n"
     ]
    }
   ],
   "source": [
    "flowModel = Model(HiGHS.Optimizer)\n",
    "@variable(flowModel, x[P] >= 0)\n",
    "@variable(flowModel, 0 <= y[S] <= 1)\n",
    "@objective(flowModel, Min, sum(services_w_transshipment[i][1]*y[i] for i in S) + sum(current_costs[j]*x[j] for j in P))\n",
    "@constraint(flowModel, Y_k[i=1:n_k], sum(PK[i, j] * x[j] for j in P) == baltic_demand.FFEPerWeek[i]) # Paths for commodity k ∈ K\n",
    "@constraint(flowModel, M_v[i=1:n_mv], sum(mvs[i, j] * y[j] for j in S) <= baltic_fleet.Quantity[i])\n",
    "#print(flowModel)\n",
    "optimize!(flowModel)\n",
    "#solution_summary(flowModel)\n",
    ";"
   ]
  },
  {
   "cell_type": "code",
   "execution_count": 12,
   "metadata": {},
   "outputs": [
    {
     "data": {
      "text/plain": [
       "1-element Vector{Float64}:\n",
       " -1.0"
      ]
     },
     "metadata": {},
     "output_type": "display_data"
    }
   ],
   "source": [
    "# Initial paths including shortest path for all commodities and activated penalty edges\n",
    "aij = Matrix{Float64}(undef, n_ij, 0) # 1 if path p for commodity k uses edge (i,j), else 0\n",
    "uij = Matrix{Float64}(undef, n_ij, 0) # vessel capacity if service s uses edge (i,j), else 0\n",
    "PK = Matrix{Float64}(undef, n_k, 0) # Type of commodity for each path\n",
    "\n",
    "for i in 1:length(services_w_transshipment)\n",
    "    us = zeros(Float64, n_ij)\n",
    "    for j in 5:length(services_w_transshipment[i])\n",
    "        us[findall(x -> x == string(services_w_transshipment[i][j-1], \"|\", services_w_transshipment[i][j]), i_j)[1]] = fleet_data[fleet_data.\"Vessel class\" .== services_w_transshipment[i][3], 2][1]\n",
    "        us[findall(x -> x == string(services_w_transshipment[i][j-1], \"|\", services_w_transshipment[i][j-1][1:5], \"t\"), i_j)[1]] = fleet_data[fleet_data.\"Vessel class\" .== services_w_transshipment[i][3], 2][1]\n",
    "        us[findall(x -> x == string(services_w_transshipment[i][j-1][1:5], \"s\", \"|\", services_w_transshipment[i][j-1]), i_j)[1]] = fleet_data[fleet_data.\"Vessel class\" .== services_w_transshipment[i][3], 2][1]\n",
    "    end\n",
    "    uij = [uij us]\n",
    "end\n",
    "\n",
    "for i in 1:length(current_paths)\n",
    "    pk = zeros(Float64, n_k)\n",
    "    pk[findall(x -> x == string(current_paths[i][1], \"|\", current_paths[i][end]), commodities)[1]] = 1\n",
    "    PK = [PK pk]\n",
    "end\n",
    "\n",
    "dual_Y_k = [dual(flowModel[:Y_k][i]) for i in K] # Dual variables for commodities at iteration 1 \n",
    "dual_Y_ij = zeros(Float64, length(edges)) # Dual variables for edges at iteration 1 \n",
    "reduced_cost = [-1.0]\n",
    "\n",
    "    "
   ]
  },
  {
   "cell_type": "code",
   "execution_count": 13,
   "metadata": {},
   "outputs": [
    {
     "data": {
      "text/plain": [
       "true"
      ]
     },
     "metadata": {},
     "output_type": "display_data"
    }
   ],
   "source": [
    "any(reduced_cost .< 0)"
   ]
  },
  {
   "cell_type": "code",
   "execution_count": 40,
   "metadata": {},
   "outputs": [
    {
     "name": "stdout",
     "output_type": "stream",
     "text": [
      "[-134.5, 0.0, 0.0, -97.5, 0.0, -141.44444444444446, -134.5, 0.0, -141.44444444444446, -141.44444444444446, -134.5, 0.0, -141.44444444444446, 0.0, -134.5, -169.0, 0.0, -134.5, 0.0, -56.94444444444446, 0.0, -103.0]\n",
      "Running HiGHS 1.6.0: Copyright (c) 2023 HiGHS under MIT licence terms\n",
      "Presolving model\n",
      "64 rows, 49 cols, 205 nonzeros\n",
      "42 rows, 30 cols, 120 nonzeros\n",
      "42 rows, 30 cols, 120 nonzeros\n",
      "Presolve : Reductions: rows 42(-44); columns 30(-124); elements 120(-746)\n",
      "Solving the presolved LP\n",
      "Using EKK dual simplex solver - serial\n",
      "  Iteration        Objective     Infeasibilities num(sum)\n",
      "          0     0.0000000000e+00 Ph1: 0(0) 0s\n",
      "         14     4.0583514444e+06 Pr: 0(0) 0s\n",
      "Solving the original LP from the solution after postsolve\n",
      "Model   status      : Optimal\n",
      "Simplex   iterations: 14\n",
      "Objective value     :  4.0583514444e+06\n",
      "HiGHS run time      :          0.00\n",
      "hey"
     ]
    },
    {
     "name": "stdout",
     "output_type": "stream",
     "text": [
      "\n"
     ]
    }
   ],
   "source": [
    "\n",
    "#while any(reduced_cost .< 0)\n",
    "# Initializing feasible paths\n",
    "candidate_paths = []\n",
    "candidate_costs = []\n",
    "candidate_commodities = []\n",
    "\n",
    "# Setting up new network with reduced cost\n",
    "edges_w_dual = deepcopy(edges)\n",
    "for i in 1:length(edges_w_dual)\n",
    "    edges_w_dual[i][3] = edges_w_dual[i][3] - dual_Y_ij[i]\n",
    "end\n",
    "\n",
    "for i in 1:size(baltic_demand, 1)\n",
    "    path, cost = dijkstra(get_G(edges_w_dual), string(baltic_demand.Origin[i],\"s\"), string(baltic_demand.Destination[i],\"t\"))\n",
    "    push!(candidate_paths, path)\n",
    "    push!(candidate_costs, cost)\n",
    "    append!(candidate_commodities, i)\n",
    "end\n",
    "\n",
    "reduced_cost = candidate_costs - dual_Y_k\n",
    "println(reduced_cost)\n",
    "\n",
    "for i in 1:length(candidate_paths[reduced_cost .< 0])\n",
    "    ak = zeros(Float64, n_ij)\n",
    "    for j in 2:length(candidate_paths[reduced_cost .< 0][i])\n",
    "        ak[findall(x -> x == string(candidate_paths[reduced_cost .< 0][i][j-1], \"|\", candidate_paths[reduced_cost .< 0][i][j]), i_j)[1]] = 1\n",
    "    end\n",
    "    aij = [aij ak]\n",
    "    push!(current_paths, candidate_paths[reduced_cost .< 0][i])\n",
    "    push!(current_costs, candidate_costs[reduced_cost .< 0][i])\n",
    "    append!(current_commodities, findall(x -> x == string(candidate_paths[reduced_cost .< 0][i][1], \"|\", candidate_paths[reduced_cost .< 0][i][end]), commodities)[1])\n",
    "end\n",
    "\n",
    "for i in 1:length(candidate_paths[reduced_cost .< 0])\n",
    "    pk = zeros(Float64, n_k)\n",
    "    pk[findall(x -> x == string(candidate_paths[reduced_cost .< 0][i][1], \"|\", candidate_paths[reduced_cost .< 0][i][end]), commodities)[1]] = 1\n",
    "    PK = [PK pk]\n",
    "end\n",
    "\n",
    "P = 1:length(current_paths)\n",
    "A = 1:size(aij, 2)\n",
    "\n",
    "flowModel = Model(HiGHS.Optimizer)\n",
    "@variable(flowModel, x[P] >= 0)\n",
    "@variable(flowModel, 0 <= y[S] <= 1)\n",
    "@objective(flowModel, Min, sum(services_w_transshipment[i][1]*y[i] for i in S) + sum(current_costs[j]*x[j] for j in P))\n",
    "@constraint(flowModel, Y_ij[i=1:n_ij], sum(aij[i, j] * x[j+n_ff] for j in A) <= sum(uij[i, j] * y[j] for j in S)) # Paths that uses edge ij\n",
    "@constraint(flowModel, Y_k[i=1:n_k], sum(PK[i, j] * x[j] for j in P) == baltic_demand.FFEPerWeek[i]) # Paths for commodity k ∈ K\n",
    "@constraint(flowModel, M_v[i=1:n_mv], sum(mvs[i, j] * y[j] for j in S) <= baltic_fleet.Quantity[i])\n",
    "optimize!(flowModel)\n",
    "\n",
    "dual_Y_k = [dual(flowModel[:Y_k][i]) for i in K]\n",
    "dual_Y_ij = [dual(flowModel[:Y_ij][i]) for i in ij]\n",
    "append!(dual_Y_ij, zeros(Float64, length(penalty_adj) + length(dummy_adj)))\n",
    "println(\"hey\")\n",
    "#end\n",
    "\n",
    "\n",
    "\n",
    "\n",
    "# primal_x = value.(x[P])\n",
    "# primal_y = value.(y[S])\n",
    "\n"
   ]
  },
  {
   "cell_type": "code",
   "execution_count": 30,
   "metadata": {},
   "outputs": [
    {
     "data": {
      "text/plain": [
       "14-element Vector{Any}:\n",
       " 22\n",
       "  1\n",
       "  4\n",
       "  6\n",
       "  7\n",
       "  9\n",
       " 10\n",
       " 11\n",
       " 13\n",
       " 15\n",
       " 16\n",
       " 18\n",
       " 20\n",
       " 22"
      ]
     },
     "metadata": {},
     "output_type": "display_data"
    }
   ],
   "source": [
    "current_commodities[111:end]"
   ]
  },
  {
   "cell_type": "code",
   "execution_count": 35,
   "metadata": {},
   "outputs": [
    {
     "data": {
      "text/plain": [
       "62-element Vector{Any}:\n",
       " \"DEBRVs|DEBRV1\"\n",
       " \"DEBRV1|DEBRVt\"\n",
       " \"DEBRVs|DEBRV2\"\n",
       " \"DEBRV2|DEBRVt\"\n",
       " \"DEBRVs|DEBRV3\"\n",
       " \"DEBRV3|DEBRVt\"\n",
       " \"DEBRVs|DEBRV4\"\n",
       " \"DEBRV4|DEBRVt\"\n",
       " \"NOSVGs|NOSVG\"\n",
       " \"NOSVG|NOSVGt\"\n",
       " ⋮\n",
       " \"FIRAU|PLGDY\"\n",
       " \"PLGDY|DEBRV2\"\n",
       " \"DEBRV3|DKAAR\"\n",
       " \"DKAAR|SEGOT3\"\n",
       " \"SEGOT3|NOKRS\"\n",
       " \"NOKRS|DEBRV3\"\n",
       " \"DEBRV4|SEGOT4\"\n",
       " \"SEGOT4|RULED\"\n",
       " \"RULED|DEBRV4\""
      ]
     },
     "metadata": {},
     "output_type": "display_data"
    }
   ],
   "source": [
    "i_j"
   ]
  },
  {
   "cell_type": "markdown",
   "metadata": {},
   "source": [
    "Berfore the master problem is formulated, the $c_{y}$ constants are calculated which correspond to the fixed port costs (more might be added later).\n",
    "\n",
    "Moreover, the sum of all paths must be equal to $d_{k}$, in order to fulfill the demand. However later on, a new expensive penalty edge is added which penalizes all the containers that are not delivered to the commodity port."
   ]
  },
  {
   "cell_type": "markdown",
   "metadata": {},
   "source": [
    "As the decision variables, $x_{i,j}$ represent the edges in the liner shipping network (eventually paths), the variables are initialized by pairing the neigbor ports in the services above. Thereby, the master problem is reduced to only respect the strict subset of all feasible patterns i.e. patterns using the generated services."
   ]
  },
  {
   "cell_type": "code",
   "execution_count": null,
   "metadata": {},
   "outputs": [],
   "source": [
    "# edges with capacity constraint\n",
    "i_j = []\n",
    "for edge in edges\n",
    "    if edge ∈ (penalty_adj ∪ dummy_adj)\n",
    "        break\n",
    "    end\n",
    "    push!(i_j, string(edge[1], \"|\", edge[2]))\n",
    "end\n",
    "\n",
    "# Paths and costs from shortest path\n",
    "for i in 1:size(baltic_demand, 1)\n",
    "    path, cost = dijkstra(get_G(edges), string(baltic_demand.Origin[i],\"s\"), string(baltic_demand.Destination[i],\"t\"))\n",
    "    push!(current_paths, path)\n",
    "    push!(current_costs, cost)\n",
    "    append!(current_commodity, i)\n",
    "end\n",
    "\n",
    "# Initializing parameters\n",
    "n_k = size(baltic_demand.Origin, 1) # Number of commodities\n",
    "K = 1:n_k\n",
    "\n",
    "n_s = size(services_w_transshipment, 1) # Number of services\n",
    "S = 1:n_s\n",
    "\n",
    "n_ff = size(penalty_adj, 1) # Number of penalty edges\n",
    "ff = 1:n_ff\n",
    "index_ff = 1:n_k # Index of ff paths - Could be hard coded\n",
    "\n",
    "n_p = size(current_paths, 1) # Number of paths\n",
    "P = 1:n_p\n",
    "index_p = n_k+1:n_p  # Index of non-ff paths - Could be hardcoded\n",
    "\n",
    "n_ij = size(i_j, 1) # Number of edges\n",
    "ij = 1:n_ij # Range of edges\n",
    "\n",
    "n_mv = size(baltic_fleet, 1)\n",
    "v = 1:n_mv\n",
    ";"
   ]
  },
  {
   "cell_type": "code",
   "execution_count": null,
   "metadata": {},
   "outputs": [],
   "source": [
    "# Initial paths including shortest path for all commodities and activated penalty edges\n",
    "aij = Matrix{Float64}(undef, n_ij, 0) # 1 if path p for commodity k uses edge (i,j), else 0\n",
    "uij = Matrix{Float64}(undef, n_ij, 0) # vessel capacity if service s uses edge (i,j), else 0\n",
    "\n",
    "for i in index_p\n",
    "    ak = zeros(Float64, n_ij)\n",
    "    for j in 2:length(paths[i])\n",
    "        ak[findall(x -> x == string(paths[i][j-1], \"|\", paths[i][j]), i_j)[1]] = 1\n",
    "    end\n",
    "    aij = [aij ak]\n",
    "end\n",
    "\n",
    "\n",
    "for i in 1:length(services_w_transshipment)\n",
    "    us = zeros(Float64, n_ij)\n",
    "    for j in 5:length(services_w_transshipment[i])\n",
    "        us[findall(x -> x == string(services_w_transshipment[i][j-1], \"|\", services_w_transshipment[i][j]), i_j)[1]] = fleet_data[fleet_data.\"Vessel class\" .== services_w_transshipment[i][3], 2][1]\n",
    "        us[findall(x -> x == string(services_w_transshipment[i][j-1], \"|\", services_w_transshipment[i][j-1][1:5], \"t\"), i_j)[1]] = fleet_data[fleet_data.\"Vessel class\" .== services_w_transshipment[i][3], 2][1]\n",
    "        us[findall(x -> x == string(services_w_transshipment[i][j-1][1:5], \"s\", \"|\", services_w_transshipment[i][j-1]), i_j)[1]] = fleet_data[fleet_data.\"Vessel class\" .== services_w_transshipment[i][3], 2][1]\n",
    "    end\n",
    "    uij = [uij us]\n",
    "end\n",
    "\n"
   ]
  },
  {
   "cell_type": "code",
   "execution_count": null,
   "metadata": {},
   "outputs": [],
   "source": [
    "flowModel = Model(HiGHS.Optimizer)\n",
    "@variable(flowModel, x[P] >= 0)\n",
    "@variable(flowModel, 0 <= y[S] <= 1)\n",
    "@objective(flowModel, Min, sum(services_w_transshipment[i][1]*y[i] for i in S) + sum(costs[j]*x[j] for j in P))\n",
    "#@constraint(flowModel, Y_ij[i=1:n_ij], sum(aij[i, j] * x[j+n_ff] for j in K) <= sum(uij[i, j] * y[j] for j in S)) # Paths that uses edge ij\n",
    "@constraint(flowModel, Y_k[i=1:n_k], sum(PK[i, j] * x[j] for j in P) == baltic_demand.FFEPerWeek[i]) # Paths for commodity k ∈ K\n",
    "@constraint(flowModel, M_v[i=1:n_mv], sum(mvs[i, j] * y[j] for j in S) <= baltic_fleet.Quantity[i])\n",
    "print(flowModel)\n",
    "optimize!(flowModel)\n",
    "#solution_summary(flowModel)\n",
    ";"
   ]
  }
 ],
 "metadata": {
  "kernelspec": {
   "display_name": "Julia 1.9.3",
   "language": "julia",
   "name": "julia-1.9"
  },
  "language_info": {
   "file_extension": ".jl",
   "mimetype": "application/julia",
   "name": "julia",
   "version": "1.9.3"
  }
 },
 "nbformat": 4,
 "nbformat_minor": 2
}
